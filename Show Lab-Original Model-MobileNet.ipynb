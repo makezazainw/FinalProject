{
  "nbformat": 4,
  "nbformat_minor": 0,
  "metadata": {
    "colab": {
      "name": "Final Project.ipynb",
      "provenance": [],
      "collapsed_sections": [],
      "include_colab_link": true
    },
    "kernelspec": {
      "name": "python3",
      "display_name": "Python 3"
    },
    "accelerator": "GPU"
  },
  "cells": [
    {
      "cell_type": "markdown",
      "metadata": {
        "id": "view-in-github",
        "colab_type": "text"
      },
      "source": [
        "<a href=\"https://colab.research.google.com/github/makezazainw/FinalProject/blob/master/Show%20Lab-Original%20Model-MobileNet.ipynb\" target=\"_parent\"><img src=\"https://colab.research.google.com/assets/colab-badge.svg\" alt=\"Open In Colab\"/></a>"
      ]
    },
    {
      "cell_type": "markdown",
      "metadata": {
        "id": "HYtRYzbH6j8i"
      },
      "source": [
        "**Install Kaggle**"
      ]
    },
    {
      "cell_type": "code",
      "metadata": {
        "id": "A1xFzv82hg55",
        "outputId": "e48bf404-80ef-4940-b117-2cb8505f564f",
        "colab": {
          "base_uri": "https://localhost:8080/",
          "height": 134
        }
      },
      "source": [
        "# Install Kaggle API\n",
        "!pip install -q kaggle\n",
        "!pip install -q kaggle-cli"
      ],
      "execution_count": 1,
      "outputs": [
        {
          "output_type": "stream",
          "text": [
            "\u001b[K     |████████████████████████████████| 81kB 2.6MB/s \n",
            "\u001b[K     |████████████████████████████████| 5.3MB 4.6MB/s \n",
            "\u001b[K     |████████████████████████████████| 143kB 42.4MB/s \n",
            "\u001b[K     |████████████████████████████████| 112kB 42.6MB/s \n",
            "\u001b[K     |████████████████████████████████| 51kB 6.0MB/s \n",
            "\u001b[?25h  Building wheel for kaggle-cli (setup.py) ... \u001b[?25l\u001b[?25hdone\n",
            "  Building wheel for pyperclip (setup.py) ... \u001b[?25l\u001b[?25hdone\n"
          ],
          "name": "stdout"
        }
      ]
    },
    {
      "cell_type": "markdown",
      "metadata": {
        "id": "cV3qDwDx6p79"
      },
      "source": [
        "**Call file from Json for use Kaggle Dataset**\n",
        "\n"
      ]
    },
    {
      "cell_type": "code",
      "metadata": {
        "id": "pYMNgAl6hg8S"
      },
      "source": [
        "# only for google colab\n",
        "import os\n",
        "os.environ['KAGGLE_USERNAME'] = \"thammatattantipitham\" \n",
        "os.environ['KAGGLE_KEY'] = \"3cf826ab97707228fb1602519992740b\""
      ],
      "execution_count": 3,
      "outputs": []
    },
    {
      "cell_type": "code",
      "metadata": {
        "id": "q7lFIo5lhg-r",
        "outputId": "cd662072-e374-46da-a79d-cd79aa1b60d4",
        "colab": {
          "base_uri": "https://localhost:8080/",
          "height": 67
        }
      },
      "source": [
        "!kaggle datasets download -d thammatattantipitham/originalthaiherb --unzip"
      ],
      "execution_count": 4,
      "outputs": [
        {
          "output_type": "stream",
          "text": [
            "Downloading originalthaiherb.zip to /content\n",
            " 60% 9.00M/15.0M [00:01<00:00, 7.59MB/s]\n",
            "100% 15.0M/15.0M [00:01<00:00, 10.0MB/s]\n"
          ],
          "name": "stdout"
        }
      ]
    },
    {
      "cell_type": "markdown",
      "metadata": {
        "id": "b2ZbQ75H7EtT"
      },
      "source": [
        "**Move to Directory thai-herb**"
      ]
    },
    {
      "cell_type": "code",
      "metadata": {
        "id": "JqgFPbWBhhBI"
      },
      "source": [
        "!mkdir originalthaiherb\n",
        "!mv  \"train\" \"val\" originalthaiherb"
      ],
      "execution_count": 5,
      "outputs": []
    },
    {
      "cell_type": "markdown",
      "metadata": {
        "id": "XcdGYThk7LhC"
      },
      "source": [
        "**Start**"
      ]
    },
    {
      "cell_type": "code",
      "metadata": {
        "id": "wep6meUChhDQ",
        "outputId": "eaf1d570-2021-45bf-909b-39abf3b753c7",
        "colab": {
          "base_uri": "https://localhost:8080/",
          "height": 35
        }
      },
      "source": [
        "import sys\n",
        "import time\n",
        "import cv2\n",
        "import numpy as np\n",
        "from matplotlib import pyplot as plt\n",
        "import tensorflow as tf\n",
        "import os\n",
        "import keras\n",
        "\n",
        "from skimage.transform import resize\n",
        "from sklearn.model_selection import train_test_split\n",
        "\n",
        "from tensorflow.python.keras.utils import np_utils\n",
        "from tensorflow.python.keras.models import Sequential, Model\n",
        "from tensorflow.python.keras.layers import Dense, Dropout, Flatten, Activation, BatchNormalization\n",
        "from tensorflow.python.keras.layers.convolutional import Conv2D, MaxPooling2D, AveragePooling2D\n",
        "from tensorflow.python.keras.preprocessing.image import ImageDataGenerator\n",
        "from tensorflow.python.keras.optimizers import RMSprop\n",
        "from tensorflow.python.keras.applications.vgg19 import VGG19\n",
        "from tensorflow.python.keras.applications.mobilenet import MobileNet\n",
        "from tensorflow.keras.applications.resnet50 import ResNet50, preprocess_input\n",
        "from tensorflow.keras.optimizers import Adam\n",
        "from keras.applications import InceptionV3\n",
        "sys.version"
      ],
      "execution_count": 6,
      "outputs": [
        {
          "output_type": "execute_result",
          "data": {
            "application/vnd.google.colaboratory.intrinsic+json": {
              "type": "string"
            },
            "text/plain": [
              "'3.6.9 (default, Jul 17 2020, 12:50:27) \\n[GCC 8.4.0]'"
            ]
          },
          "metadata": {
            "tags": []
          },
          "execution_count": 6
        }
      ]
    },
    {
      "cell_type": "code",
      "metadata": {
        "id": "oPHYCQQGkqox",
        "outputId": "f33da028-c38b-46dc-bbc8-3aaf92b7cdbc",
        "colab": {
          "base_uri": "https://localhost:8080/",
          "height": 101
        }
      },
      "source": [
        "from tensorflow.compat.v1.keras.backend import set_session\n",
        "\n",
        "config = tf.compat.v1.ConfigProto()\n",
        "\n",
        "config.gpu_options.allow_growth = True  # dynamically grow the memory used on the GPU\n",
        "\n",
        "config.log_device_placement = True  # to log device placement (on which device the operation ran)\n",
        "\n",
        "sess = tf.compat.v1.Session(config=config)\n",
        "\n",
        "set_session(sess)"
      ],
      "execution_count": 7,
      "outputs": [
        {
          "output_type": "stream",
          "text": [
            "Device mapping:\n",
            "/job:localhost/replica:0/task:0/device:XLA_CPU:0 -> device: XLA_CPU device\n",
            "/job:localhost/replica:0/task:0/device:XLA_GPU:0 -> device: XLA_GPU device\n",
            "/job:localhost/replica:0/task:0/device:GPU:0 -> device: 0, name: Tesla P100-PCIE-16GB, pci bus id: 0000:00:04.0, compute capability: 6.0\n",
            "\n"
          ],
          "name": "stdout"
        }
      ]
    },
    {
      "cell_type": "code",
      "metadata": {
        "id": "8j7CwOUNkqsX"
      },
      "source": [
        "DATASET_PATH  = 'originalthaiherb/'\n",
        "IMAGE_SIZE    = (224, 224)\n",
        "NUM_CLASSES   = 10\n",
        "BATCH_SIZE    = 32  # try reducing batch size or freeze more layers if your GPU runs out of memory\n",
        "epochs    = 200"
      ],
      "execution_count": 8,
      "outputs": []
    },
    {
      "cell_type": "code",
      "metadata": {
        "id": "Lwe4FTL7kq4X"
      },
      "source": [
        "#ทำ aug มาเเล้ว\n",
        "train_datagen = ImageDataGenerator(preprocessing_function=preprocess_input)"
      ],
      "execution_count": 9,
      "outputs": []
    },
    {
      "cell_type": "code",
      "metadata": {
        "id": "7HDQWIrlkq6-",
        "outputId": "e215eda3-3cbb-4b58-9d36-66f09260bd6a",
        "colab": {
          "base_uri": "https://localhost:8080/",
          "height": 34
        }
      },
      "source": [
        "#set training data\n",
        "train_generator = train_datagen.flow_from_directory(DATASET_PATH+ r\"train/\",\n",
        "                                                    target_size = IMAGE_SIZE,\n",
        "                                                    batch_size = BATCH_SIZE,\n",
        "                                                    class_mode='categorical',\n",
        "                                                    shuffle = True,\n",
        "                                                    subset='training')"
      ],
      "execution_count": 10,
      "outputs": [
        {
          "output_type": "stream",
          "text": [
            "Found 1600 images belonging to 10 classes.\n"
          ],
          "name": "stdout"
        }
      ]
    },
    {
      "cell_type": "code",
      "metadata": {
        "id": "UANhQsw0kq8t",
        "outputId": "cb354d82-7f45-4c19-b8ad-749ff3227054",
        "colab": {
          "base_uri": "https://localhost:8080/",
          "height": 34
        }
      },
      "source": [
        "valid_datagen = ImageDataGenerator(preprocessing_function=preprocess_input)\n",
        "valid_generator = valid_datagen.flow_from_directory(DATASET_PATH+ r\"val/\",                                      \n",
        "                                                    target_size = IMAGE_SIZE,\n",
        "                                                    batch_size = 1,\n",
        "                                                    class_mode='categorical',\n",
        "                                                    shuffle = True\n",
        "                                                    )"
      ],
      "execution_count": 11,
      "outputs": [
        {
          "output_type": "stream",
          "text": [
            "Found 410 images belonging to 10 classes.\n"
          ],
          "name": "stdout"
        }
      ]
    },
    {
      "cell_type": "markdown",
      "metadata": {
        "id": "JxPtrM3FVhJ_"
      },
      "source": [
        "**How to use the checkpoint from google drive**"
      ]
    },
    {
      "cell_type": "code",
      "metadata": {
        "id": "DS8_MUPSVhVt"
      },
      "source": [
        "!mkdir training_ResNet50\n",
        "!unzip \"/content/drive/My Drive/Final Project/Dataset-Lab/Original/training/training.zip\" -d \"/content/training_ResNet50\""
      ],
      "execution_count": null,
      "outputs": []
    },
    {
      "cell_type": "markdown",
      "metadata": {
        "id": "oozhiJJEcHa8"
      },
      "source": [
        "**ResNet50**"
      ]
    },
    {
      "cell_type": "code",
      "metadata": {
        "id": "RGHJtcyP4_LK"
      },
      "source": [
        "# Include the epoch in the file name (uses `str.format`)\n",
        "checkpoint_path = \"training_ResNet50/cp-{epoch:04d}.ckpt\"\n",
        "checkpoint_dir = os.path.dirname(checkpoint_path)\n",
        "\n",
        "# Create a callback that saves the model's weights every 5 epochs\n",
        "cp_callback = tf.keras.callbacks.ModelCheckpoint(\n",
        "    filepath=checkpoint_path, \n",
        "    verbose=1, \n",
        "    save_weights_only=True,\n",
        "    period=50)\n",
        "\n",
        "#Create the model\n",
        "base_model_resnet = ResNet50(include_top=False,weights='imagenet',input_shape=(IMAGE_SIZE[0],IMAGE_SIZE[1],3))\n",
        "#Defining and Adding layers\n",
        "model_resnet= Sequential()\n",
        "#Add the Dense layers along with activation and batch normalization\n",
        "model_resnet.add(base_model_resnet)\n",
        "model_resnet.add(Flatten())\n",
        "\n",
        "#Add the Dense layers along with activation and batch normalization\n",
        "model_resnet.add(Dense(1024,activation=('relu'),input_dim=64))\n",
        "model_resnet.add(Dense(512,activation=('relu'))) \n",
        "model_resnet.add(Dropout(.4))\n",
        "model_resnet.add(Dense(256,activation=('relu'))) \n",
        "model_resnet.add(Dropout(.3))#Adding a dropout layer that will randomly drop 30% of the weights\n",
        "model_resnet.add(Dense(128,activation=('relu')))\n",
        "model_resnet.add(Dropout(.2))\n",
        "model_resnet.add(Dense(NUM_CLASSES,activation=('softmax'))) #This is the classification layer\n",
        "\n",
        "\n",
        "# Save the weights using the `checkpoint_path` format\n",
        "model_resnet.save_weights(checkpoint_path.format(epoch=0))"
      ],
      "execution_count": null,
      "outputs": []
    },
    {
      "cell_type": "code",
      "metadata": {
        "id": "B6whr11lmPHh"
      },
      "source": [
        "train_generator.class_indices"
      ],
      "execution_count": null,
      "outputs": []
    },
    {
      "cell_type": "code",
      "metadata": {
        "id": "1JJLrZTk5YE1"
      },
      "source": [
        "#Model summary\n",
        "model_resnet.summary()"
      ],
      "execution_count": null,
      "outputs": []
    },
    {
      "cell_type": "code",
      "metadata": {
        "id": "aj6FKOPJpXGF"
      },
      "source": [
        "model_resnet.compile(optimizer=Adam(lr=0.0001),  #Adam(lr=1e-5)\n",
        "                  loss='categorical_crossentropy', metrics=['accuracy'])"
      ],
      "execution_count": null,
      "outputs": []
    },
    {
      "cell_type": "code",
      "metadata": {
        "id": "2GJHAmk4nuDr"
      },
      "source": [
        "#start to train the model\n",
        "start = time.time()\n",
        "history = model_resnet.fit_generator(generator=train_generator, epochs=epochs, steps_per_epoch=train_generator.samples//BATCH_SIZE, validation_data=valid_generator,validation_steps=valid_generator.samples,callbacks=[cp_callback],verbose=1)\n",
        "\n",
        "end = time.time()\n",
        "duration = end - start\n",
        "print ('\\n model_ResNet50 took %0.2f seconds (%0.1f minutes) to train for %d epochs'%(duration, duration/60, epochs) )"
      ],
      "execution_count": null,
      "outputs": []
    },
    {
      "cell_type": "markdown",
      "metadata": {
        "id": "S2q04VVBcMcx"
      },
      "source": [
        "**VGG19**"
      ]
    },
    {
      "cell_type": "code",
      "metadata": {
        "id": "D-dE-H04cL_b"
      },
      "source": [
        "# Include the epoch in the file name (uses `str.format`)\n",
        "checkpoint_path = \"training_VGG19/cp-{epoch:04d}.ckpt\"\n",
        "checkpoint_dir = os.path.dirname(checkpoint_path)\n",
        "\n",
        "# Create a callback that saves the model's weights every 5 epochs\n",
        "cp_callback = tf.keras.callbacks.ModelCheckpoint(\n",
        "    filepath=checkpoint_path, \n",
        "    verbose=1, \n",
        "    save_weights_only=True,\n",
        "    period=50)\n",
        "\n",
        "#Create the model\n",
        "def create_model_from_VGG19():\n",
        "    \"\"\"\n",
        "      use VGG19\n",
        "    \"\"\"\n",
        "    model = VGG19(weights = \"imagenet\", include_top=False, input_tensor=None, input_shape = (224, 224, 3))\n",
        "    \n",
        "    #5 layers เเรก จะไม่ถูกฝึกเนื่องจากใช้วิธีการ freeze ไว้เเล้ว\n",
        "    for layer in model.layers[:1]:\n",
        "      layer.trainable = False\n",
        "      \n",
        "    #ทำการเพิ่ม layers ที่กำหนดขึ้นมาเอง เป็นการปรับเเต่งเพื่อเพิ่มประสิทธิภาพ \n",
        "    x = model.output\n",
        "    x = Flatten()(x)\n",
        "#     x = Dense(1024, activation=\"relu\")(x)\n",
        "    x = Dropout(0.5)(x)\n",
        "    x = Dense(1024, activation=\"relu\")(x)\n",
        "    predictions = Dense(NUM_CLASSES, activation=\"softmax\")(x)\n",
        "    \n",
        "    #สร้าง model ชั้นสุดท้ายเพื่อจะนำมา compile\n",
        "    model_VGG19 = Model(inputs = model.input, outputs = predictions)\n",
        "    \n",
        "    model_VGG19.compile(loss='categorical_crossentropy', optimizer=Adam(lr=0.0001), metrics=['accuracy']) # optimizer=RMSprop(lr=0.001)\n",
        "\n",
        "    return model_VGG19\n",
        "\n",
        "    # Save the weights using the `checkpoint_path` format\n",
        "    model_VGG19.save_weights(checkpoint_path.format(epoch=0))"
      ],
      "execution_count": null,
      "outputs": []
    },
    {
      "cell_type": "code",
      "metadata": {
        "id": "qtPXh-QSchgV"
      },
      "source": [
        "model_VGG19 = create_model_from_VGG19()\n",
        "model_VGG19.summary()"
      ],
      "execution_count": null,
      "outputs": []
    },
    {
      "cell_type": "code",
      "metadata": {
        "id": "vYwAniZAcnZn"
      },
      "source": [
        "start = time.time()\n",
        "\n",
        "history = model_VGG19.fit_generator(\n",
        "    generator=train_generator, \n",
        "    steps_per_epoch=train_generator.samples//BATCH_SIZE,   # -> 106 # images 3392 = steps * batch_size = 106 * 32 \n",
        "    epochs=epochs, \n",
        "    validation_steps=valid_generator.samples//BATCH_SIZE, # -> 26 # images 832 = steps * batch_size = 26 * 32\n",
        "    validation_data=valid_generator,\n",
        "    callbacks = [cp_callback],\n",
        "    verbose = 1\n",
        ")\n",
        "\n",
        "end = time.time()\n",
        "duration = end - start\n",
        "print ('\\n model_VGG19 took %0.2f seconds (%0.1f minutes) to train for %d epochs'%(duration, duration/60, epochs) )"
      ],
      "execution_count": null,
      "outputs": []
    },
    {
      "cell_type": "markdown",
      "metadata": {
        "id": "TTbxiai3_644"
      },
      "source": [
        "**MobileNet**"
      ]
    },
    {
      "cell_type": "code",
      "metadata": {
        "id": "vA6YfOHR_7DZ",
        "outputId": "9a23a5b8-2ba7-43c6-f678-dbe1d4f525ec",
        "colab": {
          "base_uri": "https://localhost:8080/",
          "height": 67
        }
      },
      "source": [
        "# Include the epoch in the file name (uses `str.format`)\n",
        "checkpoint_path = \"training_MobNet/cp-{epoch:04d}.ckpt\"\n",
        "checkpoint_dir = os.path.dirname(checkpoint_path)\n",
        "\n",
        "# Create a callback that saves the model's weights every 5 epochs\n",
        "cp_callback = tf.keras.callbacks.ModelCheckpoint(\n",
        "    filepath=checkpoint_path, \n",
        "    verbose=1, \n",
        "    save_weights_only=True,\n",
        "    period=50)\n",
        "\n",
        "#Create the model\n",
        "base_MobNet = MobileNet(include_top=False,weights='imagenet',input_shape=(IMAGE_SIZE[0],IMAGE_SIZE[1],3))\n",
        "\n",
        "model_mobnet = Sequential()\n",
        "model_mobnet.add(base_MobNet) \n",
        "model_mobnet.add(Flatten()) \n",
        "model_mobnet.add(Dense(512,activation=('relu'),input_dim=64))\n",
        "model_mobnet.add(Dense(256,activation=('relu'))) \n",
        "model_mobnet.add(Dense(128,activation=('relu'))) \n",
        "#model_mobnet.add(Dropout(.3))\n",
        "model_mobnet.add(Dense(64,activation=('relu')))\n",
        "#model_mobnet.add(Dropout(.2))\n",
        "model_mobnet.add(Dense(10,activation=('softmax')))\n",
        "\n",
        "# Save the weights using the `checkpoint_path` format\n",
        "model_mobnet.save_weights(checkpoint_path.format(epoch=0))"
      ],
      "execution_count": 12,
      "outputs": [
        {
          "output_type": "stream",
          "text": [
            "WARNING:tensorflow:`period` argument is deprecated. Please use `save_freq` to specify the frequency in number of batches seen.\n",
            "Downloading data from https://storage.googleapis.com/tensorflow/keras-applications/mobilenet/mobilenet_1_0_224_tf_no_top.h5\n",
            "17227776/17225924 [==============================] - 0s 0us/step\n"
          ],
          "name": "stdout"
        }
      ]
    },
    {
      "cell_type": "code",
      "metadata": {
        "id": "2NriIU00AmQO",
        "outputId": "97e9d672-4ba7-48d5-b80b-512e38e05aea",
        "colab": {
          "base_uri": "https://localhost:8080/",
          "height": 386
        }
      },
      "source": [
        "# Model Summary\n",
        "model_mobnet.summary()"
      ],
      "execution_count": 13,
      "outputs": [
        {
          "output_type": "stream",
          "text": [
            "Model: \"sequential\"\n",
            "_________________________________________________________________\n",
            "Layer (type)                 Output Shape              Param #   \n",
            "=================================================================\n",
            "mobilenet_1.00_224 (Function (None, 7, 7, 1024)        3228864   \n",
            "_________________________________________________________________\n",
            "flatten (Flatten)            (None, 50176)             0         \n",
            "_________________________________________________________________\n",
            "dense (Dense)                (None, 512)               25690624  \n",
            "_________________________________________________________________\n",
            "dense_1 (Dense)              (None, 256)               131328    \n",
            "_________________________________________________________________\n",
            "dense_2 (Dense)              (None, 128)               32896     \n",
            "_________________________________________________________________\n",
            "dense_3 (Dense)              (None, 64)                8256      \n",
            "_________________________________________________________________\n",
            "dense_4 (Dense)              (None, 10)                650       \n",
            "=================================================================\n",
            "Total params: 29,092,618\n",
            "Trainable params: 29,070,730\n",
            "Non-trainable params: 21,888\n",
            "_________________________________________________________________\n"
          ],
          "name": "stdout"
        }
      ]
    },
    {
      "cell_type": "code",
      "metadata": {
        "id": "lCNpqngRAtg-"
      },
      "source": [
        "model_mobnet.compile(optimizer=Adam(lr=0.0001),  #Adam(lr=1e-5)\n",
        "                  loss='categorical_crossentropy', metrics=['accuracy'])"
      ],
      "execution_count": 14,
      "outputs": []
    },
    {
      "cell_type": "code",
      "metadata": {
        "id": "Jt8PKCQDA3P5",
        "outputId": "7c1a78aa-0c67-4ff2-8a93-7e417967d495",
        "colab": {
          "base_uri": "https://localhost:8080/",
          "height": 1000
        }
      },
      "source": [
        "start = time.time()\n",
        "\n",
        "history = model_mobnet.fit_generator(\n",
        "    generator=train_generator, \n",
        "    steps_per_epoch=train_generator.samples//BATCH_SIZE,   # -> 106 # images 3392 = steps * batch_size = 106 * 32 \n",
        "    epochs=epochs, \n",
        "    validation_steps=valid_generator.samples//BATCH_SIZE, # -> 26 # images 832 = steps * batch_size = 26 * 32\n",
        "    validation_data=valid_generator,\n",
        "    callbacks = [cp_callback],\n",
        "    verbose = 1\n",
        ")\n",
        "\n",
        "end = time.time()\n",
        "duration = end - start\n",
        "print ('\\n model_mobnet took %0.2f seconds (%0.1f minutes) to train for %d epochs'%(duration, duration/60, epochs) )"
      ],
      "execution_count": 15,
      "outputs": [
        {
          "output_type": "stream",
          "text": [
            "WARNING:tensorflow:From <ipython-input-15-37bb12c0f512>:10: Model.fit_generator (from tensorflow.python.keras.engine.training) is deprecated and will be removed in a future version.\n",
            "Instructions for updating:\n",
            "Please use Model.fit, which supports generators.\n",
            "Epoch 1/200\n",
            " 2/50 [>.............................] - ETA: 3s - loss: 2.7400 - accuracy: 0.1406WARNING:tensorflow:Callbacks method `on_train_batch_end` is slow compared to the batch time (batch time: 0.0369s vs `on_train_batch_end` time: 0.1139s). Check your callbacks.\n",
            "50/50 [==============================] - 8s 159ms/step - loss: 0.3914 - accuracy: 0.8813 - val_loss: 0.7124 - val_accuracy: 0.8333\n",
            "Epoch 2/200\n",
            "50/50 [==============================] - 8s 151ms/step - loss: 0.0231 - accuracy: 0.9937 - val_loss: 0.0968 - val_accuracy: 1.0000\n",
            "Epoch 3/200\n",
            "50/50 [==============================] - 8s 152ms/step - loss: 0.0077 - accuracy: 0.9987 - val_loss: 0.2362 - val_accuracy: 0.9167\n",
            "Epoch 4/200\n",
            "50/50 [==============================] - 8s 152ms/step - loss: 0.0110 - accuracy: 0.9975 - val_loss: 0.0028 - val_accuracy: 1.0000\n",
            "Epoch 5/200\n",
            "50/50 [==============================] - 8s 151ms/step - loss: 0.0573 - accuracy: 0.9875 - val_loss: 0.0063 - val_accuracy: 1.0000\n",
            "Epoch 6/200\n",
            "50/50 [==============================] - 8s 151ms/step - loss: 0.0113 - accuracy: 0.9969 - val_loss: 0.0105 - val_accuracy: 1.0000\n",
            "Epoch 7/200\n",
            "50/50 [==============================] - 8s 153ms/step - loss: 0.0058 - accuracy: 0.9981 - val_loss: 0.0241 - val_accuracy: 1.0000\n",
            "Epoch 8/200\n",
            "50/50 [==============================] - 8s 151ms/step - loss: 0.0200 - accuracy: 0.9925 - val_loss: 0.0047 - val_accuracy: 1.0000\n",
            "Epoch 9/200\n",
            "50/50 [==============================] - 8s 152ms/step - loss: 0.0400 - accuracy: 0.9919 - val_loss: 0.0302 - val_accuracy: 1.0000\n",
            "Epoch 10/200\n",
            "50/50 [==============================] - 7s 148ms/step - loss: 0.0133 - accuracy: 0.9969 - val_loss: 3.4862e-05 - val_accuracy: 1.0000\n",
            "Epoch 11/200\n",
            "50/50 [==============================] - 7s 149ms/step - loss: 0.0040 - accuracy: 0.9994 - val_loss: 0.0368 - val_accuracy: 1.0000\n",
            "Epoch 12/200\n",
            "50/50 [==============================] - 7s 146ms/step - loss: 0.0120 - accuracy: 0.9962 - val_loss: 6.3401e-05 - val_accuracy: 1.0000\n",
            "Epoch 13/200\n",
            "50/50 [==============================] - 8s 152ms/step - loss: 0.0269 - accuracy: 0.9944 - val_loss: 0.0073 - val_accuracy: 1.0000\n",
            "Epoch 14/200\n",
            "50/50 [==============================] - 7s 149ms/step - loss: 0.1084 - accuracy: 0.9775 - val_loss: 0.3853 - val_accuracy: 0.8333\n",
            "Epoch 15/200\n",
            "50/50 [==============================] - 8s 151ms/step - loss: 0.0542 - accuracy: 0.9875 - val_loss: 2.0985 - val_accuracy: 0.7500\n",
            "Epoch 16/200\n",
            "50/50 [==============================] - 8s 152ms/step - loss: 0.0227 - accuracy: 0.9937 - val_loss: 6.5922e-04 - val_accuracy: 1.0000\n",
            "Epoch 17/200\n",
            "50/50 [==============================] - 8s 153ms/step - loss: 0.0276 - accuracy: 0.9931 - val_loss: 0.0372 - val_accuracy: 1.0000\n",
            "Epoch 18/200\n",
            "50/50 [==============================] - 8s 150ms/step - loss: 0.0302 - accuracy: 0.9956 - val_loss: 6.5847e-05 - val_accuracy: 1.0000\n",
            "Epoch 19/200\n",
            "50/50 [==============================] - 8s 153ms/step - loss: 0.0145 - accuracy: 0.9937 - val_loss: 1.0484e-04 - val_accuracy: 1.0000\n",
            "Epoch 20/200\n",
            "50/50 [==============================] - 8s 151ms/step - loss: 0.0110 - accuracy: 0.9969 - val_loss: 2.5829e-07 - val_accuracy: 1.0000\n",
            "Epoch 21/200\n",
            "50/50 [==============================] - 8s 152ms/step - loss: 0.0119 - accuracy: 0.9969 - val_loss: 0.3386 - val_accuracy: 0.9167\n",
            "Epoch 22/200\n",
            "50/50 [==============================] - 8s 151ms/step - loss: 0.0216 - accuracy: 0.9931 - val_loss: 8.9183e-04 - val_accuracy: 1.0000\n",
            "Epoch 23/200\n",
            "50/50 [==============================] - 8s 151ms/step - loss: 0.0189 - accuracy: 0.9962 - val_loss: 3.1429e-05 - val_accuracy: 1.0000\n",
            "Epoch 24/200\n",
            "50/50 [==============================] - 7s 148ms/step - loss: 0.0024 - accuracy: 0.9994 - val_loss: 3.8047e-06 - val_accuracy: 1.0000\n",
            "Epoch 25/200\n",
            "50/50 [==============================] - 7s 150ms/step - loss: 8.5896e-04 - accuracy: 0.9994 - val_loss: 9.9341e-09 - val_accuracy: 1.0000\n",
            "Epoch 26/200\n",
            "50/50 [==============================] - 8s 154ms/step - loss: 0.0022 - accuracy: 0.9994 - val_loss: 9.9341e-08 - val_accuracy: 1.0000\n",
            "Epoch 27/200\n",
            "50/50 [==============================] - 8s 152ms/step - loss: 0.0020 - accuracy: 0.9994 - val_loss: 2.3173e-05 - val_accuracy: 1.0000\n",
            "Epoch 28/200\n",
            "50/50 [==============================] - 8s 150ms/step - loss: 1.6164e-04 - accuracy: 1.0000 - val_loss: 9.1393e-07 - val_accuracy: 1.0000\n",
            "Epoch 29/200\n",
            "50/50 [==============================] - 8s 152ms/step - loss: 3.4291e-04 - accuracy: 1.0000 - val_loss: 5.4213e-05 - val_accuracy: 1.0000\n",
            "Epoch 30/200\n",
            "50/50 [==============================] - 8s 151ms/step - loss: 1.7627e-05 - accuracy: 1.0000 - val_loss: 0.0057 - val_accuracy: 1.0000\n",
            "Epoch 31/200\n",
            "50/50 [==============================] - 8s 152ms/step - loss: 4.6966e-06 - accuracy: 1.0000 - val_loss: 5.4637e-07 - val_accuracy: 1.0000\n",
            "Epoch 32/200\n",
            "50/50 [==============================] - 8s 152ms/step - loss: 5.1952e-05 - accuracy: 1.0000 - val_loss: 0.0010 - val_accuracy: 1.0000\n",
            "Epoch 33/200\n",
            "50/50 [==============================] - 8s 151ms/step - loss: 1.1026e-05 - accuracy: 1.0000 - val_loss: 9.9341e-09 - val_accuracy: 1.0000\n",
            "Epoch 34/200\n",
            "50/50 [==============================] - 8s 153ms/step - loss: 3.7026e-06 - accuracy: 1.0000 - val_loss: 1.1056e-05 - val_accuracy: 1.0000\n",
            "Epoch 35/200\n",
            "50/50 [==============================] - 8s 152ms/step - loss: 2.6268e-06 - accuracy: 1.0000 - val_loss: 4.9670e-07 - val_accuracy: 1.0000\n",
            "Epoch 36/200\n",
            "50/50 [==============================] - 8s 152ms/step - loss: 7.7176e-06 - accuracy: 1.0000 - val_loss: 1.0351e-05 - val_accuracy: 1.0000\n",
            "Epoch 37/200\n",
            "50/50 [==============================] - 8s 151ms/step - loss: 2.3453e-05 - accuracy: 1.0000 - val_loss: 3.7649e-06 - val_accuracy: 1.0000\n",
            "Epoch 38/200\n",
            "50/50 [==============================] - 7s 149ms/step - loss: 5.5749e-06 - accuracy: 1.0000 - val_loss: 1.9173e-06 - val_accuracy: 1.0000\n",
            "Epoch 39/200\n",
            "50/50 [==============================] - 7s 149ms/step - loss: 1.1535e-05 - accuracy: 1.0000 - val_loss: 8.7420e-07 - val_accuracy: 1.0000\n",
            "Epoch 40/200\n",
            "50/50 [==============================] - 8s 152ms/step - loss: 2.8838e-05 - accuracy: 1.0000 - val_loss: 0.0000e+00 - val_accuracy: 1.0000\n",
            "Epoch 41/200\n",
            "50/50 [==============================] - 7s 150ms/step - loss: 1.2109e-06 - accuracy: 1.0000 - val_loss: 2.5025e-04 - val_accuracy: 1.0000\n",
            "Epoch 42/200\n",
            "50/50 [==============================] - 8s 151ms/step - loss: 1.8512e-05 - accuracy: 1.0000 - val_loss: 0.0000e+00 - val_accuracy: 1.0000\n",
            "Epoch 43/200\n",
            "50/50 [==============================] - 8s 151ms/step - loss: 0.0327 - accuracy: 0.9956 - val_loss: 2.8809e-07 - val_accuracy: 1.0000\n",
            "Epoch 44/200\n",
            "50/50 [==============================] - 8s 152ms/step - loss: 0.0356 - accuracy: 0.9900 - val_loss: 2.5829e-07 - val_accuracy: 1.0000\n",
            "Epoch 45/200\n",
            "50/50 [==============================] - 8s 153ms/step - loss: 0.0085 - accuracy: 0.9975 - val_loss: 0.0018 - val_accuracy: 1.0000\n",
            "Epoch 46/200\n",
            "50/50 [==============================] - 8s 153ms/step - loss: 0.0129 - accuracy: 0.9981 - val_loss: 0.0393 - val_accuracy: 1.0000\n",
            "Epoch 47/200\n",
            "50/50 [==============================] - 8s 152ms/step - loss: 0.0618 - accuracy: 0.9937 - val_loss: 9.9341e-09 - val_accuracy: 1.0000\n",
            "Epoch 48/200\n",
            "50/50 [==============================] - 8s 151ms/step - loss: 0.0216 - accuracy: 0.9956 - val_loss: 5.3544e-06 - val_accuracy: 1.0000\n",
            "Epoch 49/200\n",
            "50/50 [==============================] - 8s 151ms/step - loss: 0.0322 - accuracy: 0.9925 - val_loss: 4.0047e-05 - val_accuracy: 1.0000\n",
            "Epoch 50/200\n",
            "50/50 [==============================] - ETA: 0s - loss: 0.0074 - accuracy: 0.9981\n",
            "Epoch 00050: saving model to training_MobNet/cp-0050.ckpt\n",
            "50/50 [==============================] - 9s 175ms/step - loss: 0.0074 - accuracy: 0.9981 - val_loss: 7.2616e-06 - val_accuracy: 1.0000\n",
            "Epoch 51/200\n",
            "50/50 [==============================] - 8s 152ms/step - loss: 0.0286 - accuracy: 0.9931 - val_loss: 0.0013 - val_accuracy: 1.0000\n",
            "Epoch 52/200\n",
            "50/50 [==============================] - 8s 153ms/step - loss: 0.0037 - accuracy: 0.9987 - val_loss: 8.6020e-04 - val_accuracy: 1.0000\n",
            "Epoch 53/200\n",
            "50/50 [==============================] - 8s 153ms/step - loss: 0.0044 - accuracy: 0.9987 - val_loss: 8.6426e-07 - val_accuracy: 1.0000\n",
            "Epoch 54/200\n",
            "50/50 [==============================] - 8s 152ms/step - loss: 1.8740e-04 - accuracy: 1.0000 - val_loss: 0.6600 - val_accuracy: 0.9167\n",
            "Epoch 55/200\n",
            "50/50 [==============================] - 8s 150ms/step - loss: 1.3106e-04 - accuracy: 1.0000 - val_loss: 9.3830e-04 - val_accuracy: 1.0000\n",
            "Epoch 56/200\n",
            "50/50 [==============================] - 8s 151ms/step - loss: 0.0059 - accuracy: 0.9987 - val_loss: 2.9802e-08 - val_accuracy: 1.0000\n",
            "Epoch 57/200\n",
            "50/50 [==============================] - 8s 152ms/step - loss: 7.8000e-04 - accuracy: 0.9994 - val_loss: 9.9341e-09 - val_accuracy: 1.0000\n",
            "Epoch 58/200\n",
            "50/50 [==============================] - 8s 153ms/step - loss: 4.5036e-05 - accuracy: 1.0000 - val_loss: 0.0011 - val_accuracy: 1.0000\n",
            "Epoch 59/200\n",
            "50/50 [==============================] - 8s 153ms/step - loss: 0.0510 - accuracy: 0.9956 - val_loss: 2.0652e-05 - val_accuracy: 1.0000\n",
            "Epoch 60/200\n",
            "50/50 [==============================] - 8s 154ms/step - loss: 0.0155 - accuracy: 0.9981 - val_loss: 8.8287e-05 - val_accuracy: 1.0000\n",
            "Epoch 61/200\n",
            "50/50 [==============================] - 8s 152ms/step - loss: 0.0125 - accuracy: 0.9969 - val_loss: 6.6262e-04 - val_accuracy: 1.0000\n",
            "Epoch 62/200\n",
            "50/50 [==============================] - 7s 150ms/step - loss: 0.0089 - accuracy: 0.9969 - val_loss: 0.0486 - val_accuracy: 1.0000\n",
            "Epoch 63/200\n",
            "50/50 [==============================] - 7s 150ms/step - loss: 8.8166e-04 - accuracy: 0.9994 - val_loss: 1.4265e-05 - val_accuracy: 1.0000\n",
            "Epoch 64/200\n",
            "50/50 [==============================] - 8s 150ms/step - loss: 7.5512e-05 - accuracy: 1.0000 - val_loss: 1.2884e-05 - val_accuracy: 1.0000\n",
            "Epoch 65/200\n",
            "50/50 [==============================] - 8s 152ms/step - loss: 3.9391e-05 - accuracy: 1.0000 - val_loss: 0.0000e+00 - val_accuracy: 1.0000\n",
            "Epoch 66/200\n",
            "50/50 [==============================] - 8s 151ms/step - loss: 1.5181e-05 - accuracy: 1.0000 - val_loss: 3.6756e-07 - val_accuracy: 1.0000\n",
            "Epoch 67/200\n",
            "50/50 [==============================] - 8s 152ms/step - loss: 0.0092 - accuracy: 0.9994 - val_loss: 0.0000e+00 - val_accuracy: 1.0000\n",
            "Epoch 68/200\n",
            "50/50 [==============================] - 8s 151ms/step - loss: 0.0069 - accuracy: 0.9987 - val_loss: 0.0000e+00 - val_accuracy: 1.0000\n",
            "Epoch 69/200\n",
            "50/50 [==============================] - 8s 151ms/step - loss: 0.0017 - accuracy: 0.9987 - val_loss: 3.4123e-04 - val_accuracy: 1.0000\n",
            "Epoch 70/200\n",
            "50/50 [==============================] - 8s 150ms/step - loss: 0.0163 - accuracy: 0.9975 - val_loss: 0.0027 - val_accuracy: 1.0000\n",
            "Epoch 71/200\n",
            "50/50 [==============================] - 8s 153ms/step - loss: 0.0092 - accuracy: 0.9975 - val_loss: 0.0917 - val_accuracy: 0.9167\n",
            "Epoch 72/200\n",
            "50/50 [==============================] - 8s 152ms/step - loss: 2.7607e-04 - accuracy: 1.0000 - val_loss: 0.0000e+00 - val_accuracy: 1.0000\n",
            "Epoch 73/200\n",
            "50/50 [==============================] - 8s 152ms/step - loss: 0.0019 - accuracy: 0.9994 - val_loss: 0.0040 - val_accuracy: 1.0000\n",
            "Epoch 74/200\n",
            "50/50 [==============================] - 8s 151ms/step - loss: 0.0022 - accuracy: 0.9994 - val_loss: 5.9605e-08 - val_accuracy: 1.0000\n",
            "Epoch 75/200\n",
            "50/50 [==============================] - 7s 148ms/step - loss: 0.0081 - accuracy: 0.9994 - val_loss: 6.7152e-06 - val_accuracy: 1.0000\n",
            "Epoch 76/200\n",
            "50/50 [==============================] - 8s 152ms/step - loss: 0.0345 - accuracy: 0.9950 - val_loss: 0.0172 - val_accuracy: 1.0000\n",
            "Epoch 77/200\n",
            "50/50 [==============================] - 8s 151ms/step - loss: 0.0279 - accuracy: 0.9931 - val_loss: 2.3375 - val_accuracy: 0.9167\n",
            "Epoch 78/200\n",
            "50/50 [==============================] - 8s 152ms/step - loss: 0.0013 - accuracy: 0.9994 - val_loss: 0.0000e+00 - val_accuracy: 1.0000\n",
            "Epoch 79/200\n",
            "50/50 [==============================] - 8s 152ms/step - loss: 0.0353 - accuracy: 0.9969 - val_loss: 8.8413e-07 - val_accuracy: 1.0000\n",
            "Epoch 80/200\n",
            "50/50 [==============================] - 7s 148ms/step - loss: 0.0329 - accuracy: 0.9944 - val_loss: 1.4314e-04 - val_accuracy: 1.0000\n",
            "Epoch 81/200\n",
            "50/50 [==============================] - 8s 152ms/step - loss: 0.0161 - accuracy: 0.9975 - val_loss: 0.0727 - val_accuracy: 0.9167\n",
            "Epoch 82/200\n",
            "50/50 [==============================] - 8s 154ms/step - loss: 4.0892e-04 - accuracy: 1.0000 - val_loss: 7.3512e-07 - val_accuracy: 1.0000\n",
            "Epoch 83/200\n",
            "50/50 [==============================] - 8s 152ms/step - loss: 0.0063 - accuracy: 0.9994 - val_loss: 1.9729e-04 - val_accuracy: 1.0000\n",
            "Epoch 84/200\n",
            "50/50 [==============================] - 8s 152ms/step - loss: 0.0390 - accuracy: 0.9962 - val_loss: 0.0000e+00 - val_accuracy: 1.0000\n",
            "Epoch 85/200\n",
            "50/50 [==============================] - 8s 153ms/step - loss: 0.0665 - accuracy: 0.9931 - val_loss: 7.3558 - val_accuracy: 0.5833\n",
            "Epoch 86/200\n",
            "50/50 [==============================] - 8s 154ms/step - loss: 0.0244 - accuracy: 0.9962 - val_loss: 0.7074 - val_accuracy: 0.9167\n",
            "Epoch 87/200\n",
            "50/50 [==============================] - 8s 154ms/step - loss: 1.7483e-04 - accuracy: 1.0000 - val_loss: 0.0000e+00 - val_accuracy: 1.0000\n",
            "Epoch 88/200\n",
            "50/50 [==============================] - 8s 152ms/step - loss: 0.0024 - accuracy: 0.9994 - val_loss: 8.7418e-06 - val_accuracy: 1.0000\n",
            "Epoch 89/200\n",
            "50/50 [==============================] - 7s 149ms/step - loss: 0.0057 - accuracy: 0.9987 - val_loss: 0.0000e+00 - val_accuracy: 1.0000\n",
            "Epoch 90/200\n",
            "50/50 [==============================] - 8s 153ms/step - loss: 2.3562e-04 - accuracy: 1.0000 - val_loss: 1.4723e-04 - val_accuracy: 1.0000\n",
            "Epoch 91/200\n",
            "50/50 [==============================] - 7s 150ms/step - loss: 3.4037e-04 - accuracy: 1.0000 - val_loss: 2.4835e-07 - val_accuracy: 1.0000\n",
            "Epoch 92/200\n",
            "50/50 [==============================] - 8s 152ms/step - loss: 1.0050e-05 - accuracy: 1.0000 - val_loss: 2.9802e-08 - val_accuracy: 1.0000\n",
            "Epoch 93/200\n",
            "50/50 [==============================] - 8s 151ms/step - loss: 5.1022e-06 - accuracy: 1.0000 - val_loss: 0.0242 - val_accuracy: 1.0000\n",
            "Epoch 94/200\n",
            "50/50 [==============================] - 8s 153ms/step - loss: 6.8885e-05 - accuracy: 1.0000 - val_loss: 3.9736e-08 - val_accuracy: 1.0000\n",
            "Epoch 95/200\n",
            "50/50 [==============================] - 8s 153ms/step - loss: 3.4576e-05 - accuracy: 1.0000 - val_loss: 3.5626e-05 - val_accuracy: 1.0000\n",
            "Epoch 96/200\n",
            "50/50 [==============================] - 8s 153ms/step - loss: 1.6717e-05 - accuracy: 1.0000 - val_loss: 6.8691e-04 - val_accuracy: 1.0000\n",
            "Epoch 97/200\n",
            "50/50 [==============================] - 7s 149ms/step - loss: 1.5861e-06 - accuracy: 1.0000 - val_loss: 3.4328e-05 - val_accuracy: 1.0000\n",
            "Epoch 98/200\n",
            "50/50 [==============================] - 8s 152ms/step - loss: 0.0012 - accuracy: 0.9994 - val_loss: 0.0042 - val_accuracy: 1.0000\n",
            "Epoch 99/200\n",
            "50/50 [==============================] - 8s 151ms/step - loss: 1.0119e-04 - accuracy: 1.0000 - val_loss: 0.0000e+00 - val_accuracy: 1.0000\n",
            "Epoch 100/200\n",
            "50/50 [==============================] - ETA: 0s - loss: 3.4101e-07 - accuracy: 1.0000\n",
            "Epoch 00100: saving model to training_MobNet/cp-0100.ckpt\n",
            "50/50 [==============================] - 9s 171ms/step - loss: 3.4101e-07 - accuracy: 1.0000 - val_loss: 5.9605e-08 - val_accuracy: 1.0000\n",
            "Epoch 101/200\n",
            "50/50 [==============================] - 8s 153ms/step - loss: 1.4152e-06 - accuracy: 1.0000 - val_loss: 1.1424e-06 - val_accuracy: 1.0000\n",
            "Epoch 102/200\n",
            "50/50 [==============================] - 8s 153ms/step - loss: 2.0645e-06 - accuracy: 1.0000 - val_loss: 1.9868e-08 - val_accuracy: 1.0000\n",
            "Epoch 103/200\n",
            "50/50 [==============================] - 8s 152ms/step - loss: 8.8711e-04 - accuracy: 0.9994 - val_loss: 0.0019 - val_accuracy: 1.0000\n",
            "Epoch 104/200\n",
            "50/50 [==============================] - 8s 151ms/step - loss: 0.0038 - accuracy: 0.9994 - val_loss: 3.9736e-08 - val_accuracy: 1.0000\n",
            "Epoch 105/200\n",
            "50/50 [==============================] - 8s 154ms/step - loss: 6.3739e-04 - accuracy: 0.9994 - val_loss: 9.9341e-09 - val_accuracy: 1.0000\n",
            "Epoch 106/200\n",
            "50/50 [==============================] - 8s 151ms/step - loss: 9.8110e-05 - accuracy: 1.0000 - val_loss: 9.9341e-09 - val_accuracy: 1.0000\n",
            "Epoch 107/200\n",
            "50/50 [==============================] - 8s 151ms/step - loss: 5.0313e-06 - accuracy: 1.0000 - val_loss: 0.0000e+00 - val_accuracy: 1.0000\n",
            "Epoch 108/200\n",
            "50/50 [==============================] - 7s 149ms/step - loss: 2.6247e-06 - accuracy: 1.0000 - val_loss: 5.9605e-08 - val_accuracy: 1.0000\n",
            "Epoch 109/200\n",
            "50/50 [==============================] - 8s 151ms/step - loss: 0.0019 - accuracy: 0.9994 - val_loss: 0.0000e+00 - val_accuracy: 1.0000\n",
            "Epoch 110/200\n",
            "50/50 [==============================] - 8s 151ms/step - loss: 2.5750e-04 - accuracy: 1.0000 - val_loss: 9.6157e-06 - val_accuracy: 1.0000\n",
            "Epoch 111/200\n",
            "50/50 [==============================] - 8s 153ms/step - loss: 2.5722e-04 - accuracy: 1.0000 - val_loss: 9.9341e-09 - val_accuracy: 1.0000\n",
            "Epoch 112/200\n",
            "50/50 [==============================] - 8s 154ms/step - loss: 2.1126e-05 - accuracy: 1.0000 - val_loss: 7.8211e-04 - val_accuracy: 1.0000\n",
            "Epoch 113/200\n",
            "50/50 [==============================] - 8s 152ms/step - loss: 3.6424e-06 - accuracy: 1.0000 - val_loss: 1.5895e-07 - val_accuracy: 1.0000\n",
            "Epoch 114/200\n",
            "50/50 [==============================] - 8s 153ms/step - loss: 2.4839e-07 - accuracy: 1.0000 - val_loss: 0.0000e+00 - val_accuracy: 1.0000\n",
            "Epoch 115/200\n",
            "50/50 [==============================] - 8s 153ms/step - loss: 4.7836e-07 - accuracy: 1.0000 - val_loss: 0.0014 - val_accuracy: 1.0000\n",
            "Epoch 116/200\n",
            "50/50 [==============================] - 8s 154ms/step - loss: 2.1691e-06 - accuracy: 1.0000 - val_loss: 0.0000e+00 - val_accuracy: 1.0000\n",
            "Epoch 117/200\n",
            "50/50 [==============================] - 8s 153ms/step - loss: 1.0350e-05 - accuracy: 1.0000 - val_loss: 0.0000e+00 - val_accuracy: 1.0000\n",
            "Epoch 118/200\n",
            "50/50 [==============================] - 8s 151ms/step - loss: 5.7400e-07 - accuracy: 1.0000 - val_loss: 6.9539e-07 - val_accuracy: 1.0000\n",
            "Epoch 119/200\n",
            "50/50 [==============================] - 8s 152ms/step - loss: 1.8637e-06 - accuracy: 1.0000 - val_loss: 0.0000e+00 - val_accuracy: 1.0000\n",
            "Epoch 120/200\n",
            "50/50 [==============================] - 8s 151ms/step - loss: 3.4075e-05 - accuracy: 1.0000 - val_loss: 9.9341e-09 - val_accuracy: 1.0000\n",
            "Epoch 121/200\n",
            "50/50 [==============================] - 8s 151ms/step - loss: 1.1935e-07 - accuracy: 1.0000 - val_loss: 3.4769e-07 - val_accuracy: 1.0000\n",
            "Epoch 122/200\n",
            "50/50 [==============================] - 8s 151ms/step - loss: 1.1575e-05 - accuracy: 1.0000 - val_loss: 0.0000e+00 - val_accuracy: 1.0000\n",
            "Epoch 123/200\n",
            "50/50 [==============================] - 8s 150ms/step - loss: 1.2098e-06 - accuracy: 1.0000 - val_loss: 6.5748e-05 - val_accuracy: 1.0000\n",
            "Epoch 124/200\n",
            "50/50 [==============================] - 8s 151ms/step - loss: 6.4372e-08 - accuracy: 1.0000 - val_loss: 4.6320e-05 - val_accuracy: 1.0000\n",
            "Epoch 125/200\n",
            "50/50 [==============================] - 8s 153ms/step - loss: 7.7818e-06 - accuracy: 1.0000 - val_loss: 0.0000e+00 - val_accuracy: 1.0000\n",
            "Epoch 126/200\n",
            "50/50 [==============================] - 8s 152ms/step - loss: 1.7657e-07 - accuracy: 1.0000 - val_loss: 0.0000e+00 - val_accuracy: 1.0000\n",
            "Epoch 127/200\n",
            "50/50 [==============================] - 8s 152ms/step - loss: 2.6887e-05 - accuracy: 1.0000 - val_loss: 0.0000e+00 - val_accuracy: 1.0000\n",
            "Epoch 128/200\n",
            "50/50 [==============================] - 8s 152ms/step - loss: 2.1461e-06 - accuracy: 1.0000 - val_loss: 0.0000e+00 - val_accuracy: 1.0000\n",
            "Epoch 129/200\n",
            "50/50 [==============================] - 8s 155ms/step - loss: 4.8360e-07 - accuracy: 1.0000 - val_loss: 0.0000e+00 - val_accuracy: 1.0000\n",
            "Epoch 130/200\n",
            "50/50 [==============================] - 8s 151ms/step - loss: 6.8636e-06 - accuracy: 1.0000 - val_loss: 0.0000e+00 - val_accuracy: 1.0000\n",
            "Epoch 131/200\n",
            "50/50 [==============================] - 8s 152ms/step - loss: 6.9528e-07 - accuracy: 1.0000 - val_loss: 5.7618e-07 - val_accuracy: 1.0000\n",
            "Epoch 132/200\n",
            "50/50 [==============================] - 8s 153ms/step - loss: 1.5616e-07 - accuracy: 1.0000 - val_loss: 4.0671e-05 - val_accuracy: 1.0000\n",
            "Epoch 133/200\n",
            "50/50 [==============================] - 8s 154ms/step - loss: 7.6814e-08 - accuracy: 1.0000 - val_loss: 3.9736e-08 - val_accuracy: 1.0000\n",
            "Epoch 134/200\n",
            "50/50 [==============================] - 8s 151ms/step - loss: 2.3944e-07 - accuracy: 1.0000 - val_loss: 3.3776e-07 - val_accuracy: 1.0000\n",
            "Epoch 135/200\n",
            "50/50 [==============================] - 8s 152ms/step - loss: 4.7998e-07 - accuracy: 1.0000 - val_loss: 0.0000e+00 - val_accuracy: 1.0000\n",
            "Epoch 136/200\n",
            "50/50 [==============================] - 8s 151ms/step - loss: 1.6170e-06 - accuracy: 1.0000 - val_loss: 9.9341e-09 - val_accuracy: 1.0000\n",
            "Epoch 137/200\n",
            "50/50 [==============================] - 8s 153ms/step - loss: 2.5679e-07 - accuracy: 1.0000 - val_loss: 0.0000e+00 - val_accuracy: 1.0000\n",
            "Epoch 138/200\n",
            "50/50 [==============================] - 7s 149ms/step - loss: 2.7043e-07 - accuracy: 1.0000 - val_loss: 0.0000e+00 - val_accuracy: 1.0000\n",
            "Epoch 139/200\n",
            "50/50 [==============================] - 8s 152ms/step - loss: 3.1069e-08 - accuracy: 1.0000 - val_loss: 3.9628e-05 - val_accuracy: 1.0000\n",
            "Epoch 140/200\n",
            "50/50 [==============================] - 8s 152ms/step - loss: 6.4670e-08 - accuracy: 1.0000 - val_loss: 0.0000e+00 - val_accuracy: 1.0000\n",
            "Epoch 141/200\n",
            "50/50 [==============================] - 8s 152ms/step - loss: 4.3064e-08 - accuracy: 1.0000 - val_loss: 1.3506e-04 - val_accuracy: 1.0000\n",
            "Epoch 142/200\n",
            "50/50 [==============================] - 8s 154ms/step - loss: 8.1583e-08 - accuracy: 1.0000 - val_loss: 5.9604e-07 - val_accuracy: 1.0000\n",
            "Epoch 143/200\n",
            "50/50 [==============================] - 8s 154ms/step - loss: 0.0068 - accuracy: 0.9987 - val_loss: 0.1390 - val_accuracy: 0.9167\n",
            "Epoch 144/200\n",
            "50/50 [==============================] - 8s 152ms/step - loss: 0.0527 - accuracy: 0.9894 - val_loss: 3.2071 - val_accuracy: 0.7500\n",
            "Epoch 145/200\n",
            "50/50 [==============================] - 8s 152ms/step - loss: 0.0968 - accuracy: 0.9837 - val_loss: 0.4412 - val_accuracy: 0.9167\n",
            "Epoch 146/200\n",
            "50/50 [==============================] - 8s 153ms/step - loss: 0.0616 - accuracy: 0.9906 - val_loss: 1.5708 - val_accuracy: 0.9167\n",
            "Epoch 147/200\n",
            "50/50 [==============================] - 8s 150ms/step - loss: 0.0285 - accuracy: 0.9956 - val_loss: 6.4572e-07 - val_accuracy: 1.0000\n",
            "Epoch 148/200\n",
            "50/50 [==============================] - 7s 148ms/step - loss: 0.0028 - accuracy: 0.9994 - val_loss: 1.3599e-05 - val_accuracy: 1.0000\n",
            "Epoch 149/200\n",
            "50/50 [==============================] - 7s 149ms/step - loss: 9.1938e-04 - accuracy: 0.9994 - val_loss: 0.4168 - val_accuracy: 0.9167\n",
            "Epoch 150/200\n",
            "50/50 [==============================] - ETA: 0s - loss: 0.0329 - accuracy: 0.9962\n",
            "Epoch 00150: saving model to training_MobNet/cp-0150.ckpt\n",
            "50/50 [==============================] - 9s 170ms/step - loss: 0.0329 - accuracy: 0.9962 - val_loss: 9.9341e-09 - val_accuracy: 1.0000\n",
            "Epoch 151/200\n",
            "50/50 [==============================] - 8s 153ms/step - loss: 0.0132 - accuracy: 0.9969 - val_loss: 1.9846e-05 - val_accuracy: 1.0000\n",
            "Epoch 152/200\n",
            "50/50 [==============================] - 7s 149ms/step - loss: 0.0013 - accuracy: 0.9994 - val_loss: 3.2707 - val_accuracy: 0.9167\n",
            "Epoch 153/200\n",
            "50/50 [==============================] - 7s 149ms/step - loss: 1.5940e-04 - accuracy: 1.0000 - val_loss: 2.0383e-05 - val_accuracy: 1.0000\n",
            "Epoch 154/200\n",
            "50/50 [==============================] - 8s 151ms/step - loss: 5.3279e-06 - accuracy: 1.0000 - val_loss: 2.5232e-06 - val_accuracy: 1.0000\n",
            "Epoch 155/200\n",
            "50/50 [==============================] - 8s 155ms/step - loss: 0.0127 - accuracy: 0.9981 - val_loss: 1.1364e-05 - val_accuracy: 1.0000\n",
            "Epoch 156/200\n",
            "50/50 [==============================] - 8s 153ms/step - loss: 4.9557e-04 - accuracy: 1.0000 - val_loss: 0.0000e+00 - val_accuracy: 1.0000\n",
            "Epoch 157/200\n",
            "50/50 [==============================] - 8s 152ms/step - loss: 3.6338e-05 - accuracy: 1.0000 - val_loss: 6.6059e-05 - val_accuracy: 1.0000\n",
            "Epoch 158/200\n",
            "50/50 [==============================] - 8s 152ms/step - loss: 7.2464e-05 - accuracy: 1.0000 - val_loss: 1.3610e-06 - val_accuracy: 1.0000\n",
            "Epoch 159/200\n",
            "50/50 [==============================] - 8s 153ms/step - loss: 2.1850e-05 - accuracy: 1.0000 - val_loss: 2.6723e-06 - val_accuracy: 1.0000\n",
            "Epoch 160/200\n",
            "50/50 [==============================] - 8s 153ms/step - loss: 0.0312 - accuracy: 0.9981 - val_loss: 1.4762e-04 - val_accuracy: 1.0000\n",
            "Epoch 161/200\n",
            "50/50 [==============================] - 8s 153ms/step - loss: 9.0880e-04 - accuracy: 0.9994 - val_loss: 5.9605e-08 - val_accuracy: 1.0000\n",
            "Epoch 162/200\n",
            "50/50 [==============================] - 8s 151ms/step - loss: 0.0187 - accuracy: 0.9994 - val_loss: 0.0000e+00 - val_accuracy: 1.0000\n",
            "Epoch 163/200\n",
            "50/50 [==============================] - 8s 151ms/step - loss: 0.0325 - accuracy: 0.9956 - val_loss: 2.3277e-04 - val_accuracy: 1.0000\n",
            "Epoch 164/200\n",
            "50/50 [==============================] - 8s 153ms/step - loss: 0.0511 - accuracy: 0.9956 - val_loss: 0.0143 - val_accuracy: 1.0000\n",
            "Epoch 165/200\n",
            "50/50 [==============================] - 7s 150ms/step - loss: 0.0074 - accuracy: 0.9981 - val_loss: 7.6219e-04 - val_accuracy: 1.0000\n",
            "Epoch 166/200\n",
            "50/50 [==============================] - 8s 154ms/step - loss: 0.0060 - accuracy: 0.9994 - val_loss: 1.8744e-05 - val_accuracy: 1.0000\n",
            "Epoch 167/200\n",
            "50/50 [==============================] - 8s 151ms/step - loss: 5.5307e-05 - accuracy: 1.0000 - val_loss: 0.0070 - val_accuracy: 1.0000\n",
            "Epoch 168/200\n",
            "50/50 [==============================] - 8s 151ms/step - loss: 4.9381e-04 - accuracy: 1.0000 - val_loss: 1.3709e-06 - val_accuracy: 1.0000\n",
            "Epoch 169/200\n",
            "50/50 [==============================] - 8s 155ms/step - loss: 1.3269e-05 - accuracy: 1.0000 - val_loss: 1.6689e-06 - val_accuracy: 1.0000\n",
            "Epoch 170/200\n",
            "50/50 [==============================] - 8s 152ms/step - loss: 0.0031 - accuracy: 0.9994 - val_loss: 0.1448 - val_accuracy: 0.9167\n",
            "Epoch 171/200\n",
            "50/50 [==============================] - 8s 151ms/step - loss: 0.0128 - accuracy: 0.9981 - val_loss: 7.9473e-08 - val_accuracy: 1.0000\n",
            "Epoch 172/200\n",
            "50/50 [==============================] - 8s 152ms/step - loss: 8.8002e-06 - accuracy: 1.0000 - val_loss: 0.0840 - val_accuracy: 0.9167\n",
            "Epoch 173/200\n",
            "50/50 [==============================] - 8s 151ms/step - loss: 1.0176e-04 - accuracy: 1.0000 - val_loss: 3.0223e-04 - val_accuracy: 1.0000\n",
            "Epoch 174/200\n",
            "50/50 [==============================] - 8s 153ms/step - loss: 3.8938e-05 - accuracy: 1.0000 - val_loss: 1.5819e-04 - val_accuracy: 1.0000\n",
            "Epoch 175/200\n",
            "50/50 [==============================] - 8s 153ms/step - loss: 4.3211e-04 - accuracy: 1.0000 - val_loss: 4.3710e-07 - val_accuracy: 1.0000\n",
            "Epoch 176/200\n",
            "50/50 [==============================] - 8s 153ms/step - loss: 2.0213e-04 - accuracy: 1.0000 - val_loss: 0.0034 - val_accuracy: 1.0000\n",
            "Epoch 177/200\n",
            "50/50 [==============================] - 8s 152ms/step - loss: 5.4538e-04 - accuracy: 0.9994 - val_loss: 0.0000e+00 - val_accuracy: 1.0000\n",
            "Epoch 178/200\n",
            "50/50 [==============================] - 8s 154ms/step - loss: 1.0384e-05 - accuracy: 1.0000 - val_loss: 0.0000e+00 - val_accuracy: 1.0000\n",
            "Epoch 179/200\n",
            "50/50 [==============================] - 8s 153ms/step - loss: 1.9285e-05 - accuracy: 1.0000 - val_loss: 0.0057 - val_accuracy: 1.0000\n",
            "Epoch 180/200\n",
            "50/50 [==============================] - 8s 154ms/step - loss: 1.5164e-05 - accuracy: 1.0000 - val_loss: 1.9286e-04 - val_accuracy: 1.0000\n",
            "Epoch 181/200\n",
            "50/50 [==============================] - 8s 154ms/step - loss: 3.6524e-06 - accuracy: 1.0000 - val_loss: 0.2975 - val_accuracy: 0.9167\n",
            "Epoch 182/200\n",
            "50/50 [==============================] - 8s 155ms/step - loss: 8.5028e-07 - accuracy: 1.0000 - val_loss: 0.2622 - val_accuracy: 0.9167\n",
            "Epoch 183/200\n",
            "50/50 [==============================] - 8s 150ms/step - loss: 1.2017e-06 - accuracy: 1.0000 - val_loss: 0.0000e+00 - val_accuracy: 1.0000\n",
            "Epoch 184/200\n",
            "50/50 [==============================] - 8s 151ms/step - loss: 5.2057e-07 - accuracy: 1.0000 - val_loss: 0.0000e+00 - val_accuracy: 1.0000\n",
            "Epoch 185/200\n",
            "50/50 [==============================] - 8s 153ms/step - loss: 9.4570e-07 - accuracy: 1.0000 - val_loss: 0.0000e+00 - val_accuracy: 1.0000\n",
            "Epoch 186/200\n",
            "50/50 [==============================] - 8s 154ms/step - loss: 2.4948e-06 - accuracy: 1.0000 - val_loss: 5.1657e-07 - val_accuracy: 1.0000\n",
            "Epoch 187/200\n",
            "50/50 [==============================] - 8s 154ms/step - loss: 5.4131e-07 - accuracy: 1.0000 - val_loss: 7.6021e-05 - val_accuracy: 1.0000\n",
            "Epoch 188/200\n",
            "50/50 [==============================] - 8s 151ms/step - loss: 3.0807e-06 - accuracy: 1.0000 - val_loss: 0.0000e+00 - val_accuracy: 1.0000\n",
            "Epoch 189/200\n",
            "50/50 [==============================] - 8s 154ms/step - loss: 2.3343e-05 - accuracy: 1.0000 - val_loss: 1.9868e-08 - val_accuracy: 1.0000\n",
            "Epoch 190/200\n",
            "50/50 [==============================] - 8s 154ms/step - loss: 1.3524e-05 - accuracy: 1.0000 - val_loss: 0.0000e+00 - val_accuracy: 1.0000\n",
            "Epoch 191/200\n",
            "50/50 [==============================] - 8s 154ms/step - loss: 1.1031e-06 - accuracy: 1.0000 - val_loss: 0.0000e+00 - val_accuracy: 1.0000\n",
            "Epoch 192/200\n",
            "50/50 [==============================] - 8s 154ms/step - loss: 1.2707e-06 - accuracy: 1.0000 - val_loss: 0.0031 - val_accuracy: 1.0000\n",
            "Epoch 193/200\n",
            "50/50 [==============================] - 8s 152ms/step - loss: 2.3133e-07 - accuracy: 1.0000 - val_loss: 0.0017 - val_accuracy: 1.0000\n",
            "Epoch 194/200\n",
            "50/50 [==============================] - 8s 153ms/step - loss: 9.9910e-08 - accuracy: 1.0000 - val_loss: 1.0716e-04 - val_accuracy: 1.0000\n",
            "Epoch 195/200\n",
            "50/50 [==============================] - 8s 155ms/step - loss: 5.8994e-07 - accuracy: 1.0000 - val_loss: 7.0532e-07 - val_accuracy: 1.0000\n",
            "Epoch 196/200\n",
            "50/50 [==============================] - 8s 154ms/step - loss: 1.4382e-06 - accuracy: 1.0000 - val_loss: 0.0000e+00 - val_accuracy: 1.0000\n",
            "Epoch 197/200\n",
            "50/50 [==============================] - 8s 155ms/step - loss: 4.7852e-06 - accuracy: 1.0000 - val_loss: 0.0000e+00 - val_accuracy: 1.0000\n",
            "Epoch 198/200\n",
            "50/50 [==============================] - 8s 152ms/step - loss: 2.0260e-06 - accuracy: 1.0000 - val_loss: 2.5829e-07 - val_accuracy: 1.0000\n",
            "Epoch 199/200\n",
            "50/50 [==============================] - 8s 152ms/step - loss: 7.2866e-08 - accuracy: 1.0000 - val_loss: 9.9341e-09 - val_accuracy: 1.0000\n",
            "Epoch 200/200\n",
            "50/50 [==============================] - ETA: 0s - loss: 1.3873e-07 - accuracy: 1.0000\n",
            "Epoch 00200: saving model to training_MobNet/cp-0200.ckpt\n",
            "50/50 [==============================] - 9s 171ms/step - loss: 1.3873e-07 - accuracy: 1.0000 - val_loss: 0.0000e+00 - val_accuracy: 1.0000\n",
            "\n",
            " model_mobnet took 1556.07 seconds (25.9 minutes) to train for 200 epochs\n"
          ],
          "name": "stdout"
        }
      ]
    },
    {
      "cell_type": "markdown",
      "metadata": {
        "id": "4CkQBYJ3QtoO"
      },
      "source": [
        "**Make Zipfile to training for saving in google drive**"
      ]
    },
    {
      "cell_type": "code",
      "metadata": {
        "id": "Bt6BzQPkQ0WO"
      },
      "source": [
        "!zip -r \"/content/drive/My Drive/Final Project/Dataset-Lab/Original/training/training(200epochs).zip\" \"training_ResNet50\""
      ],
      "execution_count": null,
      "outputs": []
    },
    {
      "cell_type": "code",
      "metadata": {
        "id": "18PFP-fqr82F"
      },
      "source": [
        "!zip -r \"/content/drive/My Drive/Final Project/Dataset-Lab/Original/saved_model/my_model/filemodelresnetpb.zip\" \"/content/saved_model/my_model\""
      ],
      "execution_count": null,
      "outputs": []
    },
    {
      "cell_type": "markdown",
      "metadata": {
        "id": "k-V36n5jRASF"
      },
      "source": [
        "**Save model file .h5 ResNet50, VGG19, MobileNet**"
      ]
    },
    {
      "cell_type": "code",
      "metadata": {
        "id": "IdQTZlRIri2_"
      },
      "source": [
        "!mkdir save_model\n",
        "model_resnet.save('save_model/model-resnet50(200epochs).h5') #ดูจำนวนรอบที่เทรนด้วยว่าทั้งหมดกี่รอบจริงๆเเล้ว"
      ],
      "execution_count": null,
      "outputs": []
    },
    {
      "cell_type": "code",
      "metadata": {
        "id": "tJXxjv6f3_EM"
      },
      "source": [
        "!mkdir save_model\n",
        "model_VGG19.save('save_model/model-VGG19(200epochs).h5') #ดูจำนวนรอบที่เทรนด้วยว่าทั้งหมดกี่รอบจริงๆเเล้ว"
      ],
      "execution_count": null,
      "outputs": []
    },
    {
      "cell_type": "code",
      "metadata": {
        "id": "ZDhBigq2JO6I"
      },
      "source": [
        "!mkdir save_model\n",
        "model_mobnet.save('save_model/model-MobileNet(200epochs).h5') #ดูจำนวนรอบที่เทรนด้วยว่าทั้งหมดกี่รอบจริงๆเเล้ว"
      ],
      "execution_count": 16,
      "outputs": []
    },
    {
      "cell_type": "markdown",
      "metadata": {
        "id": "Kd8P6G590Pbd"
      },
      "source": [
        "**Save file json**"
      ]
    },
    {
      "cell_type": "code",
      "metadata": {
        "id": "W7WvXhX50JV8"
      },
      "source": [
        "#Import dependencies\n",
        "!mkdir jsonfile\n",
        "import json\n",
        "from keras.models import model_from_json, load_model\n",
        "with open('jsonfile/model_resnet.json', 'w') as f:\n",
        "    f.write(model.to_json())\n",
        "print(\"Saved model to disk\")"
      ],
      "execution_count": null,
      "outputs": []
    },
    {
      "cell_type": "markdown",
      "metadata": {
        "id": "g1aiyKj2Qruv"
      },
      "source": [
        "\n",
        "**Show graphs ResNet50**"
      ]
    },
    {
      "cell_type": "code",
      "metadata": {
        "id": "3ShicU5HozNr"
      },
      "source": [
        "#กราฟเเม่นยำเเละ loss\n",
        "import matplotlib.pyplot as plt\n",
        "\n",
        "acc = model_resnet.history.history['accuracy']\n",
        "val_acc = model_resnet.history.history['val_accuracy']\n",
        "\n",
        "loss= model_resnet.history.history['loss']\n",
        "val_loss= model_resnet.history.history['val_loss']\n",
        "\n",
        "\n",
        "plt.style.use(\"ggplot\")\n",
        "#  \"Accuracy\"\n",
        "plt.figure(figsize=(15, 4))\n",
        "plt.subplot(1, 2, 1)\n",
        "plt.plot(acc, label='Training Accuracy')\n",
        "plt.plot(val_acc, label='Validation Accuracy')\n",
        "plt.legend(loc='lower right')\n",
        "plt.title('Training and Validation Accuracy')\n",
        "plt.ylabel('accuracy')\n",
        "plt.xlabel('epochs')\n",
        "#  \"Loss\"\n",
        "plt.subplot(1, 2, 2)\n",
        "plt.plot(loss, label='Training Loss')\n",
        "plt.plot(val_loss, label='Validation Loss')\n",
        "plt.legend(loc='upper right')\n",
        "plt.title('Training and Validation Loss')\n",
        "plt.ylabel('loss')\n",
        "plt.xlabel('epochs')\n",
        "plt.show()\n",
        "# plt.savefig('accandloss.png')"
      ],
      "execution_count": null,
      "outputs": []
    },
    {
      "cell_type": "markdown",
      "metadata": {
        "id": "WqZMXWG53Lgu"
      },
      "source": [
        "\n",
        "**Show graphs VGG19**"
      ]
    },
    {
      "cell_type": "code",
      "metadata": {
        "id": "JJDpV8393MEY"
      },
      "source": [
        "#กราฟเเม่นยำเเละ loss\n",
        "import matplotlib.pyplot as plt\n",
        "\n",
        "acc = model_VGG19.history.history['accuracy']\n",
        "val_acc = model_VGG19.history.history['val_accuracy']\n",
        "\n",
        "loss= model_VGG19.history.history['loss']\n",
        "val_loss= model_VGG19.history.history['val_loss']\n",
        "\n",
        "\n",
        "plt.style.use(\"ggplot\")\n",
        "#  \"Accuracy\"\n",
        "plt.figure(figsize=(15, 4))\n",
        "plt.subplot(1, 2, 1)\n",
        "plt.plot(acc, label='Training Accuracy')\n",
        "plt.plot(val_acc, label='Validation Accuracy')\n",
        "plt.legend(loc='upper right')\n",
        "plt.title('Training and Validation Accuracy')\n",
        "plt.ylabel('accuracy')\n",
        "plt.xlabel('epochs')\n",
        "#  \"Loss\"\n",
        "plt.subplot(1, 2, 2)\n",
        "plt.plot(loss, label='Training Loss')\n",
        "plt.plot(val_loss, label='Validation Loss')\n",
        "plt.legend(loc='lower right')\n",
        "plt.title('Training and Validation Loss')\n",
        "plt.ylabel('loss')\n",
        "plt.xlabel('epochs')\n",
        "plt.show()\n",
        "# plt.savefig('accandloss.png')"
      ],
      "execution_count": null,
      "outputs": []
    },
    {
      "cell_type": "markdown",
      "metadata": {
        "id": "AFmxyeHXJEKC"
      },
      "source": [
        "**Show Graphs MobileNet**"
      ]
    },
    {
      "cell_type": "code",
      "metadata": {
        "id": "DzPVV7mqJIGV",
        "outputId": "321dcfcd-9f78-47b9-f401-12b13890567f",
        "colab": {
          "base_uri": "https://localhost:8080/",
          "height": 299
        }
      },
      "source": [
        "#กราฟเเม่นยำเเละ loss\n",
        "import matplotlib.pyplot as plt\n",
        "\n",
        "acc = model_mobnet.history.history['accuracy']\n",
        "val_acc = model_mobnet.history.history['val_accuracy']\n",
        "\n",
        "loss= model_mobnet.history.history['loss']\n",
        "val_loss= model_mobnet.history.history['val_loss']\n",
        "\n",
        "\n",
        "plt.style.use(\"ggplot\")\n",
        "#  \"Accuracy\"\n",
        "plt.figure(figsize=(15, 4))\n",
        "plt.subplot(1, 2, 1)\n",
        "plt.plot(acc, label='Training Accuracy')\n",
        "plt.plot(val_acc, label='Validation Accuracy')\n",
        "plt.legend(loc='upper right')\n",
        "plt.title('Training and Validation Accuracy')\n",
        "plt.ylabel('accuracy')\n",
        "plt.xlabel('epochs')\n",
        "#  \"Loss\"\n",
        "plt.subplot(1, 2, 2)\n",
        "plt.plot(loss, label='Training Loss')\n",
        "plt.plot(val_loss, label='Validation Loss')\n",
        "plt.legend(loc='lower right')\n",
        "plt.title('Training and Validation Loss')\n",
        "plt.ylabel('loss')\n",
        "plt.xlabel('epochs')\n",
        "plt.show()\n",
        "# plt.savefig('accandloss.png')"
      ],
      "execution_count": 18,
      "outputs": [
        {
          "output_type": "display_data",
          "data": {
            "image/png": "[encoded data removed]",
            "text/plain": [
              "<Figure size 1080x288 with 2 Axes>"
            ]
          },
          "metadata": {
            "tags": []
          }
        }
      ]
    },
    {
      "cell_type": "markdown",
      "metadata": {
        "id": "QOEs4ae2QqN6"
      },
      "source": [
        "**Check the checkpoints of model**"
      ]
    },
    {
      "cell_type": "code",
      "metadata": {
        "id": "X8OmBYwQDZG5",
        "outputId": "7e070672-59dc-465e-b014-d77527cd02f9",
        "colab": {
          "base_uri": "https://localhost:8080/",
          "height": 35
        }
      },
      "source": [
        "latest = tf.train.latest_checkpoint(checkpoint_dir)\n",
        "latest"
      ],
      "execution_count": 20,
      "outputs": [
        {
          "output_type": "execute_result",
          "data": {
            "application/vnd.google.colaboratory.intrinsic+json": {
              "type": "string"
            },
            "text/plain": [
              "'training_MobNet/cp-0200.ckpt'"
            ]
          },
          "metadata": {
            "tags": []
          },
          "execution_count": 20
        }
      ]
    },
    {
      "cell_type": "code",
      "metadata": {
        "id": "7mKTviqN3LN7"
      },
      "source": [
        "# Load the previously saved weights\n",
        "model_resnet.load_weights(latest)\n",
        "\n",
        "# Re-evaluate the model\n",
        "loss, acc = model_resnet.evaluate(valid_generator, verbose=2)\n",
        "print(\"Restored model, accuracy: {:5.2f}%\".format(100*acc))"
      ],
      "execution_count": null,
      "outputs": []
    },
    {
      "cell_type": "code",
      "metadata": {
        "id": "-79zTCnA4ftV"
      },
      "source": [
        "# Load the previously saved weights\n",
        "model_VGG19.load_weights(latest)\n",
        "\n",
        "# Re-evaluate the model\n",
        "loss, acc = model_VGG19.evaluate(valid_generator, verbose=2)\n",
        "print(\"Restored model, accuracy: {:5.2f}%\".format(100*acc))"
      ],
      "execution_count": null,
      "outputs": []
    },
    {
      "cell_type": "code",
      "metadata": {
        "id": "tIeoL4aII7_1",
        "outputId": "1d36696a-f859-4503-a6f6-193d8ec56b3f",
        "colab": {
          "base_uri": "https://localhost:8080/",
          "height": 50
        }
      },
      "source": [
        "# Load the previously saved weights\n",
        "model_mobnet.load_weights(latest)\n",
        "\n",
        "# Re-evaluate the model\n",
        "loss, acc = model_mobnet.evaluate(valid_generator, verbose=2)\n",
        "print(\"Restored model, accuracy: {:5.2f}%\".format(100*acc))"
      ],
      "execution_count": 21,
      "outputs": [
        {
          "output_type": "stream",
          "text": [
            "410/410 - 2s - loss: 0.0195 - accuracy: 0.9951\n",
            "Restored model, accuracy: 99.51%\n"
          ],
          "name": "stdout"
        }
      ]
    },
    {
      "cell_type": "code",
      "metadata": {
        "id": "tBAQHq_PKqXf"
      },
      "source": [
        "#สำหรับเช็คค่าของการเทส\n",
        "x,y = valid_generator.next()\n",
        "x.shape\n",
        "y.shape"
      ],
      "execution_count": null,
      "outputs": []
    },
    {
      "cell_type": "markdown",
      "metadata": {
        "id": "5pirGRSKQXjs"
      },
      "source": [
        "**Save the model**"
      ]
    },
    {
      "cell_type": "code",
      "metadata": {
        "id": "oVwXFxjDOM9p"
      },
      "source": [
        "# Save the entire model as a SavedModel.\n",
        "model_resnet.save('saved_model/my_model') "
      ],
      "execution_count": null,
      "outputs": []
    },
    {
      "cell_type": "code",
      "metadata": {
        "id": "vIVtmAhTObq0"
      },
      "source": [
        "!ls saved_model/my_model"
      ],
      "execution_count": null,
      "outputs": []
    },
    {
      "cell_type": "markdown",
      "metadata": {
        "id": "4zPv9OaCQQvy"
      },
      "source": [
        "**Convert file model .pb to tflite**"
      ]
    },
    {
      "cell_type": "code",
      "metadata": {
        "id": "K0Qdqqi6M6oP"
      },
      "source": [
        "model= tf.keras.models.load_model('saved_model/my_model')\n",
        "tflite_converter = tf.lite.TFLiteConverter.from_keras_model(model)\n",
        "tflite_model = tflite_converter.convert()\n",
        "open(\"tf_lite_model(200epochs).tflite\", \"wb\").write(tflite_model) "
      ],
      "execution_count": null,
      "outputs": []
    },
    {
      "cell_type": "code",
      "metadata": {
        "id": "Pz4a1uw1at7N"
      },
      "source": [
        "!mv \"tf_lite_model(200epochs).tflite\" \"/content/drive/My Drive/Final Project/Dataset-Lab/Original/saved_model/tflite\"\n",
        "print(\"Success\")"
      ],
      "execution_count": null,
      "outputs": []
    },
    {
      "cell_type": "markdown",
      "metadata": {
        "id": "KJU_yzZjIXs9"
      },
      "source": [
        "**Prediction**"
      ]
    },
    {
      "cell_type": "code",
      "metadata": {
        "id": "x7-cf_o0TDU2"
      },
      "source": [
        "categories =  ['eilerd', 'fahthalinejol', 'horapa', 'krapao', 'lemon', 'magrud', 'plu', 'sabtiger', 'saranae', 'yanang']"
      ],
      "execution_count": null,
      "outputs": []
    },
    {
      "cell_type": "code",
      "metadata": {
        "id": "dGn81xv-TKdM"
      },
      "source": [
        "model = model_resnet.load_weights('save_model/model-resnet50(200epochs).h5')"
      ],
      "execution_count": null,
      "outputs": []
    },
    {
      "cell_type": "code",
      "metadata": {
        "id": "MhRkHrmHTuT7"
      },
      "source": [
        "loss, acc = model.evaluate(valid_generator, verbose=2)\n",
        "print('Restored model, accuracy: {:5.2f}%'.format(100*acc))"
      ],
      "execution_count": null,
      "outputs": []
    },
    {
      "cell_type": "code",
      "metadata": {
        "id": "r-DP6T28RK6q",
        "outputId": "a140fc05-7c06-432a-b5f0-95405f3ad938",
        "colab": {
          "base_uri": "https://localhost:8080/",
          "height": 352
        }
      },
      "source": [
        "import seaborn as sn\n",
        "import pandas as pd\n",
        "\n",
        "model = tf.keras.models.load_model('save_model/model-MobileNet(200epochs).h5')\n",
        "filenames = valid_generator.filenames\n",
        "nb_samples = len(valid_generator)\n",
        "y_prob=[]\n",
        "y_act=[]\n",
        "valid_generator.reset()\n",
        "for _ in range(nb_samples):\n",
        "    x_test, y_test = valid_generator.next()\n",
        "    y_prob.append(model.predict(x_test))\n",
        "    y_act.append(y_test)\n",
        "    \n",
        "predicted_class = [list(train_generator.class_indices.keys())[i.argmax()] for i in y_prob]\n",
        "actual_class = [list(train_generator.class_indices.keys())[i.argmax()] for i in y_act]\n",
        "\n",
        "out_df = pd.DataFrame(np.vstack([predicted_class,actual_class]).T,columns=['predicted_class', 'actual_class'])\n",
        "confusion_matrix = pd.crosstab(out_df['actual_class'],out_df['predicted_class'], rownames=['Actual'], colnames=['Predicted'])\n",
        "\n",
        "sn.heatmap(confusion_matrix, cmap='Blues', annot= True, fmt='d')\n",
        "plt.show()\n",
        "print('test accuracy : {}'.format((np.diagonal(confusion_matrix).sum()/confusion_matrix.sum().sum()*100)))"
      ],
      "execution_count": 19,
      "outputs": [
        {
          "output_type": "display_data",
          "data": {
            "image/png": "[encoded data removed]",
            "text/plain": [
              "<Figure size 432x288 with 2 Axes>"
            ]
          },
          "metadata": {
            "tags": []
          }
        },
        {
          "output_type": "stream",
          "text": [
            "test accuracy : 99.51219512195122\n"
          ],
          "name": "stdout"
        }
      ]
    },
    {
      "cell_type": "markdown",
      "metadata": {
        "id": "fj2unvlyZYQZ"
      },
      "source": [
        "**เพิ่มเติมโอนย้ายไฟล์หลังจากเสร็จเเล้ว**"
      ]
    },
    {
      "cell_type": "code",
      "metadata": {
        "id": "qpUTyv7QS751"
      },
      "source": [
        "!mv \"save_model/model-resnet50(200epochs).h5\" \"/content/drive/My Drive/Final Project/Dataset-Lab/Original/saved_model\""
      ],
      "execution_count": null,
      "outputs": []
    }
  ]
}