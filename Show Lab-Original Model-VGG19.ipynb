{
  "nbformat": 4,
  "nbformat_minor": 0,
  "metadata": {
    "colab": {
      "name": "Final Project.ipynb",
      "provenance": [],
      "collapsed_sections": [],
      "mount_file_id": "1XZoVBS3qAJhN_pQAp-YBs7VwBDICRLTn",
      "authorship_tag": "ABX9TyN0JL7u3ZKbhQOe4FXgXkgp",
      "include_colab_link": true
    },
    "kernelspec": {
      "name": "python3",
      "display_name": "Python 3"
    },
    "accelerator": "GPU"
  },
  "cells": [
    {
      "cell_type": "markdown",
      "metadata": {
        "id": "view-in-github",
        "colab_type": "text"
      },
      "source": [
        "<a href=\"https://colab.research.google.com/github/makezazainw/FinalProject/blob/master/Show%20Lab-Original%20Model-VGG19.ipynb\" target=\"_parent\"><img src=\"https://colab.research.google.com/assets/colab-badge.svg\" alt=\"Open In Colab\"/></a>"
      ]
    },
    {
      "cell_type": "markdown",
      "metadata": {
        "id": "HYtRYzbH6j8i"
      },
      "source": [
        "**Install Kaggle**"
      ]
    },
    {
      "cell_type": "code",
      "metadata": {
        "id": "A1xFzv82hg55",
        "outputId": "32fcdc38-307d-4233-8920-f70f4fc18c14",
        "colab": {
          "base_uri": "https://localhost:8080/",
          "height": 134
        }
      },
      "source": [
        "# Install Kaggle API\n",
        "!pip install -q kaggle\n",
        "!pip install -q kaggle-cli"
      ],
      "execution_count": 1,
      "outputs": [
        {
          "output_type": "stream",
          "text": [
            "\u001b[K     |████████████████████████████████| 81kB 6.5MB/s \n",
            "\u001b[K     |████████████████████████████████| 5.3MB 7.9MB/s \n",
            "\u001b[K     |████████████████████████████████| 112kB 56.8MB/s \n",
            "\u001b[K     |████████████████████████████████| 143kB 56.4MB/s \n",
            "\u001b[K     |████████████████████████████████| 51kB 8.3MB/s \n",
            "\u001b[?25h  Building wheel for kaggle-cli (setup.py) ... \u001b[?25l\u001b[?25hdone\n",
            "  Building wheel for pyperclip (setup.py) ... \u001b[?25l\u001b[?25hdone\n"
          ],
          "name": "stdout"
        }
      ]
    },
    {
      "cell_type": "markdown",
      "metadata": {
        "id": "cV3qDwDx6p79"
      },
      "source": [
        "**Call file from Json for use Kaggle Dataset**\n",
        "\n"
      ]
    },
    {
      "cell_type": "code",
      "metadata": {
        "id": "pYMNgAl6hg8S"
      },
      "source": [
        "# only for google colab\n",
        "import os\n",
        "os.environ['KAGGLE_USERNAME'] = \"thammatattantipitham\" \n",
        "os.environ['KAGGLE_KEY'] = \"3cf826ab97707228fb1602519992740b\""
      ],
      "execution_count": 2,
      "outputs": []
    },
    {
      "cell_type": "code",
      "metadata": {
        "id": "q7lFIo5lhg-r",
        "outputId": "1eb05645-f058-49c8-9780-aa4a9bf1026a",
        "colab": {
          "base_uri": "https://localhost:8080/",
          "height": 67
        }
      },
      "source": [
        "!kaggle datasets download -d thammatattantipitham/originalthaiherb --unzip"
      ],
      "execution_count": 3,
      "outputs": [
        {
          "output_type": "stream",
          "text": [
            "Downloading originalthaiherb.zip to /content\n",
            " 60% 9.00M/15.0M [00:00<00:00, 20.5MB/s]\n",
            "100% 15.0M/15.0M [00:00<00:00, 30.5MB/s]\n"
          ],
          "name": "stdout"
        }
      ]
    },
    {
      "cell_type": "markdown",
      "metadata": {
        "id": "b2ZbQ75H7EtT"
      },
      "source": [
        "**Move to Directory thai-herb**"
      ]
    },
    {
      "cell_type": "code",
      "metadata": {
        "id": "JqgFPbWBhhBI"
      },
      "source": [
        "!mkdir originalthaiherb\n",
        "!mv  \"train\" \"val\" originalthaiherb"
      ],
      "execution_count": 4,
      "outputs": []
    },
    {
      "cell_type": "markdown",
      "metadata": {
        "id": "XcdGYThk7LhC"
      },
      "source": [
        "**Start**"
      ]
    },
    {
      "cell_type": "code",
      "metadata": {
        "id": "wep6meUChhDQ",
        "outputId": "a2de0097-0435-4a4d-dbd2-13d40cab1bc4",
        "colab": {
          "base_uri": "https://localhost:8080/",
          "height": 35
        }
      },
      "source": [
        "import sys\n",
        "import time\n",
        "import cv2\n",
        "import numpy as np\n",
        "from matplotlib import pyplot as plt\n",
        "import tensorflow as tf\n",
        "import os\n",
        "import keras\n",
        "\n",
        "from skimage.transform import resize\n",
        "from sklearn.model_selection import train_test_split\n",
        "\n",
        "from tensorflow.python.keras.utils import np_utils\n",
        "from tensorflow.python.keras.models import Sequential, Model\n",
        "from tensorflow.python.keras.layers import Dense, Dropout, Flatten, Activation, BatchNormalization\n",
        "from tensorflow.python.keras.layers.convolutional import Conv2D, MaxPooling2D, AveragePooling2D\n",
        "from tensorflow.python.keras.preprocessing.image import ImageDataGenerator\n",
        "from tensorflow.python.keras.optimizers import RMSprop\n",
        "from tensorflow.python.keras.applications.vgg19 import VGG19\n",
        "from tensorflow.keras.applications.resnet50 import ResNet50, preprocess_input\n",
        "from tensorflow.keras.optimizers import Adam\n",
        "from keras.applications import InceptionV3\n",
        "sys.version"
      ],
      "execution_count": 5,
      "outputs": [
        {
          "output_type": "execute_result",
          "data": {
            "application/vnd.google.colaboratory.intrinsic+json": {
              "type": "string"
            },
            "text/plain": [
              "'3.6.9 (default, Jul 17 2020, 12:50:27) \\n[GCC 8.4.0]'"
            ]
          },
          "metadata": {
            "tags": []
          },
          "execution_count": 5
        }
      ]
    },
    {
      "cell_type": "code",
      "metadata": {
        "id": "oPHYCQQGkqox",
        "outputId": "16733e69-2eb0-4e1f-f544-5b725e2299ea",
        "colab": {
          "base_uri": "https://localhost:8080/",
          "height": 101
        }
      },
      "source": [
        "from tensorflow.compat.v1.keras.backend import set_session\n",
        "\n",
        "config = tf.compat.v1.ConfigProto()\n",
        "\n",
        "config.gpu_options.allow_growth = True  # dynamically grow the memory used on the GPU\n",
        "\n",
        "config.log_device_placement = True  # to log device placement (on which device the operation ran)\n",
        "\n",
        "sess = tf.compat.v1.Session(config=config)\n",
        "\n",
        "set_session(sess)"
      ],
      "execution_count": 6,
      "outputs": [
        {
          "output_type": "stream",
          "text": [
            "Device mapping:\n",
            "/job:localhost/replica:0/task:0/device:XLA_CPU:0 -> device: XLA_CPU device\n",
            "/job:localhost/replica:0/task:0/device:XLA_GPU:0 -> device: XLA_GPU device\n",
            "/job:localhost/replica:0/task:0/device:GPU:0 -> device: 0, name: Tesla T4, pci bus id: 0000:00:04.0, compute capability: 7.5\n",
            "\n"
          ],
          "name": "stdout"
        }
      ]
    },
    {
      "cell_type": "code",
      "metadata": {
        "id": "8j7CwOUNkqsX"
      },
      "source": [
        "DATASET_PATH  = 'originalthaiherb/'\n",
        "IMAGE_SIZE    = (224, 224)\n",
        "NUM_CLASSES   = 10\n",
        "BATCH_SIZE    = 32  # try reducing batch size or freeze more layers if your GPU runs out of memory\n",
        "epochs    = 200"
      ],
      "execution_count": 7,
      "outputs": []
    },
    {
      "cell_type": "code",
      "metadata": {
        "id": "Lwe4FTL7kq4X"
      },
      "source": [
        "#ทำ aug มาเเล้ว\n",
        "train_datagen = ImageDataGenerator(preprocessing_function=preprocess_input)"
      ],
      "execution_count": 8,
      "outputs": []
    },
    {
      "cell_type": "code",
      "metadata": {
        "id": "7HDQWIrlkq6-",
        "outputId": "192b44c8-6886-43f0-d29c-7488192cf5bf",
        "colab": {
          "base_uri": "https://localhost:8080/",
          "height": 34
        }
      },
      "source": [
        "#set training data\n",
        "train_generator = train_datagen.flow_from_directory(DATASET_PATH+ r\"train/\",\n",
        "                                                    target_size = IMAGE_SIZE,\n",
        "                                                    batch_size = BATCH_SIZE,\n",
        "                                                    class_mode='categorical',\n",
        "                                                    shuffle = True,\n",
        "                                                    subset='training')"
      ],
      "execution_count": 9,
      "outputs": [
        {
          "output_type": "stream",
          "text": [
            "Found 1600 images belonging to 10 classes.\n"
          ],
          "name": "stdout"
        }
      ]
    },
    {
      "cell_type": "code",
      "metadata": {
        "id": "UANhQsw0kq8t",
        "outputId": "f3571ebd-9921-49ba-8fab-a0f22c035bb5",
        "colab": {
          "base_uri": "https://localhost:8080/",
          "height": 34
        }
      },
      "source": [
        "valid_datagen = ImageDataGenerator(preprocessing_function=preprocess_input)\n",
        "valid_generator = valid_datagen.flow_from_directory(DATASET_PATH+ r\"val/\",                                      \n",
        "                                                    target_size = IMAGE_SIZE,\n",
        "                                                    batch_size = 1,\n",
        "                                                    class_mode='categorical',\n",
        "                                                    shuffle = True\n",
        "                                                    )"
      ],
      "execution_count": 10,
      "outputs": [
        {
          "output_type": "stream",
          "text": [
            "Found 410 images belonging to 10 classes.\n"
          ],
          "name": "stdout"
        }
      ]
    },
    {
      "cell_type": "markdown",
      "metadata": {
        "id": "JxPtrM3FVhJ_"
      },
      "source": [
        "**How to use the checkpoint from google drive**"
      ]
    },
    {
      "cell_type": "code",
      "metadata": {
        "id": "DS8_MUPSVhVt"
      },
      "source": [
        "!mkdir training_ResNet50\n",
        "!unzip \"/content/drive/My Drive/Final Project/Dataset-Lab/Original/training/training.zip\" \"/content/training_ResNet50\""
      ],
      "execution_count": null,
      "outputs": []
    },
    {
      "cell_type": "markdown",
      "metadata": {
        "id": "oozhiJJEcHa8"
      },
      "source": [
        "**ResNet50**"
      ]
    },
    {
      "cell_type": "code",
      "metadata": {
        "id": "RGHJtcyP4_LK",
        "outputId": "0f9eb60b-eb70-4946-806e-4bcb9e0b8ede",
        "colab": {
          "base_uri": "https://localhost:8080/",
          "height": 34
        }
      },
      "source": [
        "# Include the epoch in the file name (uses `str.format`)\n",
        "checkpoint_path = \"training_ResNet50/cp-{epoch:04d}.ckpt\"\n",
        "checkpoint_dir = os.path.dirname(checkpoint_path)\n",
        "\n",
        "# Create a callback that saves the model's weights every 5 epochs\n",
        "cp_callback = tf.keras.callbacks.ModelCheckpoint(\n",
        "    filepath=checkpoint_path, \n",
        "    verbose=1, \n",
        "    save_weights_only=True,\n",
        "    period=50)\n",
        "\n",
        "#Create the model\n",
        "base_model_resnet = ResNet50(include_top=False,weights='imagenet',input_shape=(IMAGE_SIZE[0],IMAGE_SIZE[1],3))\n",
        "#Defining and Adding layers\n",
        "model_resnet= Sequential()\n",
        "#Add the Dense layers along with activation and batch normalization\n",
        "model_resnet.add(base_model_resnet)\n",
        "model_resnet.add(Flatten())\n",
        "\n",
        "#Add the Dense layers along with activation and batch normalization\n",
        "model_resnet.add(Dense(1024,activation=('relu'),input_dim=64))\n",
        "model_resnet.add(Dense(512,activation=('relu'))) \n",
        "model_resnet.add(Dropout(.4))\n",
        "model_resnet.add(Dense(256,activation=('relu'))) \n",
        "model_resnet.add(Dropout(.3))#Adding a dropout layer that will randomly drop 30% of the weights\n",
        "model_resnet.add(Dense(128,activation=('relu')))\n",
        "model_resnet.add(Dropout(.2))\n",
        "model_resnet.add(Dense(NUM_CLASSES,activation=('softmax'))) #This is the classification layer\n",
        "\n",
        "\n",
        "# Save the weights using the `checkpoint_path` format\n",
        "model_resnet.save_weights(checkpoint_path.format(epoch=0))"
      ],
      "execution_count": null,
      "outputs": [
        {
          "output_type": "stream",
          "text": [
            "WARNING:tensorflow:`period` argument is deprecated. Please use `save_freq` to specify the frequency in number of batches seen.\n"
          ],
          "name": "stdout"
        }
      ]
    },
    {
      "cell_type": "code",
      "metadata": {
        "id": "B6whr11lmPHh",
        "outputId": "1df5a1e7-6c79-4f05-8202-ed9bea6f0e46",
        "colab": {
          "base_uri": "https://localhost:8080/",
          "height": 185
        }
      },
      "source": [
        "train_generator.class_indices"
      ],
      "execution_count": null,
      "outputs": [
        {
          "output_type": "execute_result",
          "data": {
            "text/plain": [
              "{'eilerd': 0,\n",
              " 'fahthalinejol': 1,\n",
              " 'horapa': 2,\n",
              " 'krapao': 3,\n",
              " 'lemon': 4,\n",
              " 'magrud': 5,\n",
              " 'plu': 6,\n",
              " 'sabtiger': 7,\n",
              " 'saranae': 8,\n",
              " 'yanang': 9}"
            ]
          },
          "metadata": {
            "tags": []
          },
          "execution_count": 8
        }
      ]
    },
    {
      "cell_type": "code",
      "metadata": {
        "id": "1JJLrZTk5YE1"
      },
      "source": [
        "#Model summary\n",
        "model_resnet.summary()"
      ],
      "execution_count": null,
      "outputs": []
    },
    {
      "cell_type": "code",
      "metadata": {
        "id": "aj6FKOPJpXGF"
      },
      "source": [
        "model_resnet.compile(optimizer=Adam(lr=0.0001),  #Adam(lr=1e-5)\n",
        "                  loss='categorical_crossentropy', metrics=['accuracy'])"
      ],
      "execution_count": null,
      "outputs": []
    },
    {
      "cell_type": "code",
      "metadata": {
        "id": "2GJHAmk4nuDr"
      },
      "source": [
        "#start to train the model\n",
        "start = time.time()\n",
        "history = model_resnet.fit_generator(generator=train_generator, epochs=epochs, steps_per_epoch=train_generator.samples//BATCH_SIZE, validation_data=valid_generator,validation_steps=valid_generator.samples,callbacks=[cp_callback],verbose=1)\n",
        "\n",
        "end = time.time()\n",
        "duration = end - start\n",
        "print ('\\n model_ResNet50 took %0.2f seconds (%0.1f minutes) to train for %d epochs'%(duration, duration/60, epochs) )"
      ],
      "execution_count": null,
      "outputs": []
    },
    {
      "cell_type": "markdown",
      "metadata": {
        "id": "S2q04VVBcMcx"
      },
      "source": [
        "**VGG19**"
      ]
    },
    {
      "cell_type": "code",
      "metadata": {
        "id": "D-dE-H04cL_b",
        "outputId": "db9b16ed-738b-4324-ca54-00a026c25535",
        "colab": {
          "base_uri": "https://localhost:8080/",
          "height": 34
        }
      },
      "source": [
        "# Include the epoch in the file name (uses `str.format`)\n",
        "checkpoint_path = \"training_VGG19/cp-{epoch:04d}.ckpt\"\n",
        "checkpoint_dir = os.path.dirname(checkpoint_path)\n",
        "\n",
        "# Create a callback that saves the model's weights every 5 epochs\n",
        "cp_callback = tf.keras.callbacks.ModelCheckpoint(\n",
        "    filepath=checkpoint_path, \n",
        "    verbose=1, \n",
        "    save_weights_only=True,\n",
        "    period=50)\n",
        "\n",
        "#Create the model\n",
        "def create_model_from_VGG19():\n",
        "    \"\"\"\n",
        "      use VGG19\n",
        "    \"\"\"\n",
        "    model = VGG19(weights = \"imagenet\", include_top=False, input_tensor=None, input_shape = (224, 224, 3))\n",
        "    \n",
        "    #5 layers เเรก จะไม่ถูกฝึกเนื่องจากใช้วิธีการ freeze ไว้เเล้ว\n",
        "    for layer in model.layers[:1]:\n",
        "      layer.trainable = False\n",
        "      \n",
        "    #ทำการเพิ่ม layers ที่กำหนดขึ้นมาเอง เป็นการปรับเเต่งเพื่อเพิ่มประสิทธิภาพ \n",
        "    x = model.output\n",
        "    x = Flatten()(x)\n",
        "#     x = Dense(1024, activation=\"relu\")(x)\n",
        "    x = Dropout(0.5)(x)\n",
        "    x = Dense(1024, activation=\"relu\")(x)\n",
        "    predictions = Dense(NUM_CLASSES, activation=\"softmax\")(x)\n",
        "    \n",
        "    #สร้าง model ชั้นสุดท้ายเพื่อจะนำมา compile\n",
        "    model_VGG19 = Model(inputs = model.input, outputs = predictions)\n",
        "    \n",
        "    model_VGG19.compile(loss='categorical_crossentropy', optimizer=Adam(lr=0.0001), metrics=['accuracy']) # optimizer=RMSprop(lr=0.001)\n",
        "\n",
        "    return model_VGG19\n",
        "\n",
        "    # Save the weights using the `checkpoint_path` format\n",
        "    model_VGG19.save_weights(checkpoint_path.format(epoch=0))"
      ],
      "execution_count": 25,
      "outputs": [
        {
          "output_type": "stream",
          "text": [
            "WARNING:tensorflow:`period` argument is deprecated. Please use `save_freq` to specify the frequency in number of batches seen.\n"
          ],
          "name": "stdout"
        }
      ]
    },
    {
      "cell_type": "code",
      "metadata": {
        "id": "qtPXh-QSchgV",
        "outputId": "eff90571-f6f6-4370-e077-49907001717a",
        "colab": {
          "base_uri": "https://localhost:8080/",
          "height": 1000
        }
      },
      "source": [
        "model_VGG19 = create_model_from_VGG19()\n",
        "model_VGG19.summary()"
      ],
      "execution_count": 26,
      "outputs": [
        {
          "output_type": "stream",
          "text": [
            "Model: \"functional_3\"\n",
            "_________________________________________________________________\n",
            "Layer (type)                 Output Shape              Param #   \n",
            "=================================================================\n",
            "input_6 (InputLayer)         [(None, 224, 224, 3)]     0         \n",
            "_________________________________________________________________\n",
            "block1_conv1 (Conv2D)        (None, 224, 224, 64)      1792      \n",
            "_________________________________________________________________\n",
            "block1_conv2 (Conv2D)        (None, 224, 224, 64)      36928     \n",
            "_________________________________________________________________\n",
            "block1_pool (MaxPooling2D)   (None, 112, 112, 64)      0         \n",
            "_________________________________________________________________\n",
            "block2_conv1 (Conv2D)        (None, 112, 112, 128)     73856     \n",
            "_________________________________________________________________\n",
            "block2_conv2 (Conv2D)        (None, 112, 112, 128)     147584    \n",
            "_________________________________________________________________\n",
            "block2_pool (MaxPooling2D)   (None, 56, 56, 128)       0         \n",
            "_________________________________________________________________\n",
            "block3_conv1 (Conv2D)        (None, 56, 56, 256)       295168    \n",
            "_________________________________________________________________\n",
            "block3_conv2 (Conv2D)        (None, 56, 56, 256)       590080    \n",
            "_________________________________________________________________\n",
            "block3_conv3 (Conv2D)        (None, 56, 56, 256)       590080    \n",
            "_________________________________________________________________\n",
            "block3_conv4 (Conv2D)        (None, 56, 56, 256)       590080    \n",
            "_________________________________________________________________\n",
            "block3_pool (MaxPooling2D)   (None, 28, 28, 256)       0         \n",
            "_________________________________________________________________\n",
            "block4_conv1 (Conv2D)        (None, 28, 28, 512)       1180160   \n",
            "_________________________________________________________________\n",
            "block4_conv2 (Conv2D)        (None, 28, 28, 512)       2359808   \n",
            "_________________________________________________________________\n",
            "block4_conv3 (Conv2D)        (None, 28, 28, 512)       2359808   \n",
            "_________________________________________________________________\n",
            "block4_conv4 (Conv2D)        (None, 28, 28, 512)       2359808   \n",
            "_________________________________________________________________\n",
            "block4_pool (MaxPooling2D)   (None, 14, 14, 512)       0         \n",
            "_________________________________________________________________\n",
            "block5_conv1 (Conv2D)        (None, 14, 14, 512)       2359808   \n",
            "_________________________________________________________________\n",
            "block5_conv2 (Conv2D)        (None, 14, 14, 512)       2359808   \n",
            "_________________________________________________________________\n",
            "block5_conv3 (Conv2D)        (None, 14, 14, 512)       2359808   \n",
            "_________________________________________________________________\n",
            "block5_conv4 (Conv2D)        (None, 14, 14, 512)       2359808   \n",
            "_________________________________________________________________\n",
            "block5_pool (MaxPooling2D)   (None, 7, 7, 512)         0         \n",
            "_________________________________________________________________\n",
            "flatten_5 (Flatten)          (None, 25088)             0         \n",
            "_________________________________________________________________\n",
            "dropout_5 (Dropout)          (None, 25088)             0         \n",
            "_________________________________________________________________\n",
            "dense_10 (Dense)             (None, 1024)              25691136  \n",
            "_________________________________________________________________\n",
            "dense_11 (Dense)             (None, 10)                10250     \n",
            "=================================================================\n",
            "Total params: 45,725,770\n",
            "Trainable params: 45,725,770\n",
            "Non-trainable params: 0\n",
            "_________________________________________________________________\n"
          ],
          "name": "stdout"
        }
      ]
    },
    {
      "cell_type": "code",
      "metadata": {
        "id": "vYwAniZAcnZn",
        "outputId": "ad5ef4eb-4a0f-4cbc-92f4-03f237e99ee2",
        "colab": {
          "base_uri": "https://localhost:8080/",
          "height": 1000
        }
      },
      "source": [
        "start = time.time()\n",
        "\n",
        "history = model_VGG19.fit_generator(\n",
        "    generator=train_generator, \n",
        "    steps_per_epoch=train_generator.samples//BATCH_SIZE,   # -> 106 # images 3392 = steps * batch_size = 106 * 32 \n",
        "    epochs=epochs, \n",
        "    validation_steps=valid_generator.samples//BATCH_SIZE, # -> 26 # images 832 = steps * batch_size = 26 * 32\n",
        "    validation_data=valid_generator,\n",
        "    callbacks = [cp_callback],\n",
        "    verbose = 1\n",
        ")\n",
        "\n",
        "end = time.time()\n",
        "duration = end - start\n",
        "print ('\\n model_VGG19 took %0.2f seconds (%0.1f minutes) to train for %d epochs'%(duration, duration/60, epochs) )"
      ],
      "execution_count": 30,
      "outputs": [
        {
          "output_type": "stream",
          "text": [
            "Epoch 1/200\n",
            " 2/50 [>.............................] - ETA: 11s - loss: 6.2235 - accuracy: 0.1719WARNING:tensorflow:Callbacks method `on_train_batch_end` is slow compared to the batch time (batch time: 0.1383s vs `on_train_batch_end` time: 0.3361s). Check your callbacks.\n",
            "50/50 [==============================] - 24s 486ms/step - loss: 2.3810 - accuracy: 0.1719 - val_loss: 2.0148 - val_accuracy: 0.0833\n",
            "Epoch 2/200\n",
            "50/50 [==============================] - 24s 484ms/step - loss: 1.5732 - accuracy: 0.4175 - val_loss: 0.8738 - val_accuracy: 0.6667\n",
            "Epoch 3/200\n",
            "50/50 [==============================] - 24s 477ms/step - loss: 1.1797 - accuracy: 0.5738 - val_loss: 0.8573 - val_accuracy: 0.5833\n",
            "Epoch 4/200\n",
            "50/50 [==============================] - 24s 479ms/step - loss: 0.6287 - accuracy: 0.7731 - val_loss: 0.5962 - val_accuracy: 0.7500\n",
            "Epoch 5/200\n",
            "50/50 [==============================] - 24s 482ms/step - loss: 0.5617 - accuracy: 0.8100 - val_loss: 0.2325 - val_accuracy: 0.9167\n",
            "Epoch 6/200\n",
            "50/50 [==============================] - 24s 482ms/step - loss: 0.4362 - accuracy: 0.8575 - val_loss: 0.3474 - val_accuracy: 0.9167\n",
            "Epoch 7/200\n",
            "50/50 [==============================] - 24s 480ms/step - loss: 0.2537 - accuracy: 0.9125 - val_loss: 0.0697 - val_accuracy: 1.0000\n",
            "Epoch 8/200\n",
            "50/50 [==============================] - 24s 480ms/step - loss: 0.2320 - accuracy: 0.9212 - val_loss: 0.4167 - val_accuracy: 0.9167\n",
            "Epoch 9/200\n",
            "50/50 [==============================] - 24s 479ms/step - loss: 0.1737 - accuracy: 0.9500 - val_loss: 0.1635 - val_accuracy: 1.0000\n",
            "Epoch 10/200\n",
            "50/50 [==============================] - 24s 479ms/step - loss: 0.2601 - accuracy: 0.9087 - val_loss: 0.7949 - val_accuracy: 0.6667\n",
            "Epoch 11/200\n",
            "50/50 [==============================] - 24s 479ms/step - loss: 0.3195 - accuracy: 0.8981 - val_loss: 0.1393 - val_accuracy: 0.9167\n",
            "Epoch 12/200\n",
            "50/50 [==============================] - 24s 479ms/step - loss: 0.1778 - accuracy: 0.9381 - val_loss: 0.0501 - val_accuracy: 1.0000\n",
            "Epoch 13/200\n",
            "50/50 [==============================] - 24s 480ms/step - loss: 0.1292 - accuracy: 0.9581 - val_loss: 0.1653 - val_accuracy: 0.9167\n",
            "Epoch 14/200\n",
            "50/50 [==============================] - 24s 479ms/step - loss: 0.0745 - accuracy: 0.9756 - val_loss: 0.1574 - val_accuracy: 0.9167\n",
            "Epoch 15/200\n",
            "50/50 [==============================] - 24s 479ms/step - loss: 0.0361 - accuracy: 0.9906 - val_loss: 0.7457 - val_accuracy: 0.9167\n",
            "Epoch 16/200\n",
            "50/50 [==============================] - 24s 479ms/step - loss: 0.0388 - accuracy: 0.9862 - val_loss: 0.0038 - val_accuracy: 1.0000\n",
            "Epoch 17/200\n",
            "50/50 [==============================] - 24s 479ms/step - loss: 0.0206 - accuracy: 0.9950 - val_loss: 0.0822 - val_accuracy: 0.9167\n",
            "Epoch 18/200\n",
            "50/50 [==============================] - 24s 479ms/step - loss: 0.0407 - accuracy: 0.9869 - val_loss: 0.0611 - val_accuracy: 1.0000\n",
            "Epoch 19/200\n",
            "50/50 [==============================] - 24s 480ms/step - loss: 0.0457 - accuracy: 0.9837 - val_loss: 0.4271 - val_accuracy: 0.9167\n",
            "Epoch 20/200\n",
            "50/50 [==============================] - 24s 479ms/step - loss: 0.0913 - accuracy: 0.9769 - val_loss: 0.1804 - val_accuracy: 0.9167\n",
            "Epoch 21/200\n",
            "50/50 [==============================] - 24s 479ms/step - loss: 0.1653 - accuracy: 0.9506 - val_loss: 0.0657 - val_accuracy: 1.0000\n",
            "Epoch 22/200\n",
            "50/50 [==============================] - 24s 478ms/step - loss: 0.2611 - accuracy: 0.9200 - val_loss: 0.0052 - val_accuracy: 1.0000\n",
            "Epoch 23/200\n",
            "50/50 [==============================] - 24s 477ms/step - loss: 0.1332 - accuracy: 0.9575 - val_loss: 0.2663 - val_accuracy: 0.9167\n",
            "Epoch 24/200\n",
            "50/50 [==============================] - 24s 477ms/step - loss: 0.0910 - accuracy: 0.9775 - val_loss: 0.1131 - val_accuracy: 0.9167\n",
            "Epoch 25/200\n",
            "50/50 [==============================] - 24s 477ms/step - loss: 0.0212 - accuracy: 0.9931 - val_loss: 0.0059 - val_accuracy: 1.0000\n",
            "Epoch 26/200\n",
            "50/50 [==============================] - 24s 477ms/step - loss: 0.0189 - accuracy: 0.9944 - val_loss: 0.0121 - val_accuracy: 1.0000\n",
            "Epoch 27/200\n",
            "50/50 [==============================] - 24s 478ms/step - loss: 0.0470 - accuracy: 0.9856 - val_loss: 1.4649 - val_accuracy: 0.8333\n",
            "Epoch 28/200\n",
            "50/50 [==============================] - 24s 478ms/step - loss: 0.0111 - accuracy: 0.9962 - val_loss: 0.0326 - val_accuracy: 1.0000\n",
            "Epoch 29/200\n",
            "50/50 [==============================] - 24s 478ms/step - loss: 0.0205 - accuracy: 0.9931 - val_loss: 0.0262 - val_accuracy: 1.0000\n",
            "Epoch 30/200\n",
            "50/50 [==============================] - 24s 478ms/step - loss: 0.0969 - accuracy: 0.9750 - val_loss: 0.1465 - val_accuracy: 0.9167\n",
            "Epoch 31/200\n",
            "50/50 [==============================] - 24s 477ms/step - loss: 0.0252 - accuracy: 0.9931 - val_loss: 0.0015 - val_accuracy: 1.0000\n",
            "Epoch 32/200\n",
            "50/50 [==============================] - 24s 477ms/step - loss: 0.0243 - accuracy: 0.9925 - val_loss: 1.1534e-04 - val_accuracy: 1.0000\n",
            "Epoch 33/200\n",
            "50/50 [==============================] - 24s 478ms/step - loss: 0.0019 - accuracy: 1.0000 - val_loss: 8.0959e-04 - val_accuracy: 1.0000\n",
            "Epoch 34/200\n",
            "50/50 [==============================] - 24s 478ms/step - loss: 5.8960e-04 - accuracy: 1.0000 - val_loss: 0.0013 - val_accuracy: 1.0000\n",
            "Epoch 35/200\n",
            "50/50 [==============================] - 24s 477ms/step - loss: 2.9297e-04 - accuracy: 1.0000 - val_loss: 4.0229e-05 - val_accuracy: 1.0000\n",
            "Epoch 36/200\n",
            "50/50 [==============================] - 24s 477ms/step - loss: 1.6968e-04 - accuracy: 1.0000 - val_loss: 0.0197 - val_accuracy: 1.0000\n",
            "Epoch 37/200\n",
            "50/50 [==============================] - 24s 477ms/step - loss: 7.4229e-05 - accuracy: 1.0000 - val_loss: 0.0212 - val_accuracy: 1.0000\n",
            "Epoch 38/200\n",
            "50/50 [==============================] - 24s 476ms/step - loss: 2.9691e-05 - accuracy: 1.0000 - val_loss: 9.9341e-09 - val_accuracy: 1.0000\n",
            "Epoch 39/200\n",
            "50/50 [==============================] - 24s 477ms/step - loss: 4.5850e-05 - accuracy: 1.0000 - val_loss: 1.7249e-04 - val_accuracy: 1.0000\n",
            "Epoch 40/200\n",
            "50/50 [==============================] - 24s 477ms/step - loss: 8.8244e-05 - accuracy: 1.0000 - val_loss: 5.7618e-07 - val_accuracy: 1.0000\n",
            "Epoch 41/200\n",
            "50/50 [==============================] - 24s 477ms/step - loss: 4.5013e-05 - accuracy: 1.0000 - val_loss: 0.0127 - val_accuracy: 1.0000\n",
            "Epoch 42/200\n",
            "50/50 [==============================] - 24s 478ms/step - loss: 6.7961e-05 - accuracy: 1.0000 - val_loss: 1.3808e-05 - val_accuracy: 1.0000\n",
            "Epoch 43/200\n",
            "50/50 [==============================] - 24s 477ms/step - loss: 3.8180e-05 - accuracy: 1.0000 - val_loss: 0.0445 - val_accuracy: 1.0000\n",
            "Epoch 44/200\n",
            "50/50 [==============================] - 24s 477ms/step - loss: 7.0527e-05 - accuracy: 1.0000 - val_loss: 0.0976 - val_accuracy: 0.9167\n",
            "Epoch 45/200\n",
            "50/50 [==============================] - 24s 477ms/step - loss: 4.0993e-05 - accuracy: 1.0000 - val_loss: 0.1301 - val_accuracy: 0.9167\n",
            "Epoch 46/200\n",
            "50/50 [==============================] - 24s 477ms/step - loss: 2.4409e-05 - accuracy: 1.0000 - val_loss: 1.5426e-05 - val_accuracy: 1.0000\n",
            "Epoch 47/200\n",
            "50/50 [==============================] - 24s 477ms/step - loss: 2.1821e-05 - accuracy: 1.0000 - val_loss: 1.0033e-06 - val_accuracy: 1.0000\n",
            "Epoch 48/200\n",
            "50/50 [==============================] - 24s 477ms/step - loss: 1.7394e-05 - accuracy: 1.0000 - val_loss: 7.4506e-07 - val_accuracy: 1.0000\n",
            "Epoch 49/200\n",
            "50/50 [==============================] - 24s 477ms/step - loss: 1.5812e-05 - accuracy: 1.0000 - val_loss: 1.7186e-06 - val_accuracy: 1.0000\n",
            "Epoch 50/200\n",
            "50/50 [==============================] - ETA: 0s - loss: 2.2828e-05 - accuracy: 1.0000\n",
            "Epoch 00050: saving model to training_VGG19/cp-0050.ckpt\n",
            "50/50 [==============================] - 26s 516ms/step - loss: 2.2828e-05 - accuracy: 1.0000 - val_loss: 0.0146 - val_accuracy: 1.0000\n",
            "Epoch 51/200\n",
            "50/50 [==============================] - 24s 476ms/step - loss: 7.6124e-06 - accuracy: 1.0000 - val_loss: 3.2938e-05 - val_accuracy: 1.0000\n",
            "Epoch 52/200\n",
            "50/50 [==============================] - 24s 476ms/step - loss: 2.9037e-05 - accuracy: 1.0000 - val_loss: 1.7472e-05 - val_accuracy: 1.0000\n",
            "Epoch 53/200\n",
            "50/50 [==============================] - 24s 477ms/step - loss: 1.4269e-05 - accuracy: 1.0000 - val_loss: 9.5168e-05 - val_accuracy: 1.0000\n",
            "Epoch 54/200\n",
            "50/50 [==============================] - 24s 478ms/step - loss: 2.5357e-05 - accuracy: 1.0000 - val_loss: 1.8775e-06 - val_accuracy: 1.0000\n",
            "Epoch 55/200\n",
            "50/50 [==============================] - 24s 476ms/step - loss: 7.1524e-06 - accuracy: 1.0000 - val_loss: 1.0601e-04 - val_accuracy: 1.0000\n",
            "Epoch 56/200\n",
            "50/50 [==============================] - 24s 477ms/step - loss: 8.1262e-06 - accuracy: 1.0000 - val_loss: 8.2145e-05 - val_accuracy: 1.0000\n",
            "Epoch 57/200\n",
            "50/50 [==============================] - 24s 478ms/step - loss: 2.8937e-05 - accuracy: 1.0000 - val_loss: 2.0433e-05 - val_accuracy: 1.0000\n",
            "Epoch 58/200\n",
            "50/50 [==============================] - 24s 478ms/step - loss: 1.4364e-05 - accuracy: 1.0000 - val_loss: 7.9473e-08 - val_accuracy: 1.0000\n",
            "Epoch 59/200\n",
            "50/50 [==============================] - 24s 477ms/step - loss: 6.6497e-06 - accuracy: 1.0000 - val_loss: 9.7354e-07 - val_accuracy: 1.0000\n",
            "Epoch 60/200\n",
            "50/50 [==============================] - 24s 478ms/step - loss: 6.7237e-06 - accuracy: 1.0000 - val_loss: 0.0000e+00 - val_accuracy: 1.0000\n",
            "Epoch 61/200\n",
            "50/50 [==============================] - 24s 477ms/step - loss: 5.6184e-05 - accuracy: 1.0000 - val_loss: 0.0220 - val_accuracy: 1.0000\n",
            "Epoch 62/200\n",
            "50/50 [==============================] - 24s 477ms/step - loss: 1.0408e-05 - accuracy: 1.0000 - val_loss: 2.5805e-04 - val_accuracy: 1.0000\n",
            "Epoch 63/200\n",
            "50/50 [==============================] - 24s 478ms/step - loss: 2.4036e-05 - accuracy: 1.0000 - val_loss: 9.6525e-04 - val_accuracy: 1.0000\n",
            "Epoch 64/200\n",
            "50/50 [==============================] - 24s 478ms/step - loss: 8.6371e-06 - accuracy: 1.0000 - val_loss: 0.0975 - val_accuracy: 0.9167\n",
            "Epoch 65/200\n",
            "50/50 [==============================] - 24s 477ms/step - loss: 2.0896e-05 - accuracy: 1.0000 - val_loss: 3.4769e-06 - val_accuracy: 1.0000\n",
            "Epoch 66/200\n",
            "50/50 [==============================] - 24s 477ms/step - loss: 2.8344e-06 - accuracy: 1.0000 - val_loss: 2.8312e-06 - val_accuracy: 1.0000\n",
            "Epoch 67/200\n",
            "50/50 [==============================] - 24s 477ms/step - loss: 3.5749e-06 - accuracy: 1.0000 - val_loss: 2.3345e-06 - val_accuracy: 1.0000\n",
            "Epoch 68/200\n",
            "50/50 [==============================] - 24s 476ms/step - loss: 2.6081e-06 - accuracy: 1.0000 - val_loss: 0.0014 - val_accuracy: 1.0000\n",
            "Epoch 69/200\n",
            "50/50 [==============================] - 24s 476ms/step - loss: 5.2194e-06 - accuracy: 1.0000 - val_loss: 3.1789e-07 - val_accuracy: 1.0000\n",
            "Epoch 70/200\n",
            "50/50 [==============================] - 24s 478ms/step - loss: 5.6555e-06 - accuracy: 1.0000 - val_loss: 0.0000e+00 - val_accuracy: 1.0000\n",
            "Epoch 71/200\n",
            "50/50 [==============================] - 24s 477ms/step - loss: 2.1812e-06 - accuracy: 1.0000 - val_loss: 1.1921e-07 - val_accuracy: 1.0000\n",
            "Epoch 72/200\n",
            "50/50 [==============================] - 24s 477ms/step - loss: 4.9440e-06 - accuracy: 1.0000 - val_loss: 4.8874e-06 - val_accuracy: 1.0000\n",
            "Epoch 73/200\n",
            "50/50 [==============================] - 24s 476ms/step - loss: 5.4486e-06 - accuracy: 1.0000 - val_loss: 0.0016 - val_accuracy: 1.0000\n",
            "Epoch 74/200\n",
            "50/50 [==============================] - 24s 477ms/step - loss: 5.3287e-06 - accuracy: 1.0000 - val_loss: 5.3186e-04 - val_accuracy: 1.0000\n",
            "Epoch 75/200\n",
            "50/50 [==============================] - 24s 477ms/step - loss: 4.5352e-06 - accuracy: 1.0000 - val_loss: 2.9876e-05 - val_accuracy: 1.0000\n",
            "Epoch 76/200\n",
            "50/50 [==============================] - 24s 477ms/step - loss: 1.2007e-05 - accuracy: 1.0000 - val_loss: 3.6080e-04 - val_accuracy: 1.0000\n",
            "Epoch 77/200\n",
            "50/50 [==============================] - 24s 475ms/step - loss: 0.7883 - accuracy: 0.7650 - val_loss: 2.2670 - val_accuracy: 0.0833\n",
            "Epoch 78/200\n",
            "50/50 [==============================] - 23s 453ms/step - loss: 2.3306 - accuracy: 0.0969 - val_loss: 2.3078 - val_accuracy: 0.0000e+00\n",
            "Epoch 79/200\n",
            "50/50 [==============================] - 23s 453ms/step - loss: 2.3030 - accuracy: 0.0988 - val_loss: 2.3002 - val_accuracy: 0.0833\n",
            "Epoch 80/200\n",
            "50/50 [==============================] - 23s 453ms/step - loss: 2.3029 - accuracy: 0.1000 - val_loss: 2.3027 - val_accuracy: 0.0833\n",
            "Epoch 81/200\n",
            "50/50 [==============================] - 23s 453ms/step - loss: 2.3028 - accuracy: 0.1000 - val_loss: 2.3009 - val_accuracy: 0.0833\n",
            "Epoch 82/200\n",
            "50/50 [==============================] - 23s 453ms/step - loss: 2.3028 - accuracy: 0.1000 - val_loss: 2.3023 - val_accuracy: 0.0833\n",
            "Epoch 83/200\n",
            "50/50 [==============================] - 23s 452ms/step - loss: 2.3028 - accuracy: 0.1000 - val_loss: 2.3014 - val_accuracy: 0.0000e+00\n",
            "Epoch 84/200\n",
            "50/50 [==============================] - 23s 453ms/step - loss: 2.3027 - accuracy: 0.1000 - val_loss: 2.3031 - val_accuracy: 0.1667\n",
            "Epoch 85/200\n",
            "50/50 [==============================] - 23s 453ms/step - loss: 2.3027 - accuracy: 0.1000 - val_loss: 2.3026 - val_accuracy: 0.0833\n",
            "Epoch 86/200\n",
            "50/50 [==============================] - 23s 452ms/step - loss: 2.3027 - accuracy: 0.1000 - val_loss: 2.3052 - val_accuracy: 0.0833\n",
            "Epoch 87/200\n",
            "50/50 [==============================] - 23s 452ms/step - loss: 2.3027 - accuracy: 0.0900 - val_loss: 2.3026 - val_accuracy: 0.0833\n",
            "Epoch 88/200\n",
            "50/50 [==============================] - 23s 452ms/step - loss: 2.3027 - accuracy: 0.1006 - val_loss: 2.3024 - val_accuracy: 0.0833\n",
            "Epoch 89/200\n",
            "50/50 [==============================] - 23s 452ms/step - loss: 2.3027 - accuracy: 0.1000 - val_loss: 2.3008 - val_accuracy: 0.0000e+00\n",
            "Epoch 90/200\n",
            "50/50 [==============================] - 23s 453ms/step - loss: 2.3027 - accuracy: 0.1000 - val_loss: 2.3039 - val_accuracy: 0.0833\n",
            "Epoch 91/200\n",
            "50/50 [==============================] - 23s 453ms/step - loss: 2.3027 - accuracy: 0.0913 - val_loss: 2.3032 - val_accuracy: 0.0833\n",
            "Epoch 92/200\n",
            "50/50 [==============================] - 23s 452ms/step - loss: 2.3027 - accuracy: 0.0956 - val_loss: 2.3018 - val_accuracy: 0.1667\n",
            "Epoch 93/200\n",
            "50/50 [==============================] - 23s 452ms/step - loss: 2.3027 - accuracy: 0.0850 - val_loss: 2.3027 - val_accuracy: 0.0000e+00\n",
            "Epoch 94/200\n",
            "50/50 [==============================] - 23s 452ms/step - loss: 2.3026 - accuracy: 0.1019 - val_loss: 2.3015 - val_accuracy: 0.1667\n",
            "Epoch 95/200\n",
            "50/50 [==============================] - 23s 452ms/step - loss: 2.3027 - accuracy: 0.0981 - val_loss: 2.3028 - val_accuracy: 0.0000e+00\n",
            "Epoch 96/200\n",
            "50/50 [==============================] - 23s 452ms/step - loss: 2.3027 - accuracy: 0.1000 - val_loss: 2.3042 - val_accuracy: 0.1667\n",
            "Epoch 97/200\n",
            "50/50 [==============================] - 23s 452ms/step - loss: 2.3026 - accuracy: 0.0938 - val_loss: 2.3018 - val_accuracy: 0.0000e+00\n",
            "Epoch 98/200\n",
            "50/50 [==============================] - 23s 452ms/step - loss: 2.3027 - accuracy: 0.0831 - val_loss: 2.3022 - val_accuracy: 0.0833\n",
            "Epoch 99/200\n",
            "50/50 [==============================] - 23s 452ms/step - loss: 2.3026 - accuracy: 0.0981 - val_loss: 2.3019 - val_accuracy: 0.0833\n",
            "Epoch 100/200\n",
            "50/50 [==============================] - ETA: 0s - loss: 2.3026 - accuracy: 0.1000\n",
            "Epoch 00100: saving model to training_VGG19/cp-0100.ckpt\n",
            "50/50 [==============================] - 24s 479ms/step - loss: 2.3026 - accuracy: 0.1000 - val_loss: 2.3030 - val_accuracy: 0.0833\n",
            "Epoch 101/200\n",
            "50/50 [==============================] - 23s 453ms/step - loss: 2.3026 - accuracy: 0.1000 - val_loss: 2.3012 - val_accuracy: 0.0833\n",
            "Epoch 102/200\n",
            "50/50 [==============================] - 23s 452ms/step - loss: 2.3026 - accuracy: 0.1000 - val_loss: 2.3060 - val_accuracy: 0.0000e+00\n",
            "Epoch 103/200\n",
            "50/50 [==============================] - 23s 452ms/step - loss: 2.3026 - accuracy: 0.0956 - val_loss: 2.3016 - val_accuracy: 0.0000e+00\n",
            "Epoch 104/200\n",
            "50/50 [==============================] - 23s 452ms/step - loss: 2.3026 - accuracy: 0.1000 - val_loss: 2.3020 - val_accuracy: 0.0000e+00\n",
            "Epoch 105/200\n",
            "50/50 [==============================] - 23s 452ms/step - loss: 2.3026 - accuracy: 0.1000 - val_loss: 2.3025 - val_accuracy: 0.0000e+00\n",
            "Epoch 106/200\n",
            "50/50 [==============================] - 23s 453ms/step - loss: 2.3026 - accuracy: 0.0925 - val_loss: 2.3031 - val_accuracy: 0.0833\n",
            "Epoch 107/200\n",
            "50/50 [==============================] - 23s 453ms/step - loss: 2.3027 - accuracy: 0.1000 - val_loss: 2.3027 - val_accuracy: 0.0833\n",
            "Epoch 108/200\n",
            "50/50 [==============================] - 23s 453ms/step - loss: 2.3026 - accuracy: 0.1000 - val_loss: 2.3013 - val_accuracy: 0.2500\n",
            "Epoch 109/200\n",
            "50/50 [==============================] - 23s 453ms/step - loss: 2.3026 - accuracy: 0.1000 - val_loss: 2.3030 - val_accuracy: 0.0833\n",
            "Epoch 110/200\n",
            "50/50 [==============================] - 23s 452ms/step - loss: 2.3026 - accuracy: 0.0931 - val_loss: 2.3026 - val_accuracy: 0.1667\n",
            "Epoch 111/200\n",
            "50/50 [==============================] - 23s 452ms/step - loss: 2.3026 - accuracy: 0.0913 - val_loss: 2.3035 - val_accuracy: 0.0000e+00\n",
            "Epoch 112/200\n",
            "50/50 [==============================] - 23s 452ms/step - loss: 2.3026 - accuracy: 0.0913 - val_loss: 2.3034 - val_accuracy: 0.1667\n",
            "Epoch 113/200\n",
            "50/50 [==============================] - 23s 451ms/step - loss: 2.3026 - accuracy: 0.0981 - val_loss: 2.3027 - val_accuracy: 0.0000e+00\n",
            "Epoch 114/200\n",
            "50/50 [==============================] - 23s 451ms/step - loss: 2.3026 - accuracy: 0.0931 - val_loss: 2.3024 - val_accuracy: 0.0833\n",
            "Epoch 115/200\n",
            "50/50 [==============================] - 23s 452ms/step - loss: 2.3026 - accuracy: 0.0944 - val_loss: 2.3023 - val_accuracy: 0.1667\n",
            "Epoch 116/200\n",
            "50/50 [==============================] - 23s 452ms/step - loss: 2.3026 - accuracy: 0.0944 - val_loss: 2.3024 - val_accuracy: 0.0000e+00\n",
            "Epoch 117/200\n",
            "50/50 [==============================] - 23s 452ms/step - loss: 2.3026 - accuracy: 0.0913 - val_loss: 2.3021 - val_accuracy: 0.2500\n",
            "Epoch 118/200\n",
            "50/50 [==============================] - 23s 452ms/step - loss: 2.3026 - accuracy: 0.0900 - val_loss: 2.3021 - val_accuracy: 0.2500\n",
            "Epoch 119/200\n",
            "50/50 [==============================] - 23s 453ms/step - loss: 2.3026 - accuracy: 0.1000 - val_loss: 2.3023 - val_accuracy: 0.0833\n",
            "Epoch 120/200\n",
            "50/50 [==============================] - 23s 453ms/step - loss: 2.3026 - accuracy: 0.0969 - val_loss: 2.3021 - val_accuracy: 0.1667\n",
            "Epoch 121/200\n",
            "50/50 [==============================] - 23s 454ms/step - loss: 2.3026 - accuracy: 0.0925 - val_loss: 2.3027 - val_accuracy: 0.0833\n",
            "Epoch 122/200\n",
            "50/50 [==============================] - 23s 452ms/step - loss: 2.3026 - accuracy: 0.0919 - val_loss: 2.3029 - val_accuracy: 0.0000e+00\n",
            "Epoch 123/200\n",
            "50/50 [==============================] - 23s 452ms/step - loss: 2.3026 - accuracy: 0.0944 - val_loss: 2.3029 - val_accuracy: 0.0000e+00\n",
            "Epoch 124/200\n",
            "50/50 [==============================] - 23s 452ms/step - loss: 2.3026 - accuracy: 0.1000 - val_loss: 2.3023 - val_accuracy: 0.0833\n",
            "Epoch 125/200\n",
            "50/50 [==============================] - 23s 453ms/step - loss: 2.3026 - accuracy: 0.0906 - val_loss: 2.3030 - val_accuracy: 0.0833\n",
            "Epoch 126/200\n",
            "50/50 [==============================] - 23s 453ms/step - loss: 2.3026 - accuracy: 0.0956 - val_loss: 2.3018 - val_accuracy: 0.0833\n",
            "Epoch 127/200\n",
            "50/50 [==============================] - 23s 453ms/step - loss: 2.3026 - accuracy: 0.0925 - val_loss: 2.3044 - val_accuracy: 0.0000e+00\n",
            "Epoch 128/200\n",
            "50/50 [==============================] - 23s 452ms/step - loss: 2.3026 - accuracy: 0.0894 - val_loss: 2.3032 - val_accuracy: 0.0833\n",
            "Epoch 129/200\n",
            "50/50 [==============================] - 23s 453ms/step - loss: 2.3026 - accuracy: 0.1000 - val_loss: 2.3030 - val_accuracy: 0.0833\n",
            "Epoch 130/200\n",
            "50/50 [==============================] - 23s 451ms/step - loss: 2.3026 - accuracy: 0.0969 - val_loss: 2.3021 - val_accuracy: 0.0000e+00\n",
            "Epoch 131/200\n",
            "50/50 [==============================] - 23s 452ms/step - loss: 2.3026 - accuracy: 0.0925 - val_loss: 2.3027 - val_accuracy: 0.0000e+00\n",
            "Epoch 132/200\n",
            "50/50 [==============================] - 23s 452ms/step - loss: 2.3026 - accuracy: 0.0862 - val_loss: 2.3024 - val_accuracy: 0.0833\n",
            "Epoch 133/200\n",
            "50/50 [==============================] - 23s 452ms/step - loss: 2.3026 - accuracy: 0.1000 - val_loss: 2.3018 - val_accuracy: 0.3333\n",
            "Epoch 134/200\n",
            "50/50 [==============================] - 23s 454ms/step - loss: 2.3026 - accuracy: 0.0869 - val_loss: 2.3029 - val_accuracy: 0.1667\n",
            "Epoch 135/200\n",
            "50/50 [==============================] - 23s 452ms/step - loss: 2.3026 - accuracy: 0.0975 - val_loss: 2.3023 - val_accuracy: 0.1667\n",
            "Epoch 136/200\n",
            "50/50 [==============================] - 23s 452ms/step - loss: 2.3026 - accuracy: 0.0869 - val_loss: 2.3025 - val_accuracy: 0.1667\n",
            "Epoch 137/200\n",
            "50/50 [==============================] - 23s 452ms/step - loss: 2.3026 - accuracy: 0.0875 - val_loss: 2.3019 - val_accuracy: 0.1667\n",
            "Epoch 138/200\n",
            "50/50 [==============================] - 23s 452ms/step - loss: 2.3026 - accuracy: 0.0919 - val_loss: 2.3022 - val_accuracy: 0.1667\n",
            "Epoch 139/200\n",
            "50/50 [==============================] - 23s 452ms/step - loss: 2.3026 - accuracy: 0.0906 - val_loss: 2.3026 - val_accuracy: 0.0833\n",
            "Epoch 140/200\n",
            "50/50 [==============================] - 23s 454ms/step - loss: 2.3026 - accuracy: 0.1000 - val_loss: 2.3022 - val_accuracy: 0.1667\n",
            "Epoch 141/200\n",
            "50/50 [==============================] - 23s 452ms/step - loss: 2.3026 - accuracy: 0.0988 - val_loss: 2.3025 - val_accuracy: 0.1667\n",
            "Epoch 142/200\n",
            "50/50 [==============================] - 23s 452ms/step - loss: 2.3026 - accuracy: 0.0887 - val_loss: 2.3025 - val_accuracy: 0.0000e+00\n",
            "Epoch 143/200\n",
            "50/50 [==============================] - 23s 452ms/step - loss: 2.3026 - accuracy: 0.0956 - val_loss: 2.3032 - val_accuracy: 0.0000e+00\n",
            "Epoch 144/200\n",
            "50/50 [==============================] - 23s 453ms/step - loss: 2.3026 - accuracy: 0.0812 - val_loss: 2.3030 - val_accuracy: 0.0000e+00\n",
            "Epoch 145/200\n",
            "50/50 [==============================] - 23s 453ms/step - loss: 2.3026 - accuracy: 0.0962 - val_loss: 2.3022 - val_accuracy: 0.0833\n",
            "Epoch 146/200\n",
            "50/50 [==============================] - 23s 453ms/step - loss: 2.3026 - accuracy: 0.0938 - val_loss: 2.3021 - val_accuracy: 0.0000e+00\n",
            "Epoch 147/200\n",
            "50/50 [==============================] - 23s 452ms/step - loss: 2.3026 - accuracy: 0.0925 - val_loss: 2.3025 - val_accuracy: 0.0833\n",
            "Epoch 148/200\n",
            "50/50 [==============================] - 23s 452ms/step - loss: 2.3026 - accuracy: 0.0819 - val_loss: 2.3028 - val_accuracy: 0.1667\n",
            "Epoch 149/200\n",
            "50/50 [==============================] - 23s 453ms/step - loss: 2.3026 - accuracy: 0.0969 - val_loss: 2.3023 - val_accuracy: 0.0833\n",
            "Epoch 150/200\n",
            "50/50 [==============================] - ETA: 0s - loss: 2.3026 - accuracy: 0.0844\n",
            "Epoch 00150: saving model to training_VGG19/cp-0150.ckpt\n",
            "50/50 [==============================] - 24s 478ms/step - loss: 2.3026 - accuracy: 0.0844 - val_loss: 2.3027 - val_accuracy: 0.0000e+00\n",
            "Epoch 151/200\n",
            "50/50 [==============================] - 23s 452ms/step - loss: 2.3026 - accuracy: 0.0869 - val_loss: 2.3031 - val_accuracy: 0.0833\n",
            "Epoch 152/200\n",
            "50/50 [==============================] - 23s 453ms/step - loss: 2.3026 - accuracy: 0.0962 - val_loss: 2.3024 - val_accuracy: 0.0833\n",
            "Epoch 153/200\n",
            "50/50 [==============================] - 23s 453ms/step - loss: 2.3026 - accuracy: 0.0906 - val_loss: 2.3029 - val_accuracy: 0.0000e+00\n",
            "Epoch 154/200\n",
            "50/50 [==============================] - 23s 452ms/step - loss: 2.3026 - accuracy: 0.0988 - val_loss: 2.3026 - val_accuracy: 0.2500\n",
            "Epoch 155/200\n",
            "50/50 [==============================] - 23s 451ms/step - loss: 2.3026 - accuracy: 0.0925 - val_loss: 2.3026 - val_accuracy: 0.0833\n",
            "Epoch 156/200\n",
            "50/50 [==============================] - 23s 452ms/step - loss: 2.3026 - accuracy: 0.1000 - val_loss: 2.3034 - val_accuracy: 0.0000e+00\n",
            "Epoch 157/200\n",
            "50/50 [==============================] - 23s 452ms/step - loss: 2.3026 - accuracy: 0.0969 - val_loss: 2.3027 - val_accuracy: 0.0000e+00\n",
            "Epoch 158/200\n",
            "50/50 [==============================] - 23s 451ms/step - loss: 2.3026 - accuracy: 0.0925 - val_loss: 2.3024 - val_accuracy: 0.0833\n",
            "Epoch 159/200\n",
            "50/50 [==============================] - 23s 452ms/step - loss: 2.3026 - accuracy: 0.0894 - val_loss: 2.3023 - val_accuracy: 0.1667\n",
            "Epoch 160/200\n",
            "50/50 [==============================] - 23s 452ms/step - loss: 2.3026 - accuracy: 0.0981 - val_loss: 2.3031 - val_accuracy: 0.0000e+00\n",
            "Epoch 161/200\n",
            "50/50 [==============================] - 23s 451ms/step - loss: 2.3026 - accuracy: 0.0900 - val_loss: 2.3024 - val_accuracy: 0.1667\n",
            "Epoch 162/200\n",
            "50/50 [==============================] - 23s 453ms/step - loss: 2.3026 - accuracy: 0.0875 - val_loss: 2.3027 - val_accuracy: 0.0833\n",
            "Epoch 163/200\n",
            "50/50 [==============================] - 23s 453ms/step - loss: 2.3026 - accuracy: 0.0938 - val_loss: 2.3024 - val_accuracy: 0.0000e+00\n",
            "Epoch 164/200\n",
            "50/50 [==============================] - 23s 453ms/step - loss: 2.3026 - accuracy: 0.0862 - val_loss: 2.3021 - val_accuracy: 0.2500\n",
            "Epoch 165/200\n",
            "50/50 [==============================] - 23s 452ms/step - loss: 2.3026 - accuracy: 0.0875 - val_loss: 2.3030 - val_accuracy: 0.0833\n",
            "Epoch 166/200\n",
            "50/50 [==============================] - 23s 452ms/step - loss: 2.3026 - accuracy: 0.0938 - val_loss: 2.3028 - val_accuracy: 0.0833\n",
            "Epoch 167/200\n",
            "50/50 [==============================] - 23s 452ms/step - loss: 2.3026 - accuracy: 0.0981 - val_loss: 2.3025 - val_accuracy: 0.0833\n",
            "Epoch 168/200\n",
            "50/50 [==============================] - 23s 452ms/step - loss: 2.3026 - accuracy: 0.0881 - val_loss: 2.3024 - val_accuracy: 0.0833\n",
            "Epoch 169/200\n",
            "50/50 [==============================] - 23s 453ms/step - loss: 2.3026 - accuracy: 0.1000 - val_loss: 2.3025 - val_accuracy: 0.1667\n",
            "Epoch 170/200\n",
            "50/50 [==============================] - 23s 452ms/step - loss: 2.3026 - accuracy: 0.0950 - val_loss: 2.3023 - val_accuracy: 0.1667\n",
            "Epoch 171/200\n",
            "50/50 [==============================] - 23s 453ms/step - loss: 2.3026 - accuracy: 0.0938 - val_loss: 2.3022 - val_accuracy: 0.0833\n",
            "Epoch 172/200\n",
            "50/50 [==============================] - 23s 452ms/step - loss: 2.3026 - accuracy: 0.0856 - val_loss: 2.3023 - val_accuracy: 0.1667\n",
            "Epoch 173/200\n",
            "50/50 [==============================] - 23s 452ms/step - loss: 2.3026 - accuracy: 0.0850 - val_loss: 2.3027 - val_accuracy: 0.0000e+00\n",
            "Epoch 174/200\n",
            "50/50 [==============================] - 23s 453ms/step - loss: 2.3026 - accuracy: 0.0969 - val_loss: 2.3030 - val_accuracy: 0.0000e+00\n",
            "Epoch 175/200\n",
            "50/50 [==============================] - 23s 452ms/step - loss: 2.3026 - accuracy: 0.1000 - val_loss: 2.3024 - val_accuracy: 0.3333\n",
            "Epoch 176/200\n",
            "50/50 [==============================] - 23s 451ms/step - loss: 2.3026 - accuracy: 0.0900 - val_loss: 2.3023 - val_accuracy: 0.0833\n",
            "Epoch 177/200\n",
            "50/50 [==============================] - 23s 452ms/step - loss: 2.3026 - accuracy: 0.0856 - val_loss: 2.3024 - val_accuracy: 0.1667\n",
            "Epoch 178/200\n",
            "50/50 [==============================] - 23s 453ms/step - loss: 2.3026 - accuracy: 0.0925 - val_loss: 2.3026 - val_accuracy: 0.1667\n",
            "Epoch 179/200\n",
            "50/50 [==============================] - 23s 453ms/step - loss: 2.3026 - accuracy: 0.0925 - val_loss: 2.3026 - val_accuracy: 0.0833\n",
            "Epoch 180/200\n",
            "50/50 [==============================] - 23s 455ms/step - loss: 2.3026 - accuracy: 0.0875 - val_loss: 2.3026 - val_accuracy: 0.2500\n",
            "Epoch 181/200\n",
            "50/50 [==============================] - 23s 453ms/step - loss: 2.3026 - accuracy: 0.0938 - val_loss: 2.3026 - val_accuracy: 0.0833\n",
            "Epoch 182/200\n",
            "50/50 [==============================] - 23s 453ms/step - loss: 2.3026 - accuracy: 0.0969 - val_loss: 2.3029 - val_accuracy: 0.0833\n",
            "Epoch 183/200\n",
            "50/50 [==============================] - 23s 452ms/step - loss: 2.3026 - accuracy: 0.1000 - val_loss: 2.3026 - val_accuracy: 0.1667\n",
            "Epoch 184/200\n",
            "50/50 [==============================] - 23s 453ms/step - loss: 2.3026 - accuracy: 0.0856 - val_loss: 2.3026 - val_accuracy: 0.0833\n",
            "Epoch 185/200\n",
            "50/50 [==============================] - 23s 453ms/step - loss: 2.3026 - accuracy: 0.0981 - val_loss: 2.3026 - val_accuracy: 0.0833\n",
            "Epoch 186/200\n",
            "50/50 [==============================] - 23s 452ms/step - loss: 2.3026 - accuracy: 0.0894 - val_loss: 2.3026 - val_accuracy: 0.1667\n",
            "Epoch 187/200\n",
            "50/50 [==============================] - 23s 454ms/step - loss: 2.3026 - accuracy: 0.0812 - val_loss: 2.3026 - val_accuracy: 0.0000e+00\n",
            "Epoch 188/200\n",
            "50/50 [==============================] - 23s 453ms/step - loss: 2.3026 - accuracy: 0.0956 - val_loss: 2.3024 - val_accuracy: 0.2500\n",
            "Epoch 189/200\n",
            "50/50 [==============================] - 23s 453ms/step - loss: 2.3026 - accuracy: 0.0887 - val_loss: 2.3024 - val_accuracy: 0.0833\n",
            "Epoch 190/200\n",
            "50/50 [==============================] - 23s 452ms/step - loss: 2.3026 - accuracy: 0.0887 - val_loss: 2.3028 - val_accuracy: 0.0000e+00\n",
            "Epoch 191/200\n",
            "50/50 [==============================] - 23s 453ms/step - loss: 2.3026 - accuracy: 0.0769 - val_loss: 2.3026 - val_accuracy: 0.0833\n",
            "Epoch 192/200\n",
            "50/50 [==============================] - 23s 452ms/step - loss: 2.3026 - accuracy: 0.0962 - val_loss: 2.3027 - val_accuracy: 0.0833\n",
            "Epoch 193/200\n",
            "50/50 [==============================] - 23s 453ms/step - loss: 2.3026 - accuracy: 0.0931 - val_loss: 2.3025 - val_accuracy: 0.1667\n",
            "Epoch 194/200\n",
            "50/50 [==============================] - 23s 453ms/step - loss: 2.3026 - accuracy: 0.0913 - val_loss: 2.3025 - val_accuracy: 0.2500\n",
            "Epoch 195/200\n",
            "50/50 [==============================] - 23s 453ms/step - loss: 2.3026 - accuracy: 0.0975 - val_loss: 2.3025 - val_accuracy: 0.1667\n",
            "Epoch 196/200\n",
            "50/50 [==============================] - 23s 452ms/step - loss: 2.3026 - accuracy: 0.0831 - val_loss: 2.3028 - val_accuracy: 0.0000e+00\n",
            "Epoch 197/200\n",
            "50/50 [==============================] - 23s 452ms/step - loss: 2.3026 - accuracy: 0.0894 - val_loss: 2.3028 - val_accuracy: 0.0833\n",
            "Epoch 198/200\n",
            "50/50 [==============================] - 23s 453ms/step - loss: 2.3026 - accuracy: 0.0825 - val_loss: 2.3028 - val_accuracy: 0.1667\n",
            "Epoch 199/200\n",
            "50/50 [==============================] - 23s 455ms/step - loss: 2.3026 - accuracy: 0.0900 - val_loss: 2.3026 - val_accuracy: 0.0833\n",
            "Epoch 200/200\n",
            "50/50 [==============================] - ETA: 0s - loss: 2.3026 - accuracy: 0.0862\n",
            "Epoch 00200: saving model to training_VGG19/cp-0200.ckpt\n",
            "50/50 [==============================] - 24s 478ms/step - loss: 2.3026 - accuracy: 0.0862 - val_loss: 2.3024 - val_accuracy: 0.1667\n",
            "\n",
            " model_VGG19 took 4682.81 seconds (78.0 minutes) to train for 200 epochs\n"
          ],
          "name": "stdout"
        }
      ]
    },
    {
      "cell_type": "markdown",
      "metadata": {
        "id": "4CkQBYJ3QtoO"
      },
      "source": [
        "**Make Zipfile to training for saving in google drive**"
      ]
    },
    {
      "cell_type": "code",
      "metadata": {
        "id": "Bt6BzQPkQ0WO",
        "outputId": "90027993-149b-48c3-d9ee-295b7b1d9eb9",
        "colab": {
          "base_uri": "https://localhost:8080/",
          "height": 252
        }
      },
      "source": [
        "!zip -r \"/content/drive/My Drive/Final Project/Dataset-Lab/Original/training/training.zip\" \"training_2\""
      ],
      "execution_count": null,
      "outputs": [
        {
          "output_type": "stream",
          "text": [
            "  adding: training_2/ (stored 0%)\n",
            "  adding: training_2/cp-0002.ckpt.index (deflated 82%)\n",
            "  adding: training_2/cp-0004.ckpt.index (deflated 82%)\n",
            "  adding: training_2/cp-0050.ckpt.data-00000-of-00001 (deflated 12%)\n",
            "  adding: training_2/cp-0100.ckpt.index (deflated 82%)\n",
            "  adding: training_2/cp-0000.ckpt.data-00000-of-00001 (deflated 9%)\n",
            "  adding: training_2/cp-0004.ckpt.data-00000-of-00001 (deflated 23%)\n",
            "  adding: training_2/cp-0100.ckpt.data-00000-of-00001 (deflated 12%)\n",
            "  adding: training_2/cp-0000.ckpt.index (deflated 82%)\n",
            "  adding: training_2/cp-0150.ckpt.data-00000-of-00001 (deflated 13%)\n",
            "  adding: training_2/checkpoint (deflated 40%)\n",
            "  adding: training_2/cp-0050.ckpt.index (deflated 82%)\n",
            "  adding: training_2/cp-0150.ckpt.index (deflated 82%)\n",
            "  adding: training_2/cp-0002.ckpt.data-00000-of-00001 (deflated 23%)\n"
          ],
          "name": "stdout"
        }
      ]
    },
    {
      "cell_type": "markdown",
      "metadata": {
        "id": "k-V36n5jRASF"
      },
      "source": [
        "**Save model file .h5 ResNet50, VGG19, MobileNet**"
      ]
    },
    {
      "cell_type": "code",
      "metadata": {
        "id": "IdQTZlRIri2_"
      },
      "source": [
        "!mkdir save_model\n",
        "model_resnet.save('save_model/model-resnet50(200epochs).h5') #ดูจำนวนรอบที่เทรนด้วยว่าทั้งหมดกี่รอบจริงๆเเล้ว"
      ],
      "execution_count": null,
      "outputs": []
    },
    {
      "cell_type": "code",
      "metadata": {
        "id": "tJXxjv6f3_EM"
      },
      "source": [
        "!mkdir save_model\n",
        "model_VGG19.save('save_model/model-VGG19(200epochs).h5') #ดูจำนวนรอบที่เทรนด้วยว่าทั้งหมดกี่รอบจริงๆเเล้ว"
      ],
      "execution_count": 33,
      "outputs": []
    },
    {
      "cell_type": "markdown",
      "metadata": {
        "id": "Kd8P6G590Pbd"
      },
      "source": [
        "**Save file json**"
      ]
    },
    {
      "cell_type": "code",
      "metadata": {
        "id": "W7WvXhX50JV8"
      },
      "source": [
        "#Import dependencies\n",
        "!mkdir jsonfile\n",
        "import json\n",
        "from keras.models import model_from_json, load_model\n",
        "with open('jsonfile/model_resnet.json', 'w') as f:\n",
        "    f.write(model.to_json())\n",
        "print(\"Saved model to disk\")"
      ],
      "execution_count": null,
      "outputs": []
    },
    {
      "cell_type": "markdown",
      "metadata": {
        "id": "g1aiyKj2Qruv"
      },
      "source": [
        "\n",
        "**Show graphs ResNet50**"
      ]
    },
    {
      "cell_type": "code",
      "metadata": {
        "id": "3ShicU5HozNr"
      },
      "source": [
        "#กราฟเเม่นยำเเละ loss\n",
        "import matplotlib.pyplot as plt\n",
        "\n",
        "acc = model_resnet.history.history['accuracy']\n",
        "val_acc = model_resnet.history.history['val_accuracy']\n",
        "\n",
        "loss= model_resnet.history.history['loss']\n",
        "val_loss= model_resnet.history.history['val_loss']\n",
        "\n",
        "\n",
        "plt.style.use(\"ggplot\")\n",
        "#  \"Accuracy\"\n",
        "plt.figure(figsize=(15, 4))\n",
        "plt.subplot(1, 2, 1)\n",
        "plt.plot(acc, label='Training Accuracy')\n",
        "plt.plot(val_acc, label='Validation Accuracy')\n",
        "plt.legend(loc='lower right')\n",
        "plt.title('Training and Validation Accuracy')\n",
        "plt.ylabel('accuracy')\n",
        "plt.xlabel('epochs')\n",
        "#  \"Loss\"\n",
        "plt.subplot(1, 2, 2)\n",
        "plt.plot(loss, label='Training Loss')\n",
        "plt.plot(val_loss, label='Validation Loss')\n",
        "plt.legend(loc='upper right')\n",
        "plt.title('Training and Validation Loss')\n",
        "plt.ylabel('loss')\n",
        "plt.xlabel('epochs')\n",
        "plt.show()\n",
        "# plt.savefig('accandloss.png')"
      ],
      "execution_count": null,
      "outputs": []
    },
    {
      "cell_type": "markdown",
      "metadata": {
        "id": "WqZMXWG53Lgu"
      },
      "source": [
        "\n",
        "**Show graphs VGG19**"
      ]
    },
    {
      "cell_type": "code",
      "metadata": {
        "id": "JJDpV8393MEY"
      },
      "source": [
        "#กราฟเเม่นยำเเละ loss\n",
        "import matplotlib.pyplot as plt\n",
        "\n",
        "acc = model_VGG19.history.history['accuracy']\n",
        "val_acc = model_VGG19.history.history['val_accuracy']\n",
        "\n",
        "loss= model_VGG19.history.history['loss']\n",
        "val_loss= model_VGG19.history.history['val_loss']\n",
        "\n",
        "\n",
        "plt.style.use(\"ggplot\")\n",
        "#  \"Accuracy\"\n",
        "plt.figure(figsize=(15, 4))\n",
        "plt.subplot(1, 2, 1)\n",
        "plt.plot(acc, label='Training Accuracy')\n",
        "plt.plot(val_acc, label='Validation Accuracy')\n",
        "plt.legend(loc='upper right')\n",
        "plt.title('Training and Validation Accuracy')\n",
        "plt.ylabel('accuracy')\n",
        "plt.xlabel('epochs')\n",
        "#  \"Loss\"\n",
        "plt.subplot(1, 2, 2)\n",
        "plt.plot(loss, label='Training Loss')\n",
        "plt.plot(val_loss, label='Validation Loss')\n",
        "plt.legend(loc='lower right')\n",
        "plt.title('Training and Validation Loss')\n",
        "plt.ylabel('loss')\n",
        "plt.xlabel('epochs')\n",
        "plt.show()\n",
        "# plt.savefig('accandloss.png')"
      ],
      "execution_count": null,
      "outputs": []
    },
    {
      "cell_type": "markdown",
      "metadata": {
        "id": "QOEs4ae2QqN6"
      },
      "source": [
        "**Check the checkpoints of model**"
      ]
    },
    {
      "cell_type": "code",
      "metadata": {
        "id": "X8OmBYwQDZG5",
        "outputId": "f010f9de-13ad-4712-fc1a-9c915cd35ea7",
        "colab": {
          "base_uri": "https://localhost:8080/",
          "height": 35
        }
      },
      "source": [
        "latest = tf.train.latest_checkpoint(checkpoint_dir)\n",
        "latest"
      ],
      "execution_count": 35,
      "outputs": [
        {
          "output_type": "execute_result",
          "data": {
            "application/vnd.google.colaboratory.intrinsic+json": {
              "type": "string"
            },
            "text/plain": [
              "'training_VGG19/cp-0200.ckpt'"
            ]
          },
          "metadata": {
            "tags": []
          },
          "execution_count": 35
        }
      ]
    },
    {
      "cell_type": "code",
      "metadata": {
        "id": "7mKTviqN3LN7"
      },
      "source": [
        "# Load the previously saved weights\n",
        "model_resnet.load_weights(latest)\n",
        "\n",
        "# Re-evaluate the model\n",
        "loss, acc = model_resnet.evaluate(x,y, verbose=2)\n",
        "print(\"Restored model, accuracy: {:5.2f}%\".format(100*acc))"
      ],
      "execution_count": null,
      "outputs": []
    },
    {
      "cell_type": "code",
      "metadata": {
        "id": "-79zTCnA4ftV",
        "outputId": "9a89471e-2b25-41d4-8283-158e40d5cd5a",
        "colab": {
          "base_uri": "https://localhost:8080/",
          "height": 50
        }
      },
      "source": [
        "# Load the previously saved weights\n",
        "model_VGG19.load_weights(latest)\n",
        "\n",
        "# Re-evaluate the model\n",
        "loss, acc = model_VGG19.evaluate(x,y, verbose=2)\n",
        "print(\"Restored model, accuracy: {:5.2f}%\".format(100*acc))"
      ],
      "execution_count": 40,
      "outputs": [
        {
          "output_type": "stream",
          "text": [
            "1/1 - 0s - loss: 2.3025 - accuracy: 0.0000e+00\n",
            "Restored model, accuracy:  0.00%\n"
          ],
          "name": "stdout"
        }
      ]
    },
    {
      "cell_type": "code",
      "metadata": {
        "id": "tBAQHq_PKqXf",
        "outputId": "fdf9cbb3-c7d8-4a32-8b16-3f54c025fda3",
        "colab": {
          "base_uri": "https://localhost:8080/",
          "height": 34
        }
      },
      "source": [
        "#สำหรับเช็คค่าของการเทส\n",
        "x,y = valid_generator.next()\n",
        "x.shape\n",
        "y.shape"
      ],
      "execution_count": 39,
      "outputs": [
        {
          "output_type": "execute_result",
          "data": {
            "text/plain": [
              "(1, 10)"
            ]
          },
          "metadata": {
            "tags": []
          },
          "execution_count": 39
        }
      ]
    },
    {
      "cell_type": "markdown",
      "metadata": {
        "id": "5pirGRSKQXjs"
      },
      "source": [
        "**Save the model**"
      ]
    },
    {
      "cell_type": "code",
      "metadata": {
        "id": "oVwXFxjDOM9p",
        "outputId": "7719dc98-46af-4c91-ecb6-9b2e5888c344",
        "colab": {
          "base_uri": "https://localhost:8080/",
          "height": 154
        }
      },
      "source": [
        "# Save the entire model as a SavedModel.\n",
        "model_resnet.save('saved_model/my_model') "
      ],
      "execution_count": null,
      "outputs": [
        {
          "output_type": "stream",
          "text": [
            "WARNING:tensorflow:From /usr/local/lib/python3.6/dist-packages/tensorflow/python/training/tracking/tracking.py:111: Model.state_updates (from tensorflow.python.keras.engine.training) is deprecated and will be removed in a future version.\n",
            "Instructions for updating:\n",
            "This property should not be used in TensorFlow 2.0, as updates are applied automatically.\n",
            "WARNING:tensorflow:From /usr/local/lib/python3.6/dist-packages/tensorflow/python/training/tracking/tracking.py:111: Layer.updates (from tensorflow.python.keras.engine.base_layer) is deprecated and will be removed in a future version.\n",
            "Instructions for updating:\n",
            "This property should not be used in TensorFlow 2.0, as updates are applied automatically.\n",
            "INFO:tensorflow:Assets written to: saved_model/my_model/assets\n"
          ],
          "name": "stdout"
        }
      ]
    },
    {
      "cell_type": "code",
      "metadata": {
        "id": "vIVtmAhTObq0",
        "outputId": "e0508c1a-f3fd-4b90-c0e4-f34c7bcdbcf6",
        "colab": {
          "base_uri": "https://localhost:8080/",
          "height": 34
        }
      },
      "source": [
        "!ls saved_model/my_model"
      ],
      "execution_count": null,
      "outputs": [
        {
          "output_type": "stream",
          "text": [
            "assets\tsaved_model.pb\tvariables\n"
          ],
          "name": "stdout"
        }
      ]
    },
    {
      "cell_type": "markdown",
      "metadata": {
        "id": "4zPv9OaCQQvy"
      },
      "source": [
        "**Convert file model .pb to tflite**"
      ]
    },
    {
      "cell_type": "code",
      "metadata": {
        "id": "K0Qdqqi6M6oP",
        "outputId": "baac8f80-9af4-4cb2-8aa8-1acf966fa286",
        "colab": {
          "base_uri": "https://localhost:8080/",
          "height": 50
        }
      },
      "source": [
        "model= tf.keras.models.load_model('saved_model/my_model')\n",
        "tflite_converter = tf.lite.TFLiteConverter.from_keras_model(model)\n",
        "tflite_model = tflite_converter.convert()\n",
        "open(\"tf_lite_model.tflite\", \"wb\").write(tflite_model) "
      ],
      "execution_count": null,
      "outputs": [
        {
          "output_type": "stream",
          "text": [
            "INFO:tensorflow:Assets written to: /tmp/tmpwzetbf5g/assets\n"
          ],
          "name": "stdout"
        },
        {
          "output_type": "execute_result",
          "data": {
            "text/plain": [
              "507786404"
            ]
          },
          "metadata": {
            "tags": []
          },
          "execution_count": 37
        }
      ]
    },
    {
      "cell_type": "code",
      "metadata": {
        "id": "Pz4a1uw1at7N",
        "outputId": "90ca03a5-4c16-416e-b9d0-4dc967c0aa28",
        "colab": {
          "base_uri": "https://localhost:8080/",
          "height": 34
        }
      },
      "source": [
        "!mv \"tf_lite_model.tflite\" \"/content/drive/My Drive/Final Project/Dataset-Lab/Original/saved_model/tflite\"\n",
        "print(\"Success\")"
      ],
      "execution_count": null,
      "outputs": [
        {
          "output_type": "stream",
          "text": [
            "Success\n"
          ],
          "name": "stdout"
        }
      ]
    },
    {
      "cell_type": "markdown",
      "metadata": {
        "id": "KJU_yzZjIXs9"
      },
      "source": [
        "**Prediction**"
      ]
    },
    {
      "cell_type": "code",
      "metadata": {
        "id": "x7-cf_o0TDU2"
      },
      "source": [
        "categories =  ['eilerd', 'fahthalinejol', 'horapa', 'krapao', 'lemon', 'magrud', 'plu', 'sabtiger', 'saranae', 'yanang']"
      ],
      "execution_count": null,
      "outputs": []
    },
    {
      "cell_type": "code",
      "metadata": {
        "id": "dGn81xv-TKdM"
      },
      "source": [
        "model = model_resnet.load_weights('save_model/model-resnet50(200epochs).h5')"
      ],
      "execution_count": null,
      "outputs": []
    },
    {
      "cell_type": "code",
      "metadata": {
        "id": "MhRkHrmHTuT7"
      },
      "source": [
        "loss, acc = model.evaluate(valid_generator, verbose=2)\n",
        "print('Restored model, accuracy: {:5.2f}%'.format(100*acc))"
      ],
      "execution_count": null,
      "outputs": []
    },
    {
      "cell_type": "code",
      "metadata": {
        "id": "r-DP6T28RK6q",
        "outputId": "873486d2-e698-4d8a-b2ab-2de25d7033fa",
        "colab": {
          "base_uri": "https://localhost:8080/",
          "height": 301
        }
      },
      "source": [
        "import seaborn as sn\n",
        "import pandas as pd\n",
        "\n",
        "model = tf.keras.models.load_model('save_model/model-VGG19(200epochs).h5')\n",
        "filenames = valid_generator.filenames\n",
        "nb_samples = len(valid_generator)\n",
        "y_prob=[]\n",
        "y_act=[]\n",
        "valid_generator.reset()\n",
        "for _ in range(nb_samples):\n",
        "    x_test, y_test = valid_generator.next()\n",
        "    y_prob.append(model.predict(x_test))\n",
        "    y_act.append(y_test)\n",
        "    \n",
        "predicted_class = [list(train_generator.class_indices.keys())[i.argmax()] for i in y_prob]\n",
        "actual_class = [list(train_generator.class_indices.keys())[i.argmax()] for i in y_act]\n",
        "\n",
        "out_df = pd.DataFrame(np.vstack([predicted_class,actual_class]).T,columns=['predicted_class', 'actual_class'])\n",
        "confusion_matrix = pd.crosstab(out_df['actual_class'],out_df['predicted_class'], rownames=['Actual'], colnames=['Predicted'])\n",
        "\n",
        "sn.heatmap(confusion_matrix, cmap='Blues', annot= True, fmt='d')\n",
        "plt.show()\n",
        "print('test accuracy : {}'.format((np.diagonal(confusion_matrix).sum()/confusion_matrix.sum().sum()*100)))"
      ],
      "execution_count": 34,
      "outputs": [
        {
          "output_type": "display_data",
          "data": {
            "image/png": "[encoded data removed]",
            "text/plain": [
              "<Figure size 432x288 with 2 Axes>"
            ]
          },
          "metadata": {
            "tags": []
          }
        },
        {
          "output_type": "stream",
          "text": [
            "test accuracy : 10.0\n"
          ],
          "name": "stdout"
        }
      ]
    },
    {
      "cell_type": "markdown",
      "metadata": {
        "id": "fj2unvlyZYQZ"
      },
      "source": [
        "**เพิ่มเติมโอนย้ายไฟล์หลังจากเสร็จเเล้ว**"
      ]
    },
    {
      "cell_type": "code",
      "metadata": {
        "id": "qpUTyv7QS751"
      },
      "source": [
        "!mv \"save_model/model-resnet50(200epochs).h5\" \"/content/drive/My Drive/Final Project/Dataset-Lab/Original/saved_model\""
      ],
      "execution_count": null,
      "outputs": []
    }
  ]
}