{
  "nbformat": 4,
  "nbformat_minor": 0,
  "metadata": {
    "colab": {
      "name": "Final Project.ipynb",
      "provenance": [],
      "collapsed_sections": [],
      "mount_file_id": "1XZoVBS3qAJhN_pQAp-YBs7VwBDICRLTn",
      "authorship_tag": "ABX9TyMiznmFh3j2mCRbYpzR4tV+",
      "include_colab_link": true
    },
    "kernelspec": {
      "name": "python3",
      "display_name": "Python 3"
    },
    "accelerator": "GPU"
  },
  "cells": [
    {
      "cell_type": "markdown",
      "metadata": {
        "id": "view-in-github",
        "colab_type": "text"
      },
      "source": [
        "<a href=\"https://colab.research.google.com/github/makezazainw/FinalProject/blob/master/Show%20Lab-Original%20Dataset.ipynb\" target=\"_parent\"><img src=\"https://colab.research.google.com/assets/colab-badge.svg\" alt=\"Open In Colab\"/></a>"
      ]
    },
    {
      "cell_type": "markdown",
      "metadata": {
        "id": "HYtRYzbH6j8i"
      },
      "source": [
        "**Install Kaggle**"
      ]
    },
    {
      "cell_type": "code",
      "metadata": {
        "id": "A1xFzv82hg55",
        "outputId": "b4f7e7c6-6b1d-495f-9521-8146230de55c",
        "colab": {
          "base_uri": "https://localhost:8080/",
          "height": 134
        }
      },
      "source": [
        "# Install Kaggle API\n",
        "!pip install -q kaggle\n",
        "!pip install -q kaggle-cli"
      ],
      "execution_count": 1,
      "outputs": [
        {
          "output_type": "stream",
          "text": [
            "\u001b[K     |████████████████████████████████| 81kB 2.4MB/s \n",
            "\u001b[K     |████████████████████████████████| 5.3MB 2.5MB/s \n",
            "\u001b[K     |████████████████████████████████| 51kB 8.6MB/s \n",
            "\u001b[K     |████████████████████████████████| 112kB 40.3MB/s \n",
            "\u001b[K     |████████████████████████████████| 143kB 36.6MB/s \n",
            "\u001b[?25h  Building wheel for kaggle-cli (setup.py) ... \u001b[?25l\u001b[?25hdone\n",
            "  Building wheel for pyperclip (setup.py) ... \u001b[?25l\u001b[?25hdone\n"
          ],
          "name": "stdout"
        }
      ]
    },
    {
      "cell_type": "markdown",
      "metadata": {
        "id": "cV3qDwDx6p79"
      },
      "source": [
        "**Call file from Json for use Kaggle Dataset**\n",
        "\n"
      ]
    },
    {
      "cell_type": "code",
      "metadata": {
        "id": "pYMNgAl6hg8S"
      },
      "source": [
        "# only for google colab\n",
        "import os\n",
        "os.environ['KAGGLE_USERNAME'] = \"thammatattantipitham\" \n",
        "os.environ['KAGGLE_KEY'] = \"3cf826ab97707228fb1602519992740b\""
      ],
      "execution_count": 2,
      "outputs": []
    },
    {
      "cell_type": "code",
      "metadata": {
        "id": "q7lFIo5lhg-r",
        "outputId": "c5a7b4f0-3589-4daa-993c-cabdefd72d70",
        "colab": {
          "base_uri": "https://localhost:8080/",
          "height": 67
        }
      },
      "source": [
        "!kaggle datasets download -d thammatattantipitham/originalthaiherb --unzip"
      ],
      "execution_count": 3,
      "outputs": [
        {
          "output_type": "stream",
          "text": [
            "Downloading originalthaiherb.zip to /content\n",
            " 60% 9.00M/15.0M [00:00<00:00, 16.6MB/s]\n",
            "100% 15.0M/15.0M [00:00<00:00, 25.4MB/s]\n"
          ],
          "name": "stdout"
        }
      ]
    },
    {
      "cell_type": "markdown",
      "metadata": {
        "id": "b2ZbQ75H7EtT"
      },
      "source": [
        "**Move to Directory thai-herb**"
      ]
    },
    {
      "cell_type": "code",
      "metadata": {
        "id": "JqgFPbWBhhBI"
      },
      "source": [
        "!mkdir originalthaiherb\n",
        "!mv  \"train\" \"val\" originalthaiherb"
      ],
      "execution_count": 4,
      "outputs": []
    },
    {
      "cell_type": "markdown",
      "metadata": {
        "id": "XcdGYThk7LhC"
      },
      "source": [
        "**Start**"
      ]
    },
    {
      "cell_type": "code",
      "metadata": {
        "id": "wep6meUChhDQ",
        "outputId": "3dc39a5b-3aa9-450e-fef5-ec514cf835e1",
        "colab": {
          "base_uri": "https://localhost:8080/",
          "height": 35
        }
      },
      "source": [
        "import sys\n",
        "import time\n",
        "import cv2\n",
        "import numpy as np\n",
        "from matplotlib import pyplot as plt\n",
        "import tensorflow as tf\n",
        "import os\n",
        "import keras\n",
        "\n",
        "from skimage.transform import resize\n",
        "from sklearn.model_selection import train_test_split\n",
        "\n",
        "from tensorflow.python.keras.utils import np_utils\n",
        "from tensorflow.python.keras.models import Sequential, Model\n",
        "from tensorflow.python.keras.layers import Dense, Dropout, Flatten, Activation, BatchNormalization\n",
        "from tensorflow.python.keras.layers.convolutional import Conv2D, MaxPooling2D, AveragePooling2D\n",
        "from tensorflow.python.keras.preprocessing.image import ImageDataGenerator\n",
        "from tensorflow.python.keras.optimizers import RMSprop\n",
        "from tensorflow.python.keras.applications.vgg19 import VGG19\n",
        "from tensorflow.keras.applications.resnet50 import ResNet50, preprocess_input\n",
        "from tensorflow.keras.optimizers import Adam\n",
        "from keras.applications import InceptionV3\n",
        "sys.version"
      ],
      "execution_count": 5,
      "outputs": [
        {
          "output_type": "execute_result",
          "data": {
            "application/vnd.google.colaboratory.intrinsic+json": {
              "type": "string"
            },
            "text/plain": [
              "'3.6.9 (default, Jul 17 2020, 12:50:27) \\n[GCC 8.4.0]'"
            ]
          },
          "metadata": {
            "tags": []
          },
          "execution_count": 5
        }
      ]
    },
    {
      "cell_type": "code",
      "metadata": {
        "id": "oPHYCQQGkqox",
        "outputId": "95ba239a-4cdf-4834-9c32-aabfbf0394c8",
        "colab": {
          "base_uri": "https://localhost:8080/",
          "height": 101
        }
      },
      "source": [
        "from tensorflow.compat.v1.keras.backend import set_session\n",
        "\n",
        "config = tf.compat.v1.ConfigProto()\n",
        "\n",
        "config.gpu_options.allow_growth = True  # dynamically grow the memory used on the GPU\n",
        "\n",
        "config.log_device_placement = True  # to log device placement (on which device the operation ran)\n",
        "\n",
        "sess = tf.compat.v1.Session(config=config)\n",
        "\n",
        "set_session(sess)"
      ],
      "execution_count": 6,
      "outputs": [
        {
          "output_type": "stream",
          "text": [
            "Device mapping:\n",
            "/job:localhost/replica:0/task:0/device:XLA_CPU:0 -> device: XLA_CPU device\n",
            "/job:localhost/replica:0/task:0/device:XLA_GPU:0 -> device: XLA_GPU device\n",
            "/job:localhost/replica:0/task:0/device:GPU:0 -> device: 0, name: Tesla P100-PCIE-16GB, pci bus id: 0000:00:04.0, compute capability: 6.0\n",
            "\n"
          ],
          "name": "stdout"
        }
      ]
    },
    {
      "cell_type": "code",
      "metadata": {
        "id": "8j7CwOUNkqsX"
      },
      "source": [
        "DATASET_PATH  = 'originalthaiherb/'\n",
        "IMAGE_SIZE    = (224, 224)\n",
        "NUM_CLASSES   = 10\n",
        "BATCH_SIZE    = 32  # try reducing batch size or freeze more layers if your GPU runs out of memory\n",
        "epochs    = 200"
      ],
      "execution_count": 7,
      "outputs": []
    },
    {
      "cell_type": "code",
      "metadata": {
        "id": "Lwe4FTL7kq4X"
      },
      "source": [
        "#ทำ aug มาเเล้ว\n",
        "train_datagen = ImageDataGenerator(preprocessing_function=preprocess_input)"
      ],
      "execution_count": 8,
      "outputs": []
    },
    {
      "cell_type": "code",
      "metadata": {
        "id": "7HDQWIrlkq6-",
        "outputId": "38780083-4f48-41a8-e51a-8ff87a8b06d9",
        "colab": {
          "base_uri": "https://localhost:8080/",
          "height": 34
        }
      },
      "source": [
        "#set training data\n",
        "train_generator = train_datagen.flow_from_directory(DATASET_PATH+ r\"train/\",\n",
        "                                                    target_size = IMAGE_SIZE,\n",
        "                                                    batch_size = BATCH_SIZE,\n",
        "                                                    class_mode='categorical',\n",
        "                                                    shuffle = True,\n",
        "                                                    subset='training')"
      ],
      "execution_count": 9,
      "outputs": [
        {
          "output_type": "stream",
          "text": [
            "Found 1600 images belonging to 10 classes.\n"
          ],
          "name": "stdout"
        }
      ]
    },
    {
      "cell_type": "code",
      "metadata": {
        "id": "UANhQsw0kq8t",
        "outputId": "53e1d90b-fe72-40eb-a19b-83d537a7c0a9",
        "colab": {
          "base_uri": "https://localhost:8080/",
          "height": 34
        }
      },
      "source": [
        "valid_datagen = ImageDataGenerator(preprocessing_function=preprocess_input)\n",
        "valid_generator = valid_datagen.flow_from_directory(DATASET_PATH+ r\"val/\",                                      \n",
        "                                                    target_size = IMAGE_SIZE,\n",
        "                                                    batch_size = 1,\n",
        "                                                    class_mode='categorical',\n",
        "                                                    shuffle = True\n",
        "                                                    )"
      ],
      "execution_count": 10,
      "outputs": [
        {
          "output_type": "stream",
          "text": [
            "Found 410 images belonging to 10 classes.\n"
          ],
          "name": "stdout"
        }
      ]
    },
    {
      "cell_type": "markdown",
      "metadata": {
        "id": "JxPtrM3FVhJ_"
      },
      "source": [
        "**How to use the checkpoint from google drive**"
      ]
    },
    {
      "cell_type": "code",
      "metadata": {
        "id": "DS8_MUPSVhVt"
      },
      "source": [
        "!mkdir training_ResNet50\n",
        "!unzip \"/content/drive/My Drive/Final Project/Dataset-Lab/Original/training/training.zip\" \"/content/training_ResNet50\""
      ],
      "execution_count": null,
      "outputs": []
    },
    {
      "cell_type": "markdown",
      "metadata": {
        "id": "oozhiJJEcHa8"
      },
      "source": [
        "**ResNet50**"
      ]
    },
    {
      "cell_type": "code",
      "metadata": {
        "id": "RGHJtcyP4_LK",
        "outputId": "2017b770-f6b4-4ace-b5a4-0116a6786750",
        "colab": {
          "base_uri": "https://localhost:8080/",
          "height": 67
        }
      },
      "source": [
        "# Include the epoch in the file name (uses `str.format`)\n",
        "checkpoint_path = \"training_ResNet50/cp-{epoch:04d}.ckpt\"\n",
        "checkpoint_dir = os.path.dirname(checkpoint_path)\n",
        "\n",
        "# Create a callback that saves the model's weights every 5 epochs\n",
        "cp_callback = tf.keras.callbacks.ModelCheckpoint(\n",
        "    filepath=checkpoint_path, \n",
        "    verbose=1, \n",
        "    save_weights_only=True,\n",
        "    period=50)\n",
        "\n",
        "#Create the model\n",
        "base_model_resnet = ResNet50(include_top=False,weights='imagenet',input_shape=(IMAGE_SIZE[0],IMAGE_SIZE[1],3))\n",
        "#Defining and Adding layers\n",
        "model_resnet= Sequential()\n",
        "#Add the Dense layers along with activation and batch normalization\n",
        "model_resnet.add(base_model_resnet)\n",
        "model_resnet.add(Flatten())\n",
        "\n",
        "#Add the Dense layers along with activation and batch normalization\n",
        "model_resnet.add(Dense(1024,activation=('relu'),input_dim=64))\n",
        "model_resnet.add(Dense(512,activation=('relu'))) \n",
        "model_resnet.add(Dropout(.4))\n",
        "model_resnet.add(Dense(256,activation=('relu'))) \n",
        "model_resnet.add(Dropout(.3))#Adding a dropout layer that will randomly drop 30% of the weights\n",
        "model_resnet.add(Dense(128,activation=('relu')))\n",
        "model_resnet.add(Dropout(.2))\n",
        "model_resnet.add(Dense(NUM_CLASSES,activation=('softmax'))) #This is the classification layer\n",
        "\n",
        "\n",
        "# Save the weights using the `checkpoint_path` format\n",
        "model_resnet.save_weights(checkpoint_path.format(epoch=0))"
      ],
      "execution_count": 11,
      "outputs": [
        {
          "output_type": "stream",
          "text": [
            "WARNING:tensorflow:`period` argument is deprecated. Please use `save_freq` to specify the frequency in number of batches seen.\n",
            "Downloading data from https://storage.googleapis.com/tensorflow/keras-applications/resnet/resnet50_weights_tf_dim_ordering_tf_kernels_notop.h5\n",
            "94773248/94765736 [==============================] - 2s 0us/step\n"
          ],
          "name": "stdout"
        }
      ]
    },
    {
      "cell_type": "code",
      "metadata": {
        "id": "B6whr11lmPHh"
      },
      "source": [
        "train_generator.class_indices"
      ],
      "execution_count": null,
      "outputs": []
    },
    {
      "cell_type": "code",
      "metadata": {
        "id": "1JJLrZTk5YE1",
        "outputId": "0c515bcb-947f-43b2-9986-9399c37b01fa",
        "colab": {
          "base_uri": "https://localhost:8080/",
          "height": 487
        }
      },
      "source": [
        "#Model summary\n",
        "model_resnet.summary()"
      ],
      "execution_count": 12,
      "outputs": [
        {
          "output_type": "stream",
          "text": [
            "Model: \"sequential\"\n",
            "_________________________________________________________________\n",
            "Layer (type)                 Output Shape              Param #   \n",
            "=================================================================\n",
            "resnet50 (Functional)        (None, 7, 7, 2048)        23587712  \n",
            "_________________________________________________________________\n",
            "flatten (Flatten)            (None, 100352)            0         \n",
            "_________________________________________________________________\n",
            "dense (Dense)                (None, 1024)              102761472 \n",
            "_________________________________________________________________\n",
            "dense_1 (Dense)              (None, 512)               524800    \n",
            "_________________________________________________________________\n",
            "dropout (Dropout)            (None, 512)               0         \n",
            "_________________________________________________________________\n",
            "dense_2 (Dense)              (None, 256)               131328    \n",
            "_________________________________________________________________\n",
            "dropout_1 (Dropout)          (None, 256)               0         \n",
            "_________________________________________________________________\n",
            "dense_3 (Dense)              (None, 128)               32896     \n",
            "_________________________________________________________________\n",
            "dropout_2 (Dropout)          (None, 128)               0         \n",
            "_________________________________________________________________\n",
            "dense_4 (Dense)              (None, 10)                1290      \n",
            "=================================================================\n",
            "Total params: 127,039,498\n",
            "Trainable params: 126,986,378\n",
            "Non-trainable params: 53,120\n",
            "_________________________________________________________________\n"
          ],
          "name": "stdout"
        }
      ]
    },
    {
      "cell_type": "code",
      "metadata": {
        "id": "aj6FKOPJpXGF"
      },
      "source": [
        "model_resnet.compile(optimizer=Adam(lr=0.0001),  #Adam(lr=1e-5)\n",
        "                  loss='categorical_crossentropy', metrics=['accuracy'])"
      ],
      "execution_count": 13,
      "outputs": []
    },
    {
      "cell_type": "code",
      "metadata": {
        "id": "2GJHAmk4nuDr",
        "outputId": "11e9c4bb-35dc-4775-be62-608d30877c25",
        "colab": {
          "base_uri": "https://localhost:8080/",
          "height": 1000
        }
      },
      "source": [
        "#start to train the model\n",
        "start = time.time()\n",
        "history = model_resnet.fit_generator(generator=train_generator, epochs=epochs, steps_per_epoch=train_generator.samples//BATCH_SIZE, validation_data=valid_generator,validation_steps=valid_generator.samples,callbacks=[cp_callback],verbose=1)\n",
        "\n",
        "end = time.time()\n",
        "duration = end - start\n",
        "print ('\\n model_ResNet50 took %0.2f seconds (%0.1f minutes) to train for %d epochs'%(duration, duration/60, epochs) )"
      ],
      "execution_count": 14,
      "outputs": [
        {
          "output_type": "stream",
          "text": [
            "WARNING:tensorflow:From <ipython-input-14-b7afd5cbd0e3>:3: Model.fit_generator (from tensorflow.python.keras.engine.training) is deprecated and will be removed in a future version.\n",
            "Instructions for updating:\n",
            "Please use Model.fit, which supports generators.\n",
            "Epoch 1/200\n",
            "50/50 [==============================] - 15s 306ms/step - loss: 1.4831 - accuracy: 0.5569 - val_loss: 0.6212 - val_accuracy: 0.8512\n",
            "Epoch 2/200\n",
            "50/50 [==============================] - 14s 289ms/step - loss: 0.2725 - accuracy: 0.9175 - val_loss: 0.3141 - val_accuracy: 0.9049\n",
            "Epoch 3/200\n",
            "50/50 [==============================] - 14s 289ms/step - loss: 0.1047 - accuracy: 0.9700 - val_loss: 0.3417 - val_accuracy: 0.9220\n",
            "Epoch 4/200\n",
            "50/50 [==============================] - 14s 289ms/step - loss: 0.0796 - accuracy: 0.9756 - val_loss: 0.6649 - val_accuracy: 0.8488\n",
            "Epoch 5/200\n",
            "50/50 [==============================] - 14s 289ms/step - loss: 0.0701 - accuracy: 0.9794 - val_loss: 0.2482 - val_accuracy: 0.9512\n",
            "Epoch 6/200\n",
            "50/50 [==============================] - 14s 288ms/step - loss: 0.0626 - accuracy: 0.9812 - val_loss: 0.0366 - val_accuracy: 0.9829\n",
            "Epoch 7/200\n",
            "50/50 [==============================] - 14s 289ms/step - loss: 0.0713 - accuracy: 0.9812 - val_loss: 0.8971 - val_accuracy: 0.8829\n",
            "Epoch 8/200\n",
            "50/50 [==============================] - 14s 288ms/step - loss: 0.0896 - accuracy: 0.9775 - val_loss: 0.2821 - val_accuracy: 0.9561\n",
            "Epoch 9/200\n",
            "50/50 [==============================] - 14s 289ms/step - loss: 0.1353 - accuracy: 0.9644 - val_loss: 1.4023 - val_accuracy: 0.6707\n",
            "Epoch 10/200\n",
            "50/50 [==============================] - 14s 288ms/step - loss: 0.0520 - accuracy: 0.9887 - val_loss: 0.5969 - val_accuracy: 0.9341\n",
            "Epoch 11/200\n",
            "50/50 [==============================] - 14s 289ms/step - loss: 0.1434 - accuracy: 0.9750 - val_loss: 0.2899 - val_accuracy: 0.9244\n",
            "Epoch 12/200\n",
            "50/50 [==============================] - 14s 288ms/step - loss: 0.0370 - accuracy: 0.9894 - val_loss: 0.2372 - val_accuracy: 0.9439\n",
            "Epoch 13/200\n",
            "50/50 [==============================] - 14s 288ms/step - loss: 0.0479 - accuracy: 0.9925 - val_loss: 0.1934 - val_accuracy: 0.9537\n",
            "Epoch 14/200\n",
            "50/50 [==============================] - 14s 288ms/step - loss: 0.0282 - accuracy: 0.9919 - val_loss: 0.0866 - val_accuracy: 0.9805\n",
            "Epoch 15/200\n",
            "50/50 [==============================] - 14s 289ms/step - loss: 0.0199 - accuracy: 0.9962 - val_loss: 0.0850 - val_accuracy: 0.9780\n",
            "Epoch 16/200\n",
            "50/50 [==============================] - 14s 288ms/step - loss: 0.0330 - accuracy: 0.9900 - val_loss: 0.0637 - val_accuracy: 0.9780\n",
            "Epoch 17/200\n",
            "50/50 [==============================] - 14s 288ms/step - loss: 0.0525 - accuracy: 0.9887 - val_loss: 0.2512 - val_accuracy: 0.9537\n",
            "Epoch 18/200\n",
            "50/50 [==============================] - 14s 289ms/step - loss: 0.0391 - accuracy: 0.9950 - val_loss: 0.6356 - val_accuracy: 0.9244\n",
            "Epoch 19/200\n",
            "50/50 [==============================] - 14s 287ms/step - loss: 0.2021 - accuracy: 0.9644 - val_loss: 1.0613 - val_accuracy: 0.8293\n",
            "Epoch 20/200\n",
            "50/50 [==============================] - 14s 288ms/step - loss: 0.0699 - accuracy: 0.9850 - val_loss: 0.1528 - val_accuracy: 0.9756\n",
            "Epoch 21/200\n",
            "50/50 [==============================] - 14s 288ms/step - loss: 0.0684 - accuracy: 0.9875 - val_loss: 0.4978 - val_accuracy: 0.9512\n",
            "Epoch 22/200\n",
            "50/50 [==============================] - 14s 288ms/step - loss: 0.0275 - accuracy: 0.9931 - val_loss: 0.0256 - val_accuracy: 0.9951\n",
            "Epoch 23/200\n",
            "50/50 [==============================] - 14s 288ms/step - loss: 0.0776 - accuracy: 0.9862 - val_loss: 0.2276 - val_accuracy: 0.9585\n",
            "Epoch 24/200\n",
            "50/50 [==============================] - 15s 290ms/step - loss: 0.0750 - accuracy: 0.9875 - val_loss: 0.5704 - val_accuracy: 0.9171\n",
            "Epoch 25/200\n",
            "50/50 [==============================] - 14s 288ms/step - loss: 0.0280 - accuracy: 0.9919 - val_loss: 0.2180 - val_accuracy: 0.9707\n",
            "Epoch 26/200\n",
            "50/50 [==============================] - 14s 288ms/step - loss: 0.0422 - accuracy: 0.9925 - val_loss: 0.1047 - val_accuracy: 0.9756\n",
            "Epoch 27/200\n",
            "50/50 [==============================] - 14s 287ms/step - loss: 0.0196 - accuracy: 0.9944 - val_loss: 0.2277 - val_accuracy: 0.9341\n",
            "Epoch 28/200\n",
            "50/50 [==============================] - 14s 288ms/step - loss: 0.0134 - accuracy: 0.9962 - val_loss: 0.0115 - val_accuracy: 0.9976\n",
            "Epoch 29/200\n",
            "50/50 [==============================] - 14s 289ms/step - loss: 0.0110 - accuracy: 0.9981 - val_loss: 0.0029 - val_accuracy: 1.0000\n",
            "Epoch 30/200\n",
            "50/50 [==============================] - 14s 288ms/step - loss: 0.0281 - accuracy: 0.9950 - val_loss: 0.5287 - val_accuracy: 0.9537\n",
            "Epoch 31/200\n",
            "50/50 [==============================] - 14s 289ms/step - loss: 0.0777 - accuracy: 0.9881 - val_loss: 0.1623 - val_accuracy: 0.9512\n",
            "Epoch 32/200\n",
            "50/50 [==============================] - 14s 288ms/step - loss: 0.0348 - accuracy: 0.9925 - val_loss: 0.1134 - val_accuracy: 0.9634\n",
            "Epoch 33/200\n",
            "50/50 [==============================] - 14s 288ms/step - loss: 0.0053 - accuracy: 0.9987 - val_loss: 0.0060 - val_accuracy: 0.9976\n",
            "Epoch 34/200\n",
            "50/50 [==============================] - 14s 289ms/step - loss: 0.0081 - accuracy: 0.9987 - val_loss: 0.0249 - val_accuracy: 0.9927\n",
            "Epoch 35/200\n",
            "50/50 [==============================] - 14s 288ms/step - loss: 0.0013 - accuracy: 1.0000 - val_loss: 0.0155 - val_accuracy: 0.9976\n",
            "Epoch 36/200\n",
            "50/50 [==============================] - 14s 288ms/step - loss: 0.0196 - accuracy: 0.9950 - val_loss: 0.1031 - val_accuracy: 0.9829\n",
            "Epoch 37/200\n",
            "50/50 [==============================] - 14s 288ms/step - loss: 0.0136 - accuracy: 0.9975 - val_loss: 0.0013 - val_accuracy: 1.0000\n",
            "Epoch 38/200\n",
            "50/50 [==============================] - 14s 289ms/step - loss: 0.0139 - accuracy: 0.9969 - val_loss: 0.0050 - val_accuracy: 0.9976\n",
            "Epoch 39/200\n",
            "50/50 [==============================] - 14s 288ms/step - loss: 0.0041 - accuracy: 0.9981 - val_loss: 2.3904e-04 - val_accuracy: 1.0000\n",
            "Epoch 40/200\n",
            "50/50 [==============================] - 14s 288ms/step - loss: 0.0014 - accuracy: 0.9994 - val_loss: 3.7086e-05 - val_accuracy: 1.0000\n",
            "Epoch 41/200\n",
            "50/50 [==============================] - 14s 288ms/step - loss: 2.2252e-04 - accuracy: 1.0000 - val_loss: 1.2659e-05 - val_accuracy: 1.0000\n",
            "Epoch 42/200\n",
            "50/50 [==============================] - 14s 288ms/step - loss: 6.0936e-05 - accuracy: 1.0000 - val_loss: 5.6986e-06 - val_accuracy: 1.0000\n",
            "Epoch 43/200\n",
            "50/50 [==============================] - 14s 288ms/step - loss: 3.4280e-04 - accuracy: 1.0000 - val_loss: 4.5866e-06 - val_accuracy: 1.0000\n",
            "Epoch 44/200\n",
            "50/50 [==============================] - 14s 289ms/step - loss: 5.1583e-05 - accuracy: 1.0000 - val_loss: 3.8442e-06 - val_accuracy: 1.0000\n",
            "Epoch 45/200\n",
            "50/50 [==============================] - 14s 290ms/step - loss: 7.7833e-04 - accuracy: 0.9994 - val_loss: 5.2164e-06 - val_accuracy: 1.0000\n",
            "Epoch 46/200\n",
            "50/50 [==============================] - 14s 287ms/step - loss: 9.3993e-04 - accuracy: 0.9994 - val_loss: 0.0788 - val_accuracy: 0.9902\n",
            "Epoch 47/200\n",
            "50/50 [==============================] - 14s 287ms/step - loss: 0.0805 - accuracy: 0.9894 - val_loss: 1.5286 - val_accuracy: 0.8585\n",
            "Epoch 48/200\n",
            "50/50 [==============================] - 14s 288ms/step - loss: 0.0428 - accuracy: 0.9931 - val_loss: 0.4836 - val_accuracy: 0.9390\n",
            "Epoch 49/200\n",
            "50/50 [==============================] - 14s 288ms/step - loss: 0.0054 - accuracy: 0.9981 - val_loss: 0.0984 - val_accuracy: 0.9829\n",
            "Epoch 50/200\n",
            "50/50 [==============================] - ETA: 0s - loss: 0.0187 - accuracy: 0.9969\n",
            "Epoch 00050: saving model to training_ResNet50/cp-0050.ckpt\n",
            "50/50 [==============================] - 25s 500ms/step - loss: 0.0187 - accuracy: 0.9969 - val_loss: 0.0493 - val_accuracy: 0.9878\n",
            "Epoch 51/200\n",
            "50/50 [==============================] - 14s 287ms/step - loss: 0.0246 - accuracy: 0.9937 - val_loss: 0.3553 - val_accuracy: 0.9341\n",
            "Epoch 52/200\n",
            "50/50 [==============================] - 14s 287ms/step - loss: 0.0324 - accuracy: 0.9937 - val_loss: 0.1116 - val_accuracy: 0.9561\n",
            "Epoch 53/200\n",
            "50/50 [==============================] - 14s 287ms/step - loss: 0.0143 - accuracy: 0.9987 - val_loss: 0.2764 - val_accuracy: 0.9537\n",
            "Epoch 54/200\n",
            "50/50 [==============================] - 14s 288ms/step - loss: 0.0117 - accuracy: 0.9981 - val_loss: 0.6200 - val_accuracy: 0.9024\n",
            "Epoch 55/200\n",
            "50/50 [==============================] - 14s 286ms/step - loss: 0.0086 - accuracy: 0.9981 - val_loss: 0.9567 - val_accuracy: 0.9049\n",
            "Epoch 56/200\n",
            "50/50 [==============================] - 14s 287ms/step - loss: 0.0050 - accuracy: 0.9987 - val_loss: 0.2154 - val_accuracy: 0.9610\n",
            "Epoch 57/200\n",
            "50/50 [==============================] - 14s 287ms/step - loss: 0.0095 - accuracy: 0.9975 - val_loss: 0.7969 - val_accuracy: 0.9049\n",
            "Epoch 58/200\n",
            "50/50 [==============================] - 14s 288ms/step - loss: 0.0168 - accuracy: 0.9950 - val_loss: 0.3087 - val_accuracy: 0.9293\n",
            "Epoch 59/200\n",
            "50/50 [==============================] - 14s 288ms/step - loss: 0.0147 - accuracy: 0.9994 - val_loss: 1.6041 - val_accuracy: 0.8390\n",
            "Epoch 60/200\n",
            "50/50 [==============================] - 14s 288ms/step - loss: 3.7508e-04 - accuracy: 1.0000 - val_loss: 1.7259 - val_accuracy: 0.8707\n",
            "Epoch 61/200\n",
            "50/50 [==============================] - 14s 286ms/step - loss: 0.0931 - accuracy: 0.9894 - val_loss: 8.6750 - val_accuracy: 0.3463\n",
            "Epoch 62/200\n",
            "50/50 [==============================] - 14s 288ms/step - loss: 0.0435 - accuracy: 0.9925 - val_loss: 2.1463 - val_accuracy: 0.6951\n",
            "Epoch 63/200\n",
            "50/50 [==============================] - 14s 288ms/step - loss: 0.0623 - accuracy: 0.9906 - val_loss: 1.8725 - val_accuracy: 0.8000\n",
            "Epoch 64/200\n",
            "50/50 [==============================] - 14s 289ms/step - loss: 0.0823 - accuracy: 0.9912 - val_loss: 3.6332 - val_accuracy: 0.7341\n",
            "Epoch 65/200\n",
            "50/50 [==============================] - 14s 288ms/step - loss: 0.2169 - accuracy: 0.9794 - val_loss: 0.9867 - val_accuracy: 0.7634\n",
            "Epoch 66/200\n",
            "50/50 [==============================] - 14s 290ms/step - loss: 0.0862 - accuracy: 0.9781 - val_loss: 0.2409 - val_accuracy: 0.9463\n",
            "Epoch 67/200\n",
            "50/50 [==============================] - 14s 288ms/step - loss: 0.0239 - accuracy: 0.9962 - val_loss: 0.1082 - val_accuracy: 0.9732\n",
            "Epoch 68/200\n",
            "50/50 [==============================] - 14s 288ms/step - loss: 0.0244 - accuracy: 0.9950 - val_loss: 0.2875 - val_accuracy: 0.9512\n",
            "Epoch 69/200\n",
            "50/50 [==============================] - 14s 288ms/step - loss: 0.0050 - accuracy: 0.9981 - val_loss: 0.0414 - val_accuracy: 0.9902\n",
            "Epoch 70/200\n",
            "50/50 [==============================] - 14s 287ms/step - loss: 0.0079 - accuracy: 0.9975 - val_loss: 0.0491 - val_accuracy: 0.9927\n",
            "Epoch 71/200\n",
            "50/50 [==============================] - 14s 288ms/step - loss: 0.0036 - accuracy: 0.9994 - val_loss: 0.0309 - val_accuracy: 0.9951\n",
            "Epoch 72/200\n",
            "50/50 [==============================] - 14s 288ms/step - loss: 5.6499e-04 - accuracy: 1.0000 - val_loss: 0.0271 - val_accuracy: 0.9951\n",
            "Epoch 73/200\n",
            "50/50 [==============================] - 14s 287ms/step - loss: 0.0304 - accuracy: 0.9950 - val_loss: 0.0525 - val_accuracy: 0.9902\n",
            "Epoch 74/200\n",
            "50/50 [==============================] - 14s 287ms/step - loss: 0.0210 - accuracy: 0.9969 - val_loss: 0.0490 - val_accuracy: 0.9927\n",
            "Epoch 75/200\n",
            "50/50 [==============================] - 14s 287ms/step - loss: 0.0023 - accuracy: 0.9994 - val_loss: 0.0659 - val_accuracy: 0.9902\n",
            "Epoch 76/200\n",
            "50/50 [==============================] - 14s 288ms/step - loss: 5.7156e-04 - accuracy: 1.0000 - val_loss: 0.0452 - val_accuracy: 0.9951\n",
            "Epoch 77/200\n",
            "50/50 [==============================] - 14s 287ms/step - loss: 3.9741e-04 - accuracy: 1.0000 - val_loss: 0.0405 - val_accuracy: 0.9951\n",
            "Epoch 78/200\n",
            "50/50 [==============================] - 14s 287ms/step - loss: 2.7047e-04 - accuracy: 1.0000 - val_loss: 0.0399 - val_accuracy: 0.9951\n",
            "Epoch 79/200\n",
            "50/50 [==============================] - 14s 288ms/step - loss: 0.0058 - accuracy: 0.9987 - val_loss: 0.0090 - val_accuracy: 0.9951\n",
            "Epoch 80/200\n",
            "50/50 [==============================] - 14s 288ms/step - loss: 0.0015 - accuracy: 0.9994 - val_loss: 0.0079 - val_accuracy: 0.9976\n",
            "Epoch 81/200\n",
            "50/50 [==============================] - 14s 287ms/step - loss: 1.8796e-04 - accuracy: 1.0000 - val_loss: 0.0309 - val_accuracy: 0.9976\n",
            "Epoch 82/200\n",
            "50/50 [==============================] - 14s 289ms/step - loss: 7.3657e-04 - accuracy: 1.0000 - val_loss: 0.0436 - val_accuracy: 0.9976\n",
            "Epoch 83/200\n",
            "50/50 [==============================] - 14s 288ms/step - loss: 2.1709e-04 - accuracy: 1.0000 - val_loss: 0.0526 - val_accuracy: 0.9976\n",
            "Epoch 84/200\n",
            "50/50 [==============================] - 14s 288ms/step - loss: 5.6089e-04 - accuracy: 1.0000 - val_loss: 0.0637 - val_accuracy: 0.9951\n",
            "Epoch 85/200\n",
            "50/50 [==============================] - 14s 287ms/step - loss: 0.0023 - accuracy: 0.9994 - val_loss: 0.0645 - val_accuracy: 0.9951\n",
            "Epoch 86/200\n",
            "50/50 [==============================] - 14s 288ms/step - loss: 2.1667e-04 - accuracy: 1.0000 - val_loss: 0.0632 - val_accuracy: 0.9951\n",
            "Epoch 87/200\n",
            "50/50 [==============================] - 15s 290ms/step - loss: 5.6668e-04 - accuracy: 1.0000 - val_loss: 0.0547 - val_accuracy: 0.9951\n",
            "Epoch 88/200\n",
            "50/50 [==============================] - 14s 288ms/step - loss: 1.1737e-04 - accuracy: 1.0000 - val_loss: 0.0589 - val_accuracy: 0.9951\n",
            "Epoch 89/200\n",
            "50/50 [==============================] - 14s 288ms/step - loss: 0.0026 - accuracy: 0.9994 - val_loss: 0.0294 - val_accuracy: 0.9976\n",
            "Epoch 90/200\n",
            "50/50 [==============================] - 14s 287ms/step - loss: 0.0032 - accuracy: 0.9994 - val_loss: 0.0213 - val_accuracy: 0.9976\n",
            "Epoch 91/200\n",
            "50/50 [==============================] - 14s 288ms/step - loss: 6.1733e-04 - accuracy: 1.0000 - val_loss: 0.0323 - val_accuracy: 0.9927\n",
            "Epoch 92/200\n",
            "50/50 [==============================] - 14s 288ms/step - loss: 0.0507 - accuracy: 0.9925 - val_loss: 1.5221 - val_accuracy: 0.7098\n",
            "Epoch 93/200\n",
            "50/50 [==============================] - 14s 288ms/step - loss: 0.0052 - accuracy: 0.9987 - val_loss: 0.3738 - val_accuracy: 0.8976\n",
            "Epoch 94/200\n",
            "50/50 [==============================] - 14s 288ms/step - loss: 0.0025 - accuracy: 0.9994 - val_loss: 0.1277 - val_accuracy: 0.9756\n",
            "Epoch 95/200\n",
            "50/50 [==============================] - 14s 288ms/step - loss: 0.0342 - accuracy: 0.9956 - val_loss: 0.7982 - val_accuracy: 0.7659\n",
            "Epoch 96/200\n",
            "50/50 [==============================] - 14s 289ms/step - loss: 0.0656 - accuracy: 0.9894 - val_loss: 0.7745 - val_accuracy: 0.8732\n",
            "Epoch 97/200\n",
            "50/50 [==============================] - 14s 288ms/step - loss: 0.0062 - accuracy: 0.9981 - val_loss: 0.4594 - val_accuracy: 0.9390\n",
            "Epoch 98/200\n",
            "50/50 [==============================] - 14s 286ms/step - loss: 0.0015 - accuracy: 1.0000 - val_loss: 0.0770 - val_accuracy: 0.9805\n",
            "Epoch 99/200\n",
            "50/50 [==============================] - 14s 287ms/step - loss: 4.0273e-04 - accuracy: 1.0000 - val_loss: 0.0040 - val_accuracy: 0.9976\n",
            "Epoch 100/200\n",
            "50/50 [==============================] - ETA: 0s - loss: 3.0151e-04 - accuracy: 1.0000\n",
            "Epoch 00100: saving model to training_ResNet50/cp-0100.ckpt\n",
            "50/50 [==============================] - 21s 420ms/step - loss: 3.0151e-04 - accuracy: 1.0000 - val_loss: 0.0018 - val_accuracy: 1.0000\n",
            "Epoch 101/200\n",
            "50/50 [==============================] - 14s 288ms/step - loss: 8.5111e-04 - accuracy: 0.9994 - val_loss: 0.0067 - val_accuracy: 0.9976\n",
            "Epoch 102/200\n",
            "50/50 [==============================] - 14s 289ms/step - loss: 3.2517e-04 - accuracy: 1.0000 - val_loss: 0.0082 - val_accuracy: 0.9976\n",
            "Epoch 103/200\n",
            "50/50 [==============================] - 14s 289ms/step - loss: 5.4360e-04 - accuracy: 1.0000 - val_loss: 0.0113 - val_accuracy: 0.9951\n",
            "Epoch 104/200\n",
            "50/50 [==============================] - 14s 289ms/step - loss: 4.8310e-05 - accuracy: 1.0000 - val_loss: 0.0111 - val_accuracy: 0.9951\n",
            "Epoch 105/200\n",
            "50/50 [==============================] - 15s 290ms/step - loss: 0.0038 - accuracy: 0.9994 - val_loss: 0.0096 - val_accuracy: 0.9976\n",
            "Epoch 106/200\n",
            "50/50 [==============================] - 14s 287ms/step - loss: 9.2503e-05 - accuracy: 1.0000 - val_loss: 0.0102 - val_accuracy: 0.9976\n",
            "Epoch 107/200\n",
            "50/50 [==============================] - 14s 287ms/step - loss: 3.3163e-04 - accuracy: 1.0000 - val_loss: 0.0124 - val_accuracy: 0.9951\n",
            "Epoch 108/200\n",
            "50/50 [==============================] - 15s 290ms/step - loss: 2.4319e-04 - accuracy: 1.0000 - val_loss: 0.0176 - val_accuracy: 0.9976\n",
            "Epoch 109/200\n",
            "50/50 [==============================] - 14s 287ms/step - loss: 6.0267e-05 - accuracy: 1.0000 - val_loss: 0.0178 - val_accuracy: 0.9951\n",
            "Epoch 110/200\n",
            "50/50 [==============================] - 14s 288ms/step - loss: 2.4010e-04 - accuracy: 1.0000 - val_loss: 0.0155 - val_accuracy: 0.9976\n",
            "Epoch 111/200\n",
            "50/50 [==============================] - 14s 288ms/step - loss: 9.6689e-05 - accuracy: 1.0000 - val_loss: 0.0147 - val_accuracy: 0.9976\n",
            "Epoch 112/200\n",
            "50/50 [==============================] - 14s 287ms/step - loss: 3.1386e-04 - accuracy: 1.0000 - val_loss: 0.0127 - val_accuracy: 0.9976\n",
            "Epoch 113/200\n",
            "50/50 [==============================] - 14s 288ms/step - loss: 1.8606e-04 - accuracy: 1.0000 - val_loss: 0.0127 - val_accuracy: 0.9976\n",
            "Epoch 114/200\n",
            "50/50 [==============================] - 14s 288ms/step - loss: 9.8472e-05 - accuracy: 1.0000 - val_loss: 0.0509 - val_accuracy: 0.9951\n",
            "Epoch 115/200\n",
            "50/50 [==============================] - 14s 287ms/step - loss: 0.0012 - accuracy: 0.9994 - val_loss: 0.0504 - val_accuracy: 0.9951\n",
            "Epoch 116/200\n",
            "50/50 [==============================] - 14s 287ms/step - loss: 0.0142 - accuracy: 0.9969 - val_loss: 0.0344 - val_accuracy: 0.9854\n",
            "Epoch 117/200\n",
            "50/50 [==============================] - 14s 287ms/step - loss: 0.1523 - accuracy: 0.9719 - val_loss: 2.4767 - val_accuracy: 0.7244\n",
            "Epoch 118/200\n",
            "50/50 [==============================] - 14s 288ms/step - loss: 0.1089 - accuracy: 0.9794 - val_loss: 0.5301 - val_accuracy: 0.8463\n",
            "Epoch 119/200\n",
            "50/50 [==============================] - 14s 288ms/step - loss: 0.0704 - accuracy: 0.9869 - val_loss: 1.0676 - val_accuracy: 0.8415\n",
            "Epoch 120/200\n",
            "50/50 [==============================] - 14s 288ms/step - loss: 0.1032 - accuracy: 0.9881 - val_loss: 0.8322 - val_accuracy: 0.7146\n",
            "Epoch 121/200\n",
            "50/50 [==============================] - 14s 290ms/step - loss: 0.0620 - accuracy: 0.9837 - val_loss: 0.4375 - val_accuracy: 0.8683\n",
            "Epoch 122/200\n",
            "50/50 [==============================] - 14s 288ms/step - loss: 0.0256 - accuracy: 0.9944 - val_loss: 0.2312 - val_accuracy: 0.9146\n",
            "Epoch 123/200\n",
            "50/50 [==============================] - 14s 288ms/step - loss: 0.0024 - accuracy: 0.9994 - val_loss: 0.0898 - val_accuracy: 0.9732\n",
            "Epoch 124/200\n",
            "50/50 [==============================] - 14s 288ms/step - loss: 0.0045 - accuracy: 0.9987 - val_loss: 0.0453 - val_accuracy: 0.9878\n",
            "Epoch 125/200\n",
            "50/50 [==============================] - 14s 289ms/step - loss: 0.0014 - accuracy: 0.9994 - val_loss: 0.0233 - val_accuracy: 0.9927\n",
            "Epoch 126/200\n",
            "50/50 [==============================] - 14s 288ms/step - loss: 0.0010 - accuracy: 0.9994 - val_loss: 0.0177 - val_accuracy: 0.9927\n",
            "Epoch 127/200\n",
            "50/50 [==============================] - 14s 288ms/step - loss: 0.0021 - accuracy: 0.9994 - val_loss: 0.0145 - val_accuracy: 0.9976\n",
            "Epoch 128/200\n",
            "50/50 [==============================] - 14s 287ms/step - loss: 0.0033 - accuracy: 0.9994 - val_loss: 0.0115 - val_accuracy: 0.9976\n",
            "Epoch 129/200\n",
            "50/50 [==============================] - 15s 290ms/step - loss: 0.0192 - accuracy: 0.9981 - val_loss: 0.0643 - val_accuracy: 0.9854\n",
            "Epoch 130/200\n",
            "50/50 [==============================] - 14s 288ms/step - loss: 8.9550e-04 - accuracy: 1.0000 - val_loss: 0.0442 - val_accuracy: 0.9927\n",
            "Epoch 131/200\n",
            "50/50 [==============================] - 14s 287ms/step - loss: 4.4832e-04 - accuracy: 1.0000 - val_loss: 0.0055 - val_accuracy: 0.9976\n",
            "Epoch 132/200\n",
            "50/50 [==============================] - 14s 288ms/step - loss: 0.0121 - accuracy: 0.9981 - val_loss: 0.0097 - val_accuracy: 0.9976\n",
            "Epoch 133/200\n",
            "50/50 [==============================] - 14s 287ms/step - loss: 6.0498e-04 - accuracy: 1.0000 - val_loss: 0.0074 - val_accuracy: 0.9951\n",
            "Epoch 134/200\n",
            "50/50 [==============================] - 14s 288ms/step - loss: 2.6408e-04 - accuracy: 1.0000 - val_loss: 0.0117 - val_accuracy: 0.9927\n",
            "Epoch 135/200\n",
            "50/50 [==============================] - 14s 288ms/step - loss: 3.6638e-04 - accuracy: 1.0000 - val_loss: 0.0268 - val_accuracy: 0.9927\n",
            "Epoch 136/200\n",
            "50/50 [==============================] - 14s 288ms/step - loss: 2.9514e-04 - accuracy: 1.0000 - val_loss: 0.0150 - val_accuracy: 0.9927\n",
            "Epoch 137/200\n",
            "50/50 [==============================] - 14s 288ms/step - loss: 0.0025 - accuracy: 0.9987 - val_loss: 0.0051 - val_accuracy: 0.9976\n",
            "Epoch 138/200\n",
            "50/50 [==============================] - 14s 287ms/step - loss: 1.0646e-04 - accuracy: 1.0000 - val_loss: 0.0062 - val_accuracy: 0.9976\n",
            "Epoch 139/200\n",
            "50/50 [==============================] - 14s 287ms/step - loss: 5.7824e-05 - accuracy: 1.0000 - val_loss: 0.0079 - val_accuracy: 0.9951\n",
            "Epoch 140/200\n",
            "50/50 [==============================] - 14s 288ms/step - loss: 4.7498e-05 - accuracy: 1.0000 - val_loss: 0.0090 - val_accuracy: 0.9951\n",
            "Epoch 141/200\n",
            "50/50 [==============================] - 14s 288ms/step - loss: 1.0518e-04 - accuracy: 1.0000 - val_loss: 0.0097 - val_accuracy: 0.9951\n",
            "Epoch 142/200\n",
            "50/50 [==============================] - 14s 289ms/step - loss: 9.0764e-05 - accuracy: 1.0000 - val_loss: 0.0139 - val_accuracy: 0.9951\n",
            "Epoch 143/200\n",
            "50/50 [==============================] - 14s 288ms/step - loss: 7.6546e-05 - accuracy: 1.0000 - val_loss: 0.0138 - val_accuracy: 0.9951\n",
            "Epoch 144/200\n",
            "50/50 [==============================] - 14s 288ms/step - loss: 4.4875e-05 - accuracy: 1.0000 - val_loss: 0.0138 - val_accuracy: 0.9951\n",
            "Epoch 145/200\n",
            "50/50 [==============================] - 14s 288ms/step - loss: 0.0150 - accuracy: 0.9975 - val_loss: 1.5713 - val_accuracy: 0.6951\n",
            "Epoch 146/200\n",
            "50/50 [==============================] - 14s 288ms/step - loss: 0.0570 - accuracy: 0.9862 - val_loss: 4.3045 - val_accuracy: 0.5854\n",
            "Epoch 147/200\n",
            "50/50 [==============================] - 14s 287ms/step - loss: 0.0384 - accuracy: 0.9931 - val_loss: 1.3242 - val_accuracy: 0.8000\n",
            "Epoch 148/200\n",
            "50/50 [==============================] - 14s 287ms/step - loss: 0.0341 - accuracy: 0.9950 - val_loss: 1.1718 - val_accuracy: 0.8439\n",
            "Epoch 149/200\n",
            "50/50 [==============================] - 14s 289ms/step - loss: 0.0236 - accuracy: 0.9912 - val_loss: 0.6859 - val_accuracy: 0.8439\n",
            "Epoch 150/200\n",
            "50/50 [==============================] - ETA: 0s - loss: 0.0240 - accuracy: 0.9981\n",
            "Epoch 00150: saving model to training_ResNet50/cp-0150.ckpt\n",
            "50/50 [==============================] - 21s 417ms/step - loss: 0.0240 - accuracy: 0.9981 - val_loss: 0.8096 - val_accuracy: 0.9000\n",
            "Epoch 151/200\n",
            "50/50 [==============================] - 14s 288ms/step - loss: 0.0587 - accuracy: 0.9900 - val_loss: 1.4378 - val_accuracy: 0.7707\n",
            "Epoch 152/200\n",
            "50/50 [==============================] - 14s 287ms/step - loss: 0.0178 - accuracy: 0.9950 - val_loss: 1.4537 - val_accuracy: 0.7463\n",
            "Epoch 153/200\n",
            "50/50 [==============================] - 14s 289ms/step - loss: 0.0178 - accuracy: 0.9962 - val_loss: 0.9911 - val_accuracy: 0.8439\n",
            "Epoch 154/200\n",
            "50/50 [==============================] - 14s 287ms/step - loss: 0.0040 - accuracy: 0.9987 - val_loss: 0.1289 - val_accuracy: 0.9707\n",
            "Epoch 155/200\n",
            "50/50 [==============================] - 14s 289ms/step - loss: 0.0033 - accuracy: 0.9987 - val_loss: 0.1082 - val_accuracy: 0.9756\n",
            "Epoch 156/200\n",
            "50/50 [==============================] - 14s 288ms/step - loss: 1.5218e-04 - accuracy: 1.0000 - val_loss: 0.0277 - val_accuracy: 0.9927\n",
            "Epoch 157/200\n",
            "50/50 [==============================] - 14s 287ms/step - loss: 3.8048e-04 - accuracy: 1.0000 - val_loss: 0.2044 - val_accuracy: 0.9780\n",
            "Epoch 158/200\n",
            "50/50 [==============================] - 14s 287ms/step - loss: 5.9701e-04 - accuracy: 0.9994 - val_loss: 0.2208 - val_accuracy: 0.9780\n",
            "Epoch 159/200\n",
            "50/50 [==============================] - 14s 287ms/step - loss: 0.0014 - accuracy: 0.9994 - val_loss: 0.0953 - val_accuracy: 0.9854\n",
            "Epoch 160/200\n",
            "50/50 [==============================] - 14s 288ms/step - loss: 1.5341e-04 - accuracy: 1.0000 - val_loss: 0.0488 - val_accuracy: 0.9902\n",
            "Epoch 161/200\n",
            "50/50 [==============================] - 14s 288ms/step - loss: 0.0016 - accuracy: 0.9994 - val_loss: 0.8938 - val_accuracy: 0.8756\n",
            "Epoch 162/200\n",
            "50/50 [==============================] - 14s 287ms/step - loss: 0.0032 - accuracy: 0.9994 - val_loss: 0.4853 - val_accuracy: 0.9073\n",
            "Epoch 163/200\n",
            "50/50 [==============================] - 14s 289ms/step - loss: 3.3252e-04 - accuracy: 1.0000 - val_loss: 0.0840 - val_accuracy: 0.9756\n",
            "Epoch 164/200\n",
            "50/50 [==============================] - 14s 288ms/step - loss: 1.1314e-04 - accuracy: 1.0000 - val_loss: 0.0164 - val_accuracy: 0.9951\n",
            "Epoch 165/200\n",
            "50/50 [==============================] - 14s 288ms/step - loss: 1.8443e-04 - accuracy: 1.0000 - val_loss: 0.0279 - val_accuracy: 0.9902\n",
            "Epoch 166/200\n",
            "50/50 [==============================] - 14s 288ms/step - loss: 2.6054e-04 - accuracy: 1.0000 - val_loss: 0.0392 - val_accuracy: 0.9902\n",
            "Epoch 167/200\n",
            "50/50 [==============================] - 14s 288ms/step - loss: 9.1390e-05 - accuracy: 1.0000 - val_loss: 0.0334 - val_accuracy: 0.9902\n",
            "Epoch 168/200\n",
            "50/50 [==============================] - 14s 288ms/step - loss: 0.0091 - accuracy: 0.9981 - val_loss: 0.1937 - val_accuracy: 0.9561\n",
            "Epoch 169/200\n",
            "50/50 [==============================] - 14s 288ms/step - loss: 0.0053 - accuracy: 0.9987 - val_loss: 0.3034 - val_accuracy: 0.9463\n",
            "Epoch 170/200\n",
            "50/50 [==============================] - 14s 288ms/step - loss: 0.0072 - accuracy: 0.9987 - val_loss: 0.0899 - val_accuracy: 0.9854\n",
            "Epoch 171/200\n",
            "50/50 [==============================] - 14s 288ms/step - loss: 0.0783 - accuracy: 0.9856 - val_loss: 1.2498 - val_accuracy: 0.7976\n",
            "Epoch 172/200\n",
            "50/50 [==============================] - 14s 290ms/step - loss: 0.0191 - accuracy: 0.9969 - val_loss: 1.2344 - val_accuracy: 0.8341\n",
            "Epoch 173/200\n",
            "50/50 [==============================] - 14s 287ms/step - loss: 0.0220 - accuracy: 0.9962 - val_loss: 0.9021 - val_accuracy: 0.8683\n",
            "Epoch 174/200\n",
            "50/50 [==============================] - 14s 287ms/step - loss: 0.0057 - accuracy: 0.9981 - val_loss: 0.3262 - val_accuracy: 0.9561\n",
            "Epoch 175/200\n",
            "50/50 [==============================] - 14s 288ms/step - loss: 0.0013 - accuracy: 0.9994 - val_loss: 1.4240 - val_accuracy: 0.9268\n",
            "Epoch 176/200\n",
            "50/50 [==============================] - 14s 287ms/step - loss: 4.0541e-04 - accuracy: 1.0000 - val_loss: 1.4528 - val_accuracy: 0.9317\n",
            "Epoch 177/200\n",
            "50/50 [==============================] - 14s 288ms/step - loss: 5.9742e-04 - accuracy: 1.0000 - val_loss: 1.4089 - val_accuracy: 0.9317\n",
            "Epoch 178/200\n",
            "50/50 [==============================] - 14s 288ms/step - loss: 9.8747e-05 - accuracy: 1.0000 - val_loss: 0.5555 - val_accuracy: 0.9610\n",
            "Epoch 179/200\n",
            "50/50 [==============================] - 14s 288ms/step - loss: 0.0539 - accuracy: 0.9919 - val_loss: 0.7457 - val_accuracy: 0.7561\n",
            "Epoch 180/200\n",
            "50/50 [==============================] - 14s 288ms/step - loss: 0.0043 - accuracy: 0.9981 - val_loss: 0.7523 - val_accuracy: 0.7854\n",
            "Epoch 181/200\n",
            "50/50 [==============================] - 14s 288ms/step - loss: 6.3714e-04 - accuracy: 1.0000 - val_loss: 0.7272 - val_accuracy: 0.8244\n",
            "Epoch 182/200\n",
            "50/50 [==============================] - 14s 289ms/step - loss: 0.0413 - accuracy: 0.9950 - val_loss: 0.6839 - val_accuracy: 0.8634\n",
            "Epoch 183/200\n",
            "50/50 [==============================] - 14s 288ms/step - loss: 0.0231 - accuracy: 0.9956 - val_loss: 1.5575 - val_accuracy: 0.7805\n",
            "Epoch 184/200\n",
            "50/50 [==============================] - 14s 288ms/step - loss: 0.0890 - accuracy: 0.9862 - val_loss: 9.1983 - val_accuracy: 0.2829\n",
            "Epoch 185/200\n",
            "50/50 [==============================] - 14s 288ms/step - loss: 0.0112 - accuracy: 0.9950 - val_loss: 2.1805 - val_accuracy: 0.6415\n",
            "Epoch 186/200\n",
            "50/50 [==============================] - 14s 288ms/step - loss: 0.0031 - accuracy: 0.9994 - val_loss: 1.3268 - val_accuracy: 0.8122\n",
            "Epoch 187/200\n",
            "50/50 [==============================] - 14s 288ms/step - loss: 9.3683e-04 - accuracy: 0.9994 - val_loss: 0.5141 - val_accuracy: 0.9341\n",
            "Epoch 188/200\n",
            "50/50 [==============================] - 14s 288ms/step - loss: 7.5423e-04 - accuracy: 1.0000 - val_loss: 0.1783 - val_accuracy: 0.9707\n",
            "Epoch 189/200\n",
            "50/50 [==============================] - 14s 287ms/step - loss: 3.9269e-05 - accuracy: 1.0000 - val_loss: 0.1404 - val_accuracy: 0.9756\n",
            "Epoch 190/200\n",
            "50/50 [==============================] - 14s 289ms/step - loss: 3.8459e-04 - accuracy: 1.0000 - val_loss: 0.1288 - val_accuracy: 0.9805\n",
            "Epoch 191/200\n",
            "50/50 [==============================] - 14s 288ms/step - loss: 1.1839e-05 - accuracy: 1.0000 - val_loss: 0.1235 - val_accuracy: 0.9829\n",
            "Epoch 192/200\n",
            "50/50 [==============================] - 14s 288ms/step - loss: 8.2612e-05 - accuracy: 1.0000 - val_loss: 0.1229 - val_accuracy: 0.9829\n",
            "Epoch 193/200\n",
            "50/50 [==============================] - 15s 291ms/step - loss: 0.0021 - accuracy: 0.9994 - val_loss: 0.1839 - val_accuracy: 0.9634\n",
            "Epoch 194/200\n",
            "50/50 [==============================] - 14s 289ms/step - loss: 0.0500 - accuracy: 0.9950 - val_loss: 7.1580 - val_accuracy: 0.5146\n",
            "Epoch 195/200\n",
            "50/50 [==============================] - 14s 286ms/step - loss: 0.0337 - accuracy: 0.9962 - val_loss: 0.8203 - val_accuracy: 0.9341\n",
            "Epoch 196/200\n",
            "50/50 [==============================] - 14s 288ms/step - loss: 0.0194 - accuracy: 0.9944 - val_loss: 0.2446 - val_accuracy: 0.9683\n",
            "Epoch 197/200\n",
            "50/50 [==============================] - 14s 287ms/step - loss: 0.0469 - accuracy: 0.9912 - val_loss: 6.8693 - val_accuracy: 0.6610\n",
            "Epoch 198/200\n",
            "50/50 [==============================] - 14s 288ms/step - loss: 0.0350 - accuracy: 0.9925 - val_loss: 1.1624 - val_accuracy: 0.8073\n",
            "Epoch 199/200\n",
            "50/50 [==============================] - 14s 288ms/step - loss: 0.0302 - accuracy: 0.9962 - val_loss: 0.3076 - val_accuracy: 0.9366\n",
            "Epoch 200/200\n",
            "50/50 [==============================] - ETA: 0s - loss: 0.0055 - accuracy: 0.9981\n",
            "Epoch 00200: saving model to training_ResNet50/cp-0200.ckpt\n",
            "50/50 [==============================] - 25s 492ms/step - loss: 0.0055 - accuracy: 0.9981 - val_loss: 0.1661 - val_accuracy: 0.9537\n",
            "\n",
            " model_ResNet50 took 2959.62 seconds (49.3 minutes) to train for 200 epochs\n"
          ],
          "name": "stdout"
        }
      ]
    },
    {
      "cell_type": "markdown",
      "metadata": {
        "id": "S2q04VVBcMcx"
      },
      "source": [
        "**VGG19**"
      ]
    },
    {
      "cell_type": "code",
      "metadata": {
        "id": "D-dE-H04cL_b",
        "outputId": "db9b16ed-738b-4324-ca54-00a026c25535",
        "colab": {
          "base_uri": "https://localhost:8080/",
          "height": 34
        }
      },
      "source": [
        "# Include the epoch in the file name (uses `str.format`)\n",
        "checkpoint_path = \"training_VGG19/cp-{epoch:04d}.ckpt\"\n",
        "checkpoint_dir = os.path.dirname(checkpoint_path)\n",
        "\n",
        "# Create a callback that saves the model's weights every 5 epochs\n",
        "cp_callback = tf.keras.callbacks.ModelCheckpoint(\n",
        "    filepath=checkpoint_path, \n",
        "    verbose=1, \n",
        "    save_weights_only=True,\n",
        "    period=50)\n",
        "\n",
        "#Create the model\n",
        "def create_model_from_VGG19():\n",
        "    \"\"\"\n",
        "      use VGG19\n",
        "    \"\"\"\n",
        "    model = VGG19(weights = \"imagenet\", include_top=False, input_tensor=None, input_shape = (224, 224, 3))\n",
        "    \n",
        "    #5 layers เเรก จะไม่ถูกฝึกเนื่องจากใช้วิธีการ freeze ไว้เเล้ว\n",
        "    for layer in model.layers[:1]:\n",
        "      layer.trainable = False\n",
        "      \n",
        "    #ทำการเพิ่ม layers ที่กำหนดขึ้นมาเอง เป็นการปรับเเต่งเพื่อเพิ่มประสิทธิภาพ \n",
        "    x = model.output\n",
        "    x = Flatten()(x)\n",
        "#     x = Dense(1024, activation=\"relu\")(x)\n",
        "    x = Dropout(0.5)(x)\n",
        "    x = Dense(1024, activation=\"relu\")(x)\n",
        "    predictions = Dense(NUM_CLASSES, activation=\"softmax\")(x)\n",
        "    \n",
        "    #สร้าง model ชั้นสุดท้ายเพื่อจะนำมา compile\n",
        "    model_VGG19 = Model(inputs = model.input, outputs = predictions)\n",
        "    \n",
        "    model_VGG19.compile(loss='categorical_crossentropy', optimizer=Adam(lr=0.0001), metrics=['accuracy']) # optimizer=RMSprop(lr=0.001)\n",
        "\n",
        "    return model_VGG19\n",
        "\n",
        "    # Save the weights using the `checkpoint_path` format\n",
        "    model_VGG19.save_weights(checkpoint_path.format(epoch=0))"
      ],
      "execution_count": null,
      "outputs": [
        {
          "output_type": "stream",
          "text": [
            "WARNING:tensorflow:`period` argument is deprecated. Please use `save_freq` to specify the frequency in number of batches seen.\n"
          ],
          "name": "stdout"
        }
      ]
    },
    {
      "cell_type": "code",
      "metadata": {
        "id": "qtPXh-QSchgV"
      },
      "source": [
        "model_VGG19 = create_model_from_VGG19()\n",
        "model_VGG19.summary()"
      ],
      "execution_count": null,
      "outputs": []
    },
    {
      "cell_type": "code",
      "metadata": {
        "id": "vYwAniZAcnZn"
      },
      "source": [
        "start = time.time()\n",
        "\n",
        "history = model_VGG19.fit_generator(\n",
        "    generator=train_generator, \n",
        "    steps_per_epoch=train_generator.samples//BATCH_SIZE,   # -> 106 # images 3392 = steps * batch_size = 106 * 32 \n",
        "    epochs=epochs, \n",
        "    validation_steps=valid_generator.samples//BATCH_SIZE, # -> 26 # images 832 = steps * batch_size = 26 * 32\n",
        "    validation_data=valid_generator,\n",
        "    callbacks = [cp_callback],\n",
        "    verbose = 1\n",
        ")\n",
        "\n",
        "end = time.time()\n",
        "duration = end - start\n",
        "print ('\\n model_VGG19 took %0.2f seconds (%0.1f minutes) to train for %d epochs'%(duration, duration/60, epochs) )"
      ],
      "execution_count": null,
      "outputs": []
    },
    {
      "cell_type": "markdown",
      "metadata": {
        "id": "4CkQBYJ3QtoO"
      },
      "source": [
        "**Make Zipfile to training for saving in google drive**"
      ]
    },
    {
      "cell_type": "code",
      "metadata": {
        "id": "Bt6BzQPkQ0WO"
      },
      "source": [
        "!zip -r \"/content/drive/My Drive/Final Project/Dataset-Lab/Original/training/training(200epochs).zip\" \"training_ResNet50\""
      ],
      "execution_count": null,
      "outputs": []
    },
    {
      "cell_type": "markdown",
      "metadata": {
        "id": "k-V36n5jRASF"
      },
      "source": [
        "**Save model file .h5 ResNet50, VGG19, MobileNet**"
      ]
    },
    {
      "cell_type": "code",
      "metadata": {
        "id": "IdQTZlRIri2_"
      },
      "source": [
        "!mkdir save_model\n",
        "model_resnet.save('save_model/model-resnet50(200epochs).h5') #ดูจำนวนรอบที่เทรนด้วยว่าทั้งหมดกี่รอบจริงๆเเล้ว"
      ],
      "execution_count": 16,
      "outputs": []
    },
    {
      "cell_type": "code",
      "metadata": {
        "id": "tJXxjv6f3_EM"
      },
      "source": [
        "!mkdir save_model\n",
        "model_VGG19.save('save_model/model-VGG19(200epochs).h5') #ดูจำนวนรอบที่เทรนด้วยว่าทั้งหมดกี่รอบจริงๆเเล้ว"
      ],
      "execution_count": null,
      "outputs": []
    },
    {
      "cell_type": "markdown",
      "metadata": {
        "id": "Kd8P6G590Pbd"
      },
      "source": [
        "**Save file json**"
      ]
    },
    {
      "cell_type": "code",
      "metadata": {
        "id": "W7WvXhX50JV8"
      },
      "source": [
        "#Import dependencies\n",
        "!mkdir jsonfile\n",
        "import json\n",
        "from keras.models import model_from_json, load_model\n",
        "with open('jsonfile/model_resnet.json', 'w') as f:\n",
        "    f.write(model.to_json())\n",
        "print(\"Saved model to disk\")"
      ],
      "execution_count": null,
      "outputs": []
    },
    {
      "cell_type": "markdown",
      "metadata": {
        "id": "g1aiyKj2Qruv"
      },
      "source": [
        "\n",
        "**Show graphs ResNet50**"
      ]
    },
    {
      "cell_type": "code",
      "metadata": {
        "id": "3ShicU5HozNr",
        "outputId": "3c1fde47-e327-4790-cc86-48cc82ed44ca",
        "colab": {
          "base_uri": "https://localhost:8080/",
          "height": 299
        }
      },
      "source": [
        "#กราฟเเม่นยำเเละ loss\n",
        "import matplotlib.pyplot as plt\n",
        "\n",
        "acc = model_resnet.history.history['accuracy']\n",
        "val_acc = model_resnet.history.history['val_accuracy']\n",
        "\n",
        "loss= model_resnet.history.history['loss']\n",
        "val_loss= model_resnet.history.history['val_loss']\n",
        "\n",
        "\n",
        "plt.style.use(\"ggplot\")\n",
        "#  \"Accuracy\"\n",
        "plt.figure(figsize=(15, 4))\n",
        "plt.subplot(1, 2, 1)\n",
        "plt.plot(acc, label='Training Accuracy')\n",
        "plt.plot(val_acc, label='Validation Accuracy')\n",
        "plt.legend(loc='lower right')\n",
        "plt.title('Training and Validation Accuracy')\n",
        "plt.ylabel('accuracy')\n",
        "plt.xlabel('epochs')\n",
        "#  \"Loss\"\n",
        "plt.subplot(1, 2, 2)\n",
        "plt.plot(loss, label='Training Loss')\n",
        "plt.plot(val_loss, label='Validation Loss')\n",
        "plt.legend(loc='upper right')\n",
        "plt.title('Training and Validation Loss')\n",
        "plt.ylabel('loss')\n",
        "plt.xlabel('epochs')\n",
        "plt.show()\n",
        "# plt.savefig('accandloss.png')"
      ],
      "execution_count": 15,
      "outputs": [
        {
          "output_type": "display_data",
          "data": {
            "image/png": "[encoded data removed]",
            "text/plain": [
              "<Figure size 1080x288 with 2 Axes>"
            ]
          },
          "metadata": {
            "tags": []
          }
        }
      ]
    },
    {
      "cell_type": "markdown",
      "metadata": {
        "id": "WqZMXWG53Lgu"
      },
      "source": [
        "\n",
        "**Show graphs VGG19**"
      ]
    },
    {
      "cell_type": "code",
      "metadata": {
        "id": "JJDpV8393MEY"
      },
      "source": [
        "#กราฟเเม่นยำเเละ loss\n",
        "import matplotlib.pyplot as plt\n",
        "\n",
        "acc = model_VGG19.history.history['accuracy']\n",
        "val_acc = model_VGG19.history.history['val_accuracy']\n",
        "\n",
        "loss= model_VGG19.history.history['loss']\n",
        "val_loss= model_VGG19.history.history['val_loss']\n",
        "\n",
        "\n",
        "plt.style.use(\"ggplot\")\n",
        "#  \"Accuracy\"\n",
        "plt.figure(figsize=(15, 4))\n",
        "plt.subplot(1, 2, 1)\n",
        "plt.plot(acc, label='Training Accuracy')\n",
        "plt.plot(val_acc, label='Validation Accuracy')\n",
        "plt.legend(loc='upper right')\n",
        "plt.title('Training and Validation Accuracy')\n",
        "plt.ylabel('accuracy')\n",
        "plt.xlabel('epochs')\n",
        "#  \"Loss\"\n",
        "plt.subplot(1, 2, 2)\n",
        "plt.plot(loss, label='Training Loss')\n",
        "plt.plot(val_loss, label='Validation Loss')\n",
        "plt.legend(loc='lower right')\n",
        "plt.title('Training and Validation Loss')\n",
        "plt.ylabel('loss')\n",
        "plt.xlabel('epochs')\n",
        "plt.show()\n",
        "# plt.savefig('accandloss.png')"
      ],
      "execution_count": null,
      "outputs": []
    },
    {
      "cell_type": "markdown",
      "metadata": {
        "id": "QOEs4ae2QqN6"
      },
      "source": [
        "**Check the checkpoints of model**"
      ]
    },
    {
      "cell_type": "code",
      "metadata": {
        "id": "X8OmBYwQDZG5",
        "outputId": "98213b07-48f5-48f5-b4ae-b3a0800396e5",
        "colab": {
          "base_uri": "https://localhost:8080/",
          "height": 35
        }
      },
      "source": [
        "latest = tf.train.latest_checkpoint(checkpoint_dir)\n",
        "latest"
      ],
      "execution_count": 18,
      "outputs": [
        {
          "output_type": "execute_result",
          "data": {
            "application/vnd.google.colaboratory.intrinsic+json": {
              "type": "string"
            },
            "text/plain": [
              "'training_ResNet50/cp-0200.ckpt'"
            ]
          },
          "metadata": {
            "tags": []
          },
          "execution_count": 18
        }
      ]
    },
    {
      "cell_type": "code",
      "metadata": {
        "id": "7mKTviqN3LN7",
        "outputId": "14feb07b-fbf5-43f0-f524-d79973948e4d",
        "colab": {
          "base_uri": "https://localhost:8080/",
          "height": 50
        }
      },
      "source": [
        "# Load the previously saved weights\n",
        "model_resnet.load_weights(latest)\n",
        "\n",
        "# Re-evaluate the model\n",
        "loss, acc = model_resnet.evaluate(valid_generator, verbose=2)\n",
        "print(\"Restored model, accuracy: {:5.2f}%\".format(100*acc))"
      ],
      "execution_count": 20,
      "outputs": [
        {
          "output_type": "stream",
          "text": [
            "410/410 - 5s - loss: 0.1661 - accuracy: 0.9537\n",
            "Restored model, accuracy: 95.37%\n"
          ],
          "name": "stdout"
        }
      ]
    },
    {
      "cell_type": "code",
      "metadata": {
        "id": "-79zTCnA4ftV"
      },
      "source": [
        "# Load the previously saved weights\n",
        "model_VGG19.load_weights(latest)\n",
        "\n",
        "# Re-evaluate the model\n",
        "loss, acc = model_VGG19.evaluate(valid_generator, verbose=2)\n",
        "print(\"Restored model, accuracy: {:5.2f}%\".format(100*acc))"
      ],
      "execution_count": null,
      "outputs": []
    },
    {
      "cell_type": "code",
      "metadata": {
        "id": "tBAQHq_PKqXf"
      },
      "source": [
        "#สำหรับเช็คค่าของการเทส\n",
        "x,y = valid_generator.next()\n",
        "x.shape\n",
        "y.shape"
      ],
      "execution_count": null,
      "outputs": []
    },
    {
      "cell_type": "markdown",
      "metadata": {
        "id": "5pirGRSKQXjs"
      },
      "source": [
        "**Save the model**"
      ]
    },
    {
      "cell_type": "code",
      "metadata": {
        "id": "oVwXFxjDOM9p"
      },
      "source": [
        "# Save the entire model as a SavedModel.\n",
        "model_resnet.save('saved_model/my_model') "
      ],
      "execution_count": null,
      "outputs": []
    },
    {
      "cell_type": "code",
      "metadata": {
        "id": "vIVtmAhTObq0"
      },
      "source": [
        "!ls saved_model/my_model"
      ],
      "execution_count": null,
      "outputs": []
    },
    {
      "cell_type": "markdown",
      "metadata": {
        "id": "4zPv9OaCQQvy"
      },
      "source": [
        "**Convert file model .pb to tflite**"
      ]
    },
    {
      "cell_type": "code",
      "metadata": {
        "id": "K0Qdqqi6M6oP"
      },
      "source": [
        "model= tf.keras.models.load_model('saved_model/my_model')\n",
        "tflite_converter = tf.lite.TFLiteConverter.from_keras_model(model)\n",
        "tflite_model = tflite_converter.convert()\n",
        "open(\"tf_lite_model.tflite\", \"wb\").write(tflite_model) "
      ],
      "execution_count": null,
      "outputs": []
    },
    {
      "cell_type": "code",
      "metadata": {
        "id": "Pz4a1uw1at7N"
      },
      "source": [
        "!mv \"tf_lite_model.tflite\" \"/content/drive/My Drive/Final Project/Dataset-Lab/Original/saved_model/tflite\"\n",
        "print(\"Success\")"
      ],
      "execution_count": null,
      "outputs": []
    },
    {
      "cell_type": "markdown",
      "metadata": {
        "id": "KJU_yzZjIXs9"
      },
      "source": [
        "**Prediction**"
      ]
    },
    {
      "cell_type": "code",
      "metadata": {
        "id": "x7-cf_o0TDU2"
      },
      "source": [
        "categories =  ['eilerd', 'fahthalinejol', 'horapa', 'krapao', 'lemon', 'magrud', 'plu', 'sabtiger', 'saranae', 'yanang']"
      ],
      "execution_count": null,
      "outputs": []
    },
    {
      "cell_type": "code",
      "metadata": {
        "id": "dGn81xv-TKdM"
      },
      "source": [
        "model = model_resnet.load_weights('save_model/model-resnet50(200epochs).h5')"
      ],
      "execution_count": null,
      "outputs": []
    },
    {
      "cell_type": "code",
      "metadata": {
        "id": "MhRkHrmHTuT7"
      },
      "source": [
        "loss, acc = model.evaluate(valid_generator, verbose=2)\n",
        "print('Restored model, accuracy: {:5.2f}%'.format(100*acc))"
      ],
      "execution_count": null,
      "outputs": []
    },
    {
      "cell_type": "code",
      "metadata": {
        "id": "r-DP6T28RK6q",
        "outputId": "3a2f9050-3137-4980-cb0c-de04426e6f83",
        "colab": {
          "base_uri": "https://localhost:8080/",
          "height": 352
        }
      },
      "source": [
        "import seaborn as sn\n",
        "import pandas as pd\n",
        "\n",
        "model = tf.keras.models.load_model('save_model/model-resnet50(200epochs).h5')\n",
        "filenames = valid_generator.filenames\n",
        "nb_samples = len(valid_generator)\n",
        "y_prob=[]\n",
        "y_act=[]\n",
        "valid_generator.reset()\n",
        "for _ in range(nb_samples):\n",
        "    x_test, y_test = valid_generator.next()\n",
        "    y_prob.append(model.predict(x_test))\n",
        "    y_act.append(y_test)\n",
        "    \n",
        "predicted_class = [list(train_generator.class_indices.keys())[i.argmax()] for i in y_prob]\n",
        "actual_class = [list(train_generator.class_indices.keys())[i.argmax()] for i in y_act]\n",
        "\n",
        "out_df = pd.DataFrame(np.vstack([predicted_class,actual_class]).T,columns=['predicted_class', 'actual_class'])\n",
        "confusion_matrix = pd.crosstab(out_df['actual_class'],out_df['predicted_class'], rownames=['Actual'], colnames=['Predicted'])\n",
        "\n",
        "sn.heatmap(confusion_matrix, cmap='Blues', annot= True, fmt='d')\n",
        "plt.show()\n",
        "print('test accuracy : {}'.format((np.diagonal(confusion_matrix).sum()/confusion_matrix.sum().sum()*100)))"
      ],
      "execution_count": 17,
      "outputs": [
        {
          "output_type": "display_data",
          "data": {
            "image/png": "[encoded data removed]",
            "text/plain": [
              "<Figure size 432x288 with 2 Axes>"
            ]
          },
          "metadata": {
            "tags": []
          }
        },
        {
          "output_type": "stream",
          "text": [
            "test accuracy : 95.36585365853658\n"
          ],
          "name": "stdout"
        }
      ]
    },
    {
      "cell_type": "markdown",
      "metadata": {
        "id": "fj2unvlyZYQZ"
      },
      "source": [
        "**เพิ่มเติมโอนย้ายไฟล์หลังจากเสร็จเเล้ว**"
      ]
    },
    {
      "cell_type": "code",
      "metadata": {
        "id": "qpUTyv7QS751"
      },
      "source": [
        "!mv \"save_model/model-resnet50(200epochs).h5\" \"/content/drive/My Drive/Final Project/Dataset-Lab/Original/saved_model\""
      ],
      "execution_count": null,
      "outputs": []
    }
  ]
}