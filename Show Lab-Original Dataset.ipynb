{
  "nbformat": 4,
  "nbformat_minor": 0,
  "metadata": {
    "colab": {
      "name": "Final Project.ipynb",
      "provenance": [],
      "collapsed_sections": [],
      "mount_file_id": "1XZoVBS3qAJhN_pQAp-YBs7VwBDICRLTn",
      "authorship_tag": "ABX9TyPb8oD8m1LJrf8951nWx8xA",
      "include_colab_link": true
    },
    "kernelspec": {
      "name": "python3",
      "display_name": "Python 3"
    },
    "accelerator": "GPU"
  },
  "cells": [
    {
      "cell_type": "markdown",
      "metadata": {
        "id": "view-in-github",
        "colab_type": "text"
      },
      "source": [
        "<a href=\"https://colab.research.google.com/github/makezazainw/FinalProject/blob/master/Show%20Lab-Original%20Dataset.ipynb\" target=\"_parent\"><img src=\"https://colab.research.google.com/assets/colab-badge.svg\" alt=\"Open In Colab\"/></a>"
      ]
    },
    {
      "cell_type": "markdown",
      "metadata": {
        "id": "4jaYQfJe6UPZ"
      },
      "source": [
        "**Upload file if you want**"
      ]
    },
    {
      "cell_type": "code",
      "metadata": {
        "id": "-x9CVU9IgkU_",
        "outputId": "0028b7f8-c786-4c60-efea-f6882b26cc89",
        "colab": {
          "resources": {
            "http://localhost:8080/nbextensions/google.colab/files.js": {
              "data": "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",
              "ok": true,
              "headers": [
                [
                  "content-type",
                  "application/javascript"
                ]
              ],
              "status": 200,
              "status_text": ""
            }
          },
          "base_uri": "https://localhost:8080/",
          "height": 39
        }
      },
      "source": [
        "from google.colab import files\n",
        "pbfile = files.upload()"
      ],
      "execution_count": null,
      "outputs": [
        {
          "output_type": "display_data",
          "data": {
            "text/html": [
              "\n",
              "     <input type=\"file\" id=\"files-c293aaaf-2f53-458e-b74a-da911c0013e7\" name=\"files[]\" multiple disabled\n",
              "        style=\"border:none\" />\n",
              "     <output id=\"result-c293aaaf-2f53-458e-b74a-da911c0013e7\">\n",
              "      Upload widget is only available when the cell has been executed in the\n",
              "      current browser session. Please rerun this cell to enable.\n",
              "      </output>\n",
              "      <script src=\"/nbextensions/google.colab/files.js\"></script> "
            ],
            "text/plain": [
              "<IPython.core.display.HTML object>"
            ]
          },
          "metadata": {
            "tags": []
          }
        }
      ]
    },
    {
      "cell_type": "markdown",
      "metadata": {
        "id": "HYtRYzbH6j8i"
      },
      "source": [
        "**Install Kaggle**"
      ]
    },
    {
      "cell_type": "code",
      "metadata": {
        "id": "A1xFzv82hg55",
        "outputId": "6a275805-359d-445f-fff9-a8407cd87bc4",
        "colab": {
          "base_uri": "https://localhost:8080/",
          "height": 134
        }
      },
      "source": [
        "# Install Kaggle API\n",
        "!pip install -q kaggle\n",
        "!pip install -q kaggle-cli"
      ],
      "execution_count": 1,
      "outputs": [
        {
          "output_type": "stream",
          "text": [
            "\u001b[K     |████████████████████████████████| 81kB 2.4MB/s \n",
            "\u001b[K     |████████████████████████████████| 5.3MB 6.0MB/s \n",
            "\u001b[K     |████████████████████████████████| 143kB 29.2MB/s \n",
            "\u001b[K     |████████████████████████████████| 51kB 5.7MB/s \n",
            "\u001b[K     |████████████████████████████████| 112kB 33.5MB/s \n",
            "\u001b[?25h  Building wheel for kaggle-cli (setup.py) ... \u001b[?25l\u001b[?25hdone\n",
            "  Building wheel for pyperclip (setup.py) ... \u001b[?25l\u001b[?25hdone\n"
          ],
          "name": "stdout"
        }
      ]
    },
    {
      "cell_type": "markdown",
      "metadata": {
        "id": "cV3qDwDx6p79"
      },
      "source": [
        "**Call file from Json for use Kaggle Dataset**\n",
        "\n"
      ]
    },
    {
      "cell_type": "code",
      "metadata": {
        "id": "pYMNgAl6hg8S"
      },
      "source": [
        "# only for google colab\n",
        "import os\n",
        "os.environ['KAGGLE_USERNAME'] = \"thammatattantipitham\" \n",
        "os.environ['KAGGLE_KEY'] = \"3cf826ab97707228fb1602519992740b\""
      ],
      "execution_count": 2,
      "outputs": []
    },
    {
      "cell_type": "code",
      "metadata": {
        "id": "q7lFIo5lhg-r",
        "outputId": "4be1279b-f67c-4372-e12a-a9060e2d25b1",
        "colab": {
          "base_uri": "https://localhost:8080/",
          "height": 67
        }
      },
      "source": [
        "!kaggle datasets download -d thammatattantipitham/originalthaiherb --unzip"
      ],
      "execution_count": 3,
      "outputs": [
        {
          "output_type": "stream",
          "text": [
            "Downloading originalthaiherb.zip to /content\n",
            " 74% 11.0M/15.0M [00:01<00:00, 9.78MB/s]\n",
            "100% 15.0M/15.0M [00:01<00:00, 9.40MB/s]\n"
          ],
          "name": "stdout"
        }
      ]
    },
    {
      "cell_type": "markdown",
      "metadata": {
        "id": "b2ZbQ75H7EtT"
      },
      "source": [
        "**Move to Directory thai-herb**"
      ]
    },
    {
      "cell_type": "code",
      "metadata": {
        "id": "JqgFPbWBhhBI"
      },
      "source": [
        "!mkdir originalthaiherb\n",
        "!mv  \"train\" \"val\" originalthaiherb"
      ],
      "execution_count": 4,
      "outputs": []
    },
    {
      "cell_type": "markdown",
      "metadata": {
        "id": "XcdGYThk7LhC"
      },
      "source": [
        "**Start**"
      ]
    },
    {
      "cell_type": "code",
      "metadata": {
        "id": "wep6meUChhDQ",
        "outputId": "6ad6d80b-4ea7-4e49-8f47-62ccf10d23aa",
        "colab": {
          "base_uri": "https://localhost:8080/",
          "height": 35
        }
      },
      "source": [
        "import sys\n",
        "import time\n",
        "import cv2\n",
        "import numpy as np\n",
        "from matplotlib import pyplot as plt\n",
        "import tensorflow as tf\n",
        "import os\n",
        "import keras\n",
        "\n",
        "from skimage.transform import resize\n",
        "from sklearn.model_selection import train_test_split\n",
        "\n",
        "from tensorflow.python.keras.utils import np_utils\n",
        "from tensorflow.python.keras.models import Sequential, Model\n",
        "from tensorflow.python.keras.layers import Dense, Dropout, Flatten, Activation, BatchNormalization\n",
        "from tensorflow.python.keras.layers.convolutional import Conv2D, MaxPooling2D, AveragePooling2D\n",
        "from tensorflow.python.keras.preprocessing.image import ImageDataGenerator\n",
        "from tensorflow.python.keras.optimizers import RMSprop\n",
        "from tensorflow.python.keras.applications.vgg19 import VGG19\n",
        "from tensorflow.keras.applications.resnet50 import ResNet50, preprocess_input\n",
        "from tensorflow.keras.optimizers import Adam\n",
        "from keras.applications import InceptionV3\n",
        "sys.version"
      ],
      "execution_count": 1,
      "outputs": [
        {
          "output_type": "execute_result",
          "data": {
            "application/vnd.google.colaboratory.intrinsic+json": {
              "type": "string"
            },
            "text/plain": [
              "'3.6.9 (default, Jul 17 2020, 12:50:27) \\n[GCC 8.4.0]'"
            ]
          },
          "metadata": {
            "tags": []
          },
          "execution_count": 1
        }
      ]
    },
    {
      "cell_type": "code",
      "metadata": {
        "id": "oPHYCQQGkqox",
        "outputId": "01804fa7-c4f9-4b3b-f900-39c004b52b4c",
        "colab": {
          "base_uri": "https://localhost:8080/",
          "height": 101
        }
      },
      "source": [
        "from tensorflow.compat.v1.keras.backend import set_session\n",
        "\n",
        "config = tf.compat.v1.ConfigProto()\n",
        "\n",
        "config.gpu_options.allow_growth = True  # dynamically grow the memory used on the GPU\n",
        "\n",
        "config.log_device_placement = True  # to log device placement (on which device the operation ran)\n",
        "\n",
        "sess = tf.compat.v1.Session(config=config)\n",
        "\n",
        "set_session(sess)"
      ],
      "execution_count": 2,
      "outputs": [
        {
          "output_type": "stream",
          "text": [
            "Device mapping:\n",
            "/job:localhost/replica:0/task:0/device:XLA_CPU:0 -> device: XLA_CPU device\n",
            "/job:localhost/replica:0/task:0/device:XLA_GPU:0 -> device: XLA_GPU device\n",
            "/job:localhost/replica:0/task:0/device:GPU:0 -> device: 0, name: Tesla K80, pci bus id: 0000:00:04.0, compute capability: 3.7\n",
            "\n"
          ],
          "name": "stdout"
        }
      ]
    },
    {
      "cell_type": "code",
      "metadata": {
        "id": "8j7CwOUNkqsX"
      },
      "source": [
        "DATASET_PATH  = 'originalthaiherb/'\n",
        "IMAGE_SIZE    = (224, 224)\n",
        "NUM_CLASSES   = 10\n",
        "BATCH_SIZE    = 32  # try reducing batch size or freeze more layers if your GPU runs out of memory\n",
        "epochs    = 200"
      ],
      "execution_count": 3,
      "outputs": []
    },
    {
      "cell_type": "code",
      "metadata": {
        "id": "Lwe4FTL7kq4X"
      },
      "source": [
        "#ทำ aug มาเเล้ว\n",
        "train_datagen = ImageDataGenerator(preprocessing_function=preprocess_input)"
      ],
      "execution_count": 4,
      "outputs": []
    },
    {
      "cell_type": "code",
      "metadata": {
        "id": "7HDQWIrlkq6-",
        "outputId": "9d1b0120-7420-4552-ba01-49e680ae95f1",
        "colab": {
          "base_uri": "https://localhost:8080/",
          "height": 34
        }
      },
      "source": [
        "#set training data\n",
        "train_generator = train_datagen.flow_from_directory(DATASET_PATH+ r\"train/\",\n",
        "                                                    target_size = IMAGE_SIZE,\n",
        "                                                    batch_size = BATCH_SIZE,\n",
        "                                                    class_mode='categorical',\n",
        "                                                    shuffle = True,\n",
        "                                                    subset='training')"
      ],
      "execution_count": 5,
      "outputs": [
        {
          "output_type": "stream",
          "text": [
            "Found 1600 images belonging to 10 classes.\n"
          ],
          "name": "stdout"
        }
      ]
    },
    {
      "cell_type": "code",
      "metadata": {
        "id": "UANhQsw0kq8t",
        "outputId": "18308b67-d48a-4ea8-eca8-ec73887338a8",
        "colab": {
          "base_uri": "https://localhost:8080/",
          "height": 34
        }
      },
      "source": [
        "valid_datagen = ImageDataGenerator(preprocessing_function=preprocess_input)\n",
        "valid_generator = valid_datagen.flow_from_directory(DATASET_PATH+ r\"val/\",                                      \n",
        "                                                    target_size = IMAGE_SIZE,\n",
        "                                                    batch_size = 1,\n",
        "                                                    class_mode='categorical',\n",
        "                                                    shuffle = True\n",
        "                                                    )"
      ],
      "execution_count": 6,
      "outputs": [
        {
          "output_type": "stream",
          "text": [
            "Found 410 images belonging to 10 classes.\n"
          ],
          "name": "stdout"
        }
      ]
    },
    {
      "cell_type": "markdown",
      "metadata": {
        "id": "JxPtrM3FVhJ_"
      },
      "source": [
        "**How to use the checkpoint from google drive**"
      ]
    },
    {
      "cell_type": "code",
      "metadata": {
        "id": "DS8_MUPSVhVt"
      },
      "source": [
        "!mkdir training_1\n",
        "!unzip \"/content/drive/My Drive/Final Project/Dataset-Lab/Original/training/training.zip\" \"/content/training_1\""
      ],
      "execution_count": null,
      "outputs": []
    },
    {
      "cell_type": "code",
      "metadata": {
        "id": "RGHJtcyP4_LK",
        "outputId": "0f9eb60b-eb70-4946-806e-4bcb9e0b8ede",
        "colab": {
          "base_uri": "https://localhost:8080/",
          "height": 34
        }
      },
      "source": [
        "# Include the epoch in the file name (uses `str.format`)\n",
        "checkpoint_path = \"training_2/cp-{epoch:04d}.ckpt\"\n",
        "checkpoint_dir = os.path.dirname(checkpoint_path)\n",
        "\n",
        "# Create a callback that saves the model's weights every 5 epochs\n",
        "cp_callback = tf.keras.callbacks.ModelCheckpoint(\n",
        "    filepath=checkpoint_path, \n",
        "    verbose=1, \n",
        "    save_weights_only=True,\n",
        "    period=50)\n",
        "\n",
        "#Create the model\n",
        "base_model_resnet = ResNet50(include_top=False,weights='imagenet',input_shape=(IMAGE_SIZE[0],IMAGE_SIZE[1],3))\n",
        "#Defining and Adding layers\n",
        "model_resnet= Sequential()\n",
        "#Add the Dense layers along with activation and batch normalization\n",
        "model_resnet.add(base_model_resnet)\n",
        "model_resnet.add(Flatten())\n",
        "\n",
        "#Add the Dense layers along with activation and batch normalization\n",
        "model_resnet.add(Dense(1024,activation=('relu'),input_dim=64))\n",
        "model_resnet.add(Dense(512,activation=('relu'))) \n",
        "model_resnet.add(Dropout(.4))\n",
        "model_resnet.add(Dense(256,activation=('relu'))) \n",
        "model_resnet.add(Dropout(.3))#Adding a dropout layer that will randomly drop 30% of the weights\n",
        "model_resnet.add(Dense(128,activation=('relu')))\n",
        "model_resnet.add(Dropout(.2))\n",
        "model_resnet.add(Dense(NUM_CLASSES,activation=('softmax'))) #This is the classification layer\n",
        "\n",
        "\n",
        "# Save the weights using the `checkpoint_path` format\n",
        "model_resnet.save_weights(checkpoint_path.format(epoch=0))"
      ],
      "execution_count": 7,
      "outputs": [
        {
          "output_type": "stream",
          "text": [
            "WARNING:tensorflow:`period` argument is deprecated. Please use `save_freq` to specify the frequency in number of batches seen.\n"
          ],
          "name": "stdout"
        }
      ]
    },
    {
      "cell_type": "code",
      "metadata": {
        "id": "B6whr11lmPHh",
        "outputId": "1df5a1e7-6c79-4f05-8202-ed9bea6f0e46",
        "colab": {
          "base_uri": "https://localhost:8080/",
          "height": 185
        }
      },
      "source": [
        "train_generator.class_indices"
      ],
      "execution_count": 8,
      "outputs": [
        {
          "output_type": "execute_result",
          "data": {
            "text/plain": [
              "{'eilerd': 0,\n",
              " 'fahthalinejol': 1,\n",
              " 'horapa': 2,\n",
              " 'krapao': 3,\n",
              " 'lemon': 4,\n",
              " 'magrud': 5,\n",
              " 'plu': 6,\n",
              " 'sabtiger': 7,\n",
              " 'saranae': 8,\n",
              " 'yanang': 9}"
            ]
          },
          "metadata": {
            "tags": []
          },
          "execution_count": 8
        }
      ]
    },
    {
      "cell_type": "code",
      "metadata": {
        "id": "1JJLrZTk5YE1",
        "outputId": "2e58fe86-feba-4d63-9fbc-a9834686230d",
        "colab": {
          "base_uri": "https://localhost:8080/",
          "height": 487
        }
      },
      "source": [
        "#Model summary\n",
        "model_resnet.summary()"
      ],
      "execution_count": 9,
      "outputs": [
        {
          "output_type": "stream",
          "text": [
            "Model: \"sequential\"\n",
            "_________________________________________________________________\n",
            "Layer (type)                 Output Shape              Param #   \n",
            "=================================================================\n",
            "resnet50 (Functional)        (None, 7, 7, 2048)        23587712  \n",
            "_________________________________________________________________\n",
            "flatten (Flatten)            (None, 100352)            0         \n",
            "_________________________________________________________________\n",
            "dense (Dense)                (None, 1024)              102761472 \n",
            "_________________________________________________________________\n",
            "dense_1 (Dense)              (None, 512)               524800    \n",
            "_________________________________________________________________\n",
            "dropout (Dropout)            (None, 512)               0         \n",
            "_________________________________________________________________\n",
            "dense_2 (Dense)              (None, 256)               131328    \n",
            "_________________________________________________________________\n",
            "dropout_1 (Dropout)          (None, 256)               0         \n",
            "_________________________________________________________________\n",
            "dense_3 (Dense)              (None, 128)               32896     \n",
            "_________________________________________________________________\n",
            "dropout_2 (Dropout)          (None, 128)               0         \n",
            "_________________________________________________________________\n",
            "dense_4 (Dense)              (None, 10)                1290      \n",
            "=================================================================\n",
            "Total params: 127,039,498\n",
            "Trainable params: 126,986,378\n",
            "Non-trainable params: 53,120\n",
            "_________________________________________________________________\n"
          ],
          "name": "stdout"
        }
      ]
    },
    {
      "cell_type": "code",
      "metadata": {
        "id": "aj6FKOPJpXGF"
      },
      "source": [
        "model_resnet.compile(optimizer=Adam(lr=0.0001),  #Adam(lr=1e-5)\n",
        "                  loss='categorical_crossentropy', metrics=['accuracy'])"
      ],
      "execution_count": 10,
      "outputs": []
    },
    {
      "cell_type": "code",
      "metadata": {
        "id": "2GJHAmk4nuDr",
        "outputId": "997a1374-ebec-4928-c342-c9de5b7c1a74",
        "colab": {
          "base_uri": "https://localhost:8080/",
          "height": 1000
        }
      },
      "source": [
        "#start to train the model\n",
        "start = time.time()\n",
        "history = model_resnet.fit_generator(generator=train_generator, epochs=epochs, steps_per_epoch=train_generator.samples//BATCH_SIZE, validation_data=valid_generator,validation_steps=valid_generator.samples,callbacks=[cp_callback],verbose=1)\n",
        "\n",
        "end = time.time()\n",
        "duration = end - start\n",
        "print ('\\n model_ResNet50 took %0.2f seconds (%0.1f minutes) to train for %d epochs'%(duration, duration/60, epochs) )"
      ],
      "execution_count": 11,
      "outputs": [
        {
          "output_type": "stream",
          "text": [
            "WARNING:tensorflow:From <ipython-input-11-b7afd5cbd0e3>:3: Model.fit_generator (from tensorflow.python.keras.engine.training) is deprecated and will be removed in a future version.\n",
            "Instructions for updating:\n",
            "Please use Model.fit, which supports generators.\n",
            "Epoch 1/200\n",
            " 2/50 [>.............................] - ETA: 18s - loss: 3.5453 - accuracy: 0.0938WARNING:tensorflow:Callbacks method `on_train_batch_end` is slow compared to the batch time (batch time: 0.2814s vs `on_train_batch_end` time: 0.4707s). Check your callbacks.\n",
            "50/50 [==============================] - 49s 990ms/step - loss: 1.6327 - accuracy: 0.5213 - val_loss: 1.0827 - val_accuracy: 0.7049\n",
            "Epoch 2/200\n",
            "50/50 [==============================] - 49s 970ms/step - loss: 0.2686 - accuracy: 0.9131 - val_loss: 0.4554 - val_accuracy: 0.8829\n",
            "Epoch 3/200\n",
            "50/50 [==============================] - 48s 966ms/step - loss: 0.1466 - accuracy: 0.9631 - val_loss: 0.6906 - val_accuracy: 0.8488\n",
            "Epoch 4/200\n",
            "50/50 [==============================] - 49s 971ms/step - loss: 0.0984 - accuracy: 0.9750 - val_loss: 0.4160 - val_accuracy: 0.9244\n",
            "Epoch 5/200\n",
            "50/50 [==============================] - 49s 971ms/step - loss: 0.1034 - accuracy: 0.9731 - val_loss: 0.0206 - val_accuracy: 0.9976\n",
            "Epoch 6/200\n",
            "50/50 [==============================] - 48s 967ms/step - loss: 0.0375 - accuracy: 0.9906 - val_loss: 0.0073 - val_accuracy: 0.9976\n",
            "Epoch 7/200\n",
            "50/50 [==============================] - 48s 968ms/step - loss: 0.0180 - accuracy: 0.9950 - val_loss: 0.0905 - val_accuracy: 0.9829\n",
            "Epoch 8/200\n",
            "50/50 [==============================] - 48s 966ms/step - loss: 0.0491 - accuracy: 0.9894 - val_loss: 0.0459 - val_accuracy: 0.9878\n",
            "Epoch 9/200\n",
            "50/50 [==============================] - 48s 965ms/step - loss: 0.0925 - accuracy: 0.9800 - val_loss: 0.3518 - val_accuracy: 0.9024\n",
            "Epoch 10/200\n",
            "50/50 [==============================] - 48s 966ms/step - loss: 0.0480 - accuracy: 0.9862 - val_loss: 0.2408 - val_accuracy: 0.9537\n",
            "Epoch 11/200\n",
            "50/50 [==============================] - 48s 964ms/step - loss: 0.0399 - accuracy: 0.9900 - val_loss: 0.0312 - val_accuracy: 0.9927\n",
            "Epoch 12/200\n",
            "50/50 [==============================] - 48s 965ms/step - loss: 0.0268 - accuracy: 0.9931 - val_loss: 0.3914 - val_accuracy: 0.9463\n",
            "Epoch 13/200\n",
            "50/50 [==============================] - 48s 966ms/step - loss: 0.0789 - accuracy: 0.9862 - val_loss: 0.0057 - val_accuracy: 1.0000\n",
            "Epoch 14/200\n",
            "50/50 [==============================] - 48s 967ms/step - loss: 0.0292 - accuracy: 0.9912 - val_loss: 0.0863 - val_accuracy: 0.9951\n",
            "Epoch 15/200\n",
            "50/50 [==============================] - 48s 966ms/step - loss: 0.1626 - accuracy: 0.9806 - val_loss: 2.1629 - val_accuracy: 0.4927\n",
            "Epoch 16/200\n",
            "50/50 [==============================] - 48s 969ms/step - loss: 0.1616 - accuracy: 0.9669 - val_loss: 0.9580 - val_accuracy: 0.8317\n",
            "Epoch 17/200\n",
            "50/50 [==============================] - 48s 967ms/step - loss: 0.0806 - accuracy: 0.9819 - val_loss: 6.3203 - val_accuracy: 0.5268\n",
            "Epoch 18/200\n",
            "50/50 [==============================] - 48s 968ms/step - loss: 0.0270 - accuracy: 0.9944 - val_loss: 0.1214 - val_accuracy: 0.9659\n",
            "Epoch 19/200\n",
            "50/50 [==============================] - 48s 965ms/step - loss: 0.0381 - accuracy: 0.9919 - val_loss: 2.1082e-04 - val_accuracy: 1.0000\n",
            "Epoch 20/200\n",
            "50/50 [==============================] - 48s 969ms/step - loss: 0.0462 - accuracy: 0.9900 - val_loss: 0.1124 - val_accuracy: 0.9732\n",
            "Epoch 21/200\n",
            "50/50 [==============================] - 49s 970ms/step - loss: 0.0146 - accuracy: 0.9950 - val_loss: 0.0235 - val_accuracy: 0.9927\n",
            "Epoch 22/200\n",
            "50/50 [==============================] - 48s 965ms/step - loss: 0.0173 - accuracy: 0.9981 - val_loss: 0.0509 - val_accuracy: 0.9854\n",
            "Epoch 23/200\n",
            "50/50 [==============================] - 48s 966ms/step - loss: 0.0108 - accuracy: 0.9975 - val_loss: 0.0242 - val_accuracy: 0.9951\n",
            "Epoch 24/200\n",
            "50/50 [==============================] - 48s 969ms/step - loss: 0.0048 - accuracy: 0.9981 - val_loss: 0.0116 - val_accuracy: 0.9976\n",
            "Epoch 25/200\n",
            "50/50 [==============================] - 48s 969ms/step - loss: 0.0027 - accuracy: 0.9981 - val_loss: 7.0188e-05 - val_accuracy: 1.0000\n",
            "Epoch 26/200\n",
            "50/50 [==============================] - 48s 969ms/step - loss: 0.0014 - accuracy: 1.0000 - val_loss: 1.0201e-04 - val_accuracy: 1.0000\n",
            "Epoch 27/200\n",
            "50/50 [==============================] - 48s 965ms/step - loss: 0.0061 - accuracy: 0.9987 - val_loss: 4.8345e-06 - val_accuracy: 1.0000\n",
            "Epoch 28/200\n",
            "50/50 [==============================] - 48s 968ms/step - loss: 0.0680 - accuracy: 0.9856 - val_loss: 0.5122 - val_accuracy: 0.8268\n",
            "Epoch 29/200\n",
            "50/50 [==============================] - 49s 970ms/step - loss: 0.1036 - accuracy: 0.9787 - val_loss: 1.0117 - val_accuracy: 0.7512\n",
            "Epoch 30/200\n",
            "50/50 [==============================] - 48s 963ms/step - loss: 0.0262 - accuracy: 0.9900 - val_loss: 0.5384 - val_accuracy: 0.9049\n",
            "Epoch 31/200\n",
            "50/50 [==============================] - 48s 963ms/step - loss: 0.0234 - accuracy: 0.9937 - val_loss: 0.4657 - val_accuracy: 0.9122\n",
            "Epoch 32/200\n",
            "50/50 [==============================] - 48s 969ms/step - loss: 0.0094 - accuracy: 0.9962 - val_loss: 0.1809 - val_accuracy: 0.9659\n",
            "Epoch 33/200\n",
            "50/50 [==============================] - 49s 978ms/step - loss: 0.0102 - accuracy: 0.9975 - val_loss: 0.0081 - val_accuracy: 0.9951\n",
            "Epoch 34/200\n",
            "50/50 [==============================] - 48s 967ms/step - loss: 0.0196 - accuracy: 0.9962 - val_loss: 0.1352 - val_accuracy: 0.9878\n",
            "Epoch 35/200\n",
            "50/50 [==============================] - 48s 966ms/step - loss: 0.0262 - accuracy: 0.9931 - val_loss: 1.0313 - val_accuracy: 0.7854\n",
            "Epoch 36/200\n",
            "50/50 [==============================] - 48s 970ms/step - loss: 0.0108 - accuracy: 0.9969 - val_loss: 0.3405 - val_accuracy: 0.9098\n",
            "Epoch 37/200\n",
            "50/50 [==============================] - 49s 971ms/step - loss: 0.0069 - accuracy: 0.9994 - val_loss: 0.0353 - val_accuracy: 0.9854\n",
            "Epoch 38/200\n",
            "50/50 [==============================] - 48s 967ms/step - loss: 0.0048 - accuracy: 0.9994 - val_loss: 0.0069 - val_accuracy: 0.9951\n",
            "Epoch 39/200\n",
            "50/50 [==============================] - 48s 967ms/step - loss: 0.0047 - accuracy: 0.9981 - val_loss: 0.0042 - val_accuracy: 0.9976\n",
            "Epoch 40/200\n",
            "50/50 [==============================] - 48s 969ms/step - loss: 0.0238 - accuracy: 0.9962 - val_loss: 0.3918 - val_accuracy: 0.9268\n",
            "Epoch 41/200\n",
            "50/50 [==============================] - 49s 971ms/step - loss: 0.0483 - accuracy: 0.9881 - val_loss: 0.4834 - val_accuracy: 0.8951\n",
            "Epoch 42/200\n",
            "50/50 [==============================] - 48s 969ms/step - loss: 0.0699 - accuracy: 0.9869 - val_loss: 6.8299 - val_accuracy: 0.6317\n",
            "Epoch 43/200\n",
            "50/50 [==============================] - 48s 967ms/step - loss: 0.1205 - accuracy: 0.9831 - val_loss: 1.8961 - val_accuracy: 0.6805\n",
            "Epoch 44/200\n",
            "50/50 [==============================] - 48s 968ms/step - loss: 0.0795 - accuracy: 0.9837 - val_loss: 0.2555 - val_accuracy: 0.9244\n",
            "Epoch 45/200\n",
            "50/50 [==============================] - 48s 969ms/step - loss: 0.0280 - accuracy: 0.9937 - val_loss: 0.3151 - val_accuracy: 0.9512\n",
            "Epoch 46/200\n",
            "50/50 [==============================] - 48s 967ms/step - loss: 0.0958 - accuracy: 0.9787 - val_loss: 0.2776 - val_accuracy: 0.9512\n",
            "Epoch 47/200\n",
            "50/50 [==============================] - 48s 969ms/step - loss: 0.0420 - accuracy: 0.9931 - val_loss: 0.2209 - val_accuracy: 0.9488\n",
            "Epoch 48/200\n",
            "50/50 [==============================] - 49s 970ms/step - loss: 0.0525 - accuracy: 0.9900 - val_loss: 1.5640 - val_accuracy: 0.8244\n",
            "Epoch 49/200\n",
            "50/50 [==============================] - 49s 973ms/step - loss: 0.1074 - accuracy: 0.9850 - val_loss: 1.2549 - val_accuracy: 0.9098\n",
            "Epoch 50/200\n",
            "50/50 [==============================] - ETA: 0s - loss: 0.0169 - accuracy: 0.9956\n",
            "Epoch 00050: saving model to training_2/cp-0050.ckpt\n",
            "50/50 [==============================] - 55s 1s/step - loss: 0.0169 - accuracy: 0.9956 - val_loss: 0.0244 - val_accuracy: 0.9951\n",
            "Epoch 51/200\n",
            "50/50 [==============================] - 48s 964ms/step - loss: 0.0050 - accuracy: 0.9994 - val_loss: 0.0163 - val_accuracy: 0.9951\n",
            "Epoch 52/200\n",
            "50/50 [==============================] - 49s 971ms/step - loss: 0.0024 - accuracy: 0.9994 - val_loss: 0.0336 - val_accuracy: 0.9976\n",
            "Epoch 53/200\n",
            "50/50 [==============================] - 48s 967ms/step - loss: 0.0098 - accuracy: 0.9994 - val_loss: 0.0368 - val_accuracy: 0.9976\n",
            "Epoch 54/200\n",
            "50/50 [==============================] - 48s 965ms/step - loss: 0.0029 - accuracy: 0.9987 - val_loss: 0.0337 - val_accuracy: 0.9976\n",
            "Epoch 55/200\n",
            "50/50 [==============================] - 48s 966ms/step - loss: 0.0011 - accuracy: 1.0000 - val_loss: 0.0342 - val_accuracy: 0.9976\n",
            "Epoch 56/200\n",
            "50/50 [==============================] - 48s 966ms/step - loss: 0.0018 - accuracy: 0.9987 - val_loss: 0.0355 - val_accuracy: 0.9976\n",
            "Epoch 57/200\n",
            "50/50 [==============================] - 49s 971ms/step - loss: 4.8563e-04 - accuracy: 1.0000 - val_loss: 0.0370 - val_accuracy: 0.9976\n",
            "Epoch 58/200\n",
            "50/50 [==============================] - 48s 965ms/step - loss: 0.0014 - accuracy: 0.9994 - val_loss: 0.0343 - val_accuracy: 0.9976\n",
            "Epoch 59/200\n",
            "50/50 [==============================] - 48s 965ms/step - loss: 0.0016 - accuracy: 0.9994 - val_loss: 0.0320 - val_accuracy: 0.9976\n",
            "Epoch 60/200\n",
            "50/50 [==============================] - 48s 965ms/step - loss: 1.3260e-04 - accuracy: 1.0000 - val_loss: 0.0322 - val_accuracy: 0.9976\n",
            "Epoch 61/200\n",
            "50/50 [==============================] - 48s 967ms/step - loss: 0.0011 - accuracy: 0.9994 - val_loss: 0.0365 - val_accuracy: 0.9976\n",
            "Epoch 62/200\n",
            "50/50 [==============================] - 48s 964ms/step - loss: 6.8464e-05 - accuracy: 1.0000 - val_loss: 0.0360 - val_accuracy: 0.9976\n",
            "Epoch 63/200\n",
            "50/50 [==============================] - 48s 964ms/step - loss: 1.4912e-04 - accuracy: 1.0000 - val_loss: 0.0362 - val_accuracy: 0.9976\n",
            "Epoch 64/200\n",
            "50/50 [==============================] - 48s 965ms/step - loss: 9.2696e-04 - accuracy: 0.9994 - val_loss: 0.0318 - val_accuracy: 0.9976\n",
            "Epoch 65/200\n",
            "50/50 [==============================] - 48s 966ms/step - loss: 0.0012 - accuracy: 0.9994 - val_loss: 0.0315 - val_accuracy: 0.9976\n",
            "Epoch 66/200\n",
            "50/50 [==============================] - 48s 965ms/step - loss: 2.7959e-04 - accuracy: 1.0000 - val_loss: 0.0335 - val_accuracy: 0.9976\n",
            "Epoch 67/200\n",
            "50/50 [==============================] - 48s 965ms/step - loss: 7.3725e-04 - accuracy: 0.9994 - val_loss: 0.0348 - val_accuracy: 0.9976\n",
            "Epoch 68/200\n",
            "50/50 [==============================] - 48s 966ms/step - loss: 2.1604e-04 - accuracy: 1.0000 - val_loss: 0.0330 - val_accuracy: 0.9976\n",
            "Epoch 69/200\n",
            "50/50 [==============================] - 48s 967ms/step - loss: 1.0617e-04 - accuracy: 1.0000 - val_loss: 0.0334 - val_accuracy: 0.9976\n",
            "Epoch 70/200\n",
            "50/50 [==============================] - 48s 965ms/step - loss: 1.6465e-04 - accuracy: 1.0000 - val_loss: 0.0345 - val_accuracy: 0.9976\n",
            "Epoch 71/200\n",
            "50/50 [==============================] - 48s 969ms/step - loss: 1.2668e-04 - accuracy: 1.0000 - val_loss: 0.0368 - val_accuracy: 0.9976\n",
            "Epoch 72/200\n",
            "50/50 [==============================] - 48s 968ms/step - loss: 6.7391e-04 - accuracy: 1.0000 - val_loss: 0.0369 - val_accuracy: 0.9976\n",
            "Epoch 73/200\n",
            "50/50 [==============================] - 48s 969ms/step - loss: 5.9675e-04 - accuracy: 0.9994 - val_loss: 0.0369 - val_accuracy: 0.9976\n",
            "Epoch 74/200\n",
            "50/50 [==============================] - 48s 966ms/step - loss: 2.9777e-05 - accuracy: 1.0000 - val_loss: 0.0378 - val_accuracy: 0.9976\n",
            "Epoch 75/200\n",
            "50/50 [==============================] - 48s 968ms/step - loss: 2.1721e-05 - accuracy: 1.0000 - val_loss: 0.0382 - val_accuracy: 0.9976\n",
            "Epoch 76/200\n",
            "50/50 [==============================] - 49s 973ms/step - loss: 5.0014e-04 - accuracy: 0.9994 - val_loss: 0.0393 - val_accuracy: 0.9976\n",
            "Epoch 77/200\n",
            "50/50 [==============================] - 48s 970ms/step - loss: 3.3305e-05 - accuracy: 1.0000 - val_loss: 0.0399 - val_accuracy: 0.9976\n",
            "Epoch 78/200\n",
            "50/50 [==============================] - 48s 967ms/step - loss: 5.0067e-05 - accuracy: 1.0000 - val_loss: 0.0401 - val_accuracy: 0.9976\n",
            "Epoch 79/200\n",
            "50/50 [==============================] - 48s 965ms/step - loss: 4.3672e-04 - accuracy: 1.0000 - val_loss: 0.0383 - val_accuracy: 0.9976\n",
            "Epoch 80/200\n",
            "50/50 [==============================] - 48s 967ms/step - loss: 1.1195e-04 - accuracy: 1.0000 - val_loss: 0.0395 - val_accuracy: 0.9976\n",
            "Epoch 81/200\n",
            "50/50 [==============================] - 48s 966ms/step - loss: 4.2659e-04 - accuracy: 1.0000 - val_loss: 0.0479 - val_accuracy: 0.9976\n",
            "Epoch 82/200\n",
            "50/50 [==============================] - 48s 966ms/step - loss: 0.0016 - accuracy: 0.9994 - val_loss: 0.0485 - val_accuracy: 0.9976\n",
            "Epoch 83/200\n",
            "50/50 [==============================] - 48s 967ms/step - loss: 3.0958e-05 - accuracy: 1.0000 - val_loss: 0.0474 - val_accuracy: 0.9976\n",
            "Epoch 84/200\n",
            "50/50 [==============================] - 49s 970ms/step - loss: 3.3869e-04 - accuracy: 1.0000 - val_loss: 0.0438 - val_accuracy: 0.9976\n",
            "Epoch 85/200\n",
            "50/50 [==============================] - 48s 970ms/step - loss: 1.0694e-04 - accuracy: 1.0000 - val_loss: 0.0408 - val_accuracy: 0.9976\n",
            "Epoch 86/200\n",
            "50/50 [==============================] - 48s 964ms/step - loss: 3.0957e-05 - accuracy: 1.0000 - val_loss: 0.0406 - val_accuracy: 0.9976\n",
            "Epoch 87/200\n",
            "50/50 [==============================] - 48s 964ms/step - loss: 3.4654e-05 - accuracy: 1.0000 - val_loss: 0.0412 - val_accuracy: 0.9976\n",
            "Epoch 88/200\n",
            "50/50 [==============================] - 48s 967ms/step - loss: 0.0046 - accuracy: 0.9994 - val_loss: 0.0310 - val_accuracy: 0.9976\n",
            "Epoch 89/200\n",
            "50/50 [==============================] - 48s 967ms/step - loss: 0.0094 - accuracy: 0.9981 - val_loss: 0.1804 - val_accuracy: 0.9659\n",
            "Epoch 90/200\n",
            "50/50 [==============================] - 48s 966ms/step - loss: 6.6452e-04 - accuracy: 1.0000 - val_loss: 0.0080 - val_accuracy: 0.9951\n",
            "Epoch 91/200\n",
            "50/50 [==============================] - 48s 965ms/step - loss: 0.0047 - accuracy: 0.9994 - val_loss: 0.0275 - val_accuracy: 0.9976\n",
            "Epoch 92/200\n",
            "50/50 [==============================] - 48s 965ms/step - loss: 2.0363e-04 - accuracy: 1.0000 - val_loss: 0.0282 - val_accuracy: 0.9976\n",
            "Epoch 93/200\n",
            "50/50 [==============================] - 48s 968ms/step - loss: 2.1654e-05 - accuracy: 1.0000 - val_loss: 0.0298 - val_accuracy: 0.9976\n",
            "Epoch 94/200\n",
            "50/50 [==============================] - 48s 965ms/step - loss: 0.1618 - accuracy: 0.9762 - val_loss: 106.2565 - val_accuracy: 0.1293\n",
            "Epoch 95/200\n",
            "50/50 [==============================] - 48s 961ms/step - loss: 0.1488 - accuracy: 0.9669 - val_loss: 9.6761 - val_accuracy: 0.3634\n",
            "Epoch 96/200\n",
            "50/50 [==============================] - 48s 964ms/step - loss: 0.1909 - accuracy: 0.9706 - val_loss: 3.3204 - val_accuracy: 0.5390\n",
            "Epoch 97/200\n",
            "50/50 [==============================] - 48s 966ms/step - loss: 0.2616 - accuracy: 0.9650 - val_loss: 3.4007 - val_accuracy: 0.4024\n",
            "Epoch 98/200\n",
            "50/50 [==============================] - 48s 964ms/step - loss: 0.1128 - accuracy: 0.9775 - val_loss: 1.5101 - val_accuracy: 0.5707\n",
            "Epoch 99/200\n",
            "50/50 [==============================] - 48s 964ms/step - loss: 0.0326 - accuracy: 0.9912 - val_loss: 0.7045 - val_accuracy: 0.8073\n",
            "Epoch 100/200\n",
            "50/50 [==============================] - ETA: 0s - loss: 0.0336 - accuracy: 0.9956\n",
            "Epoch 00100: saving model to training_2/cp-0100.ckpt\n",
            "50/50 [==============================] - 54s 1s/step - loss: 0.0336 - accuracy: 0.9956 - val_loss: 0.7633 - val_accuracy: 0.8366\n",
            "Epoch 101/200\n",
            "50/50 [==============================] - 48s 969ms/step - loss: 0.0095 - accuracy: 0.9975 - val_loss: 0.1568 - val_accuracy: 0.9732\n",
            "Epoch 102/200\n",
            "50/50 [==============================] - 48s 965ms/step - loss: 0.0030 - accuracy: 0.9987 - val_loss: 0.0337 - val_accuracy: 0.9878\n",
            "Epoch 103/200\n",
            "50/50 [==============================] - 49s 974ms/step - loss: 0.0067 - accuracy: 0.9969 - val_loss: 0.0721 - val_accuracy: 0.9805\n",
            "Epoch 104/200\n",
            "50/50 [==============================] - 48s 968ms/step - loss: 0.0051 - accuracy: 0.9987 - val_loss: 0.0168 - val_accuracy: 0.9976\n",
            "Epoch 105/200\n",
            "50/50 [==============================] - 48s 968ms/step - loss: 0.0010 - accuracy: 0.9994 - val_loss: 0.0155 - val_accuracy: 0.9927\n",
            "Epoch 106/200\n",
            "50/50 [==============================] - 48s 967ms/step - loss: 0.0105 - accuracy: 0.9969 - val_loss: 0.0392 - val_accuracy: 0.9829\n",
            "Epoch 107/200\n",
            "50/50 [==============================] - 48s 966ms/step - loss: 0.0037 - accuracy: 0.9987 - val_loss: 0.0064 - val_accuracy: 0.9976\n",
            "Epoch 108/200\n",
            "50/50 [==============================] - 48s 968ms/step - loss: 0.0052 - accuracy: 0.9994 - val_loss: 0.0495 - val_accuracy: 0.9854\n",
            "Epoch 109/200\n",
            "50/50 [==============================] - 48s 969ms/step - loss: 0.0091 - accuracy: 0.9969 - val_loss: 0.0341 - val_accuracy: 0.9976\n",
            "Epoch 110/200\n",
            "50/50 [==============================] - 48s 966ms/step - loss: 0.0016 - accuracy: 0.9994 - val_loss: 0.0507 - val_accuracy: 0.9976\n",
            "Epoch 111/200\n",
            "50/50 [==============================] - 48s 966ms/step - loss: 3.7302e-04 - accuracy: 1.0000 - val_loss: 0.0471 - val_accuracy: 0.9976\n",
            "Epoch 112/200\n",
            "50/50 [==============================] - 48s 968ms/step - loss: 0.0235 - accuracy: 0.9975 - val_loss: 0.1566 - val_accuracy: 0.9659\n",
            "Epoch 113/200\n",
            "50/50 [==============================] - 48s 970ms/step - loss: 0.0132 - accuracy: 0.9987 - val_loss: 0.0919 - val_accuracy: 0.9756\n",
            "Epoch 114/200\n",
            "50/50 [==============================] - 48s 963ms/step - loss: 5.1320e-04 - accuracy: 1.0000 - val_loss: 0.0696 - val_accuracy: 0.9854\n",
            "Epoch 115/200\n",
            "50/50 [==============================] - 48s 964ms/step - loss: 3.9606e-04 - accuracy: 1.0000 - val_loss: 0.0620 - val_accuracy: 0.9902\n",
            "Epoch 116/200\n",
            "50/50 [==============================] - 48s 966ms/step - loss: 1.1866e-04 - accuracy: 1.0000 - val_loss: 0.0510 - val_accuracy: 0.9951\n",
            "Epoch 117/200\n",
            "50/50 [==============================] - 48s 969ms/step - loss: 4.0967e-04 - accuracy: 1.0000 - val_loss: 0.0498 - val_accuracy: 0.9951\n",
            "Epoch 118/200\n",
            "50/50 [==============================] - 48s 963ms/step - loss: 0.0019 - accuracy: 0.9987 - val_loss: 0.0054 - val_accuracy: 0.9976\n",
            "Epoch 119/200\n",
            "50/50 [==============================] - 48s 966ms/step - loss: 9.8090e-05 - accuracy: 1.0000 - val_loss: 0.0045 - val_accuracy: 0.9951\n",
            "Epoch 120/200\n",
            "50/50 [==============================] - 48s 967ms/step - loss: 8.2423e-05 - accuracy: 1.0000 - val_loss: 0.0037 - val_accuracy: 0.9976\n",
            "Epoch 121/200\n",
            "50/50 [==============================] - 48s 965ms/step - loss: 5.0195e-05 - accuracy: 1.0000 - val_loss: 0.0034 - val_accuracy: 0.9976\n",
            "Epoch 122/200\n",
            "50/50 [==============================] - 49s 971ms/step - loss: 1.5809e-04 - accuracy: 1.0000 - val_loss: 0.0040 - val_accuracy: 0.9976\n",
            "Epoch 123/200\n",
            "50/50 [==============================] - 48s 966ms/step - loss: 2.0226e-04 - accuracy: 1.0000 - val_loss: 0.0035 - val_accuracy: 0.9976\n",
            "Epoch 124/200\n",
            "50/50 [==============================] - 48s 966ms/step - loss: 1.6481e-04 - accuracy: 1.0000 - val_loss: 0.0028 - val_accuracy: 0.9976\n",
            "Epoch 125/200\n",
            "50/50 [==============================] - 48s 968ms/step - loss: 1.8005e-05 - accuracy: 1.0000 - val_loss: 0.0029 - val_accuracy: 0.9976\n",
            "Epoch 126/200\n",
            "50/50 [==============================] - 49s 972ms/step - loss: 1.3300e-04 - accuracy: 1.0000 - val_loss: 0.0028 - val_accuracy: 0.9976\n",
            "Epoch 127/200\n",
            "50/50 [==============================] - 48s 967ms/step - loss: 1.8989e-04 - accuracy: 1.0000 - val_loss: 0.0020 - val_accuracy: 1.0000\n",
            "Epoch 128/200\n",
            "50/50 [==============================] - 48s 966ms/step - loss: 0.0011 - accuracy: 0.9994 - val_loss: 0.0052 - val_accuracy: 0.9951\n",
            "Epoch 129/200\n",
            "50/50 [==============================] - 48s 966ms/step - loss: 6.2701e-04 - accuracy: 1.0000 - val_loss: 0.0030 - val_accuracy: 0.9976\n",
            "Epoch 130/200\n",
            "50/50 [==============================] - 48s 967ms/step - loss: 1.2752e-04 - accuracy: 1.0000 - val_loss: 0.0022 - val_accuracy: 1.0000\n",
            "Epoch 131/200\n",
            "50/50 [==============================] - 48s 964ms/step - loss: 4.5188e-05 - accuracy: 1.0000 - val_loss: 0.0016 - val_accuracy: 1.0000\n",
            "Epoch 132/200\n",
            "50/50 [==============================] - 48s 968ms/step - loss: 5.7130e-04 - accuracy: 1.0000 - val_loss: 0.0037 - val_accuracy: 0.9976\n",
            "Epoch 133/200\n",
            "50/50 [==============================] - 48s 968ms/step - loss: 1.1692e-04 - accuracy: 1.0000 - val_loss: 0.0023 - val_accuracy: 0.9976\n",
            "Epoch 134/200\n",
            "50/50 [==============================] - 48s 969ms/step - loss: 9.6972e-04 - accuracy: 0.9994 - val_loss: 0.0012 - val_accuracy: 1.0000\n",
            "Epoch 135/200\n",
            "50/50 [==============================] - 48s 969ms/step - loss: 2.0176e-04 - accuracy: 1.0000 - val_loss: 9.6749e-04 - val_accuracy: 1.0000\n",
            "Epoch 136/200\n",
            "50/50 [==============================] - 48s 970ms/step - loss: 5.4401e-06 - accuracy: 1.0000 - val_loss: 9.1364e-04 - val_accuracy: 1.0000\n",
            "Epoch 137/200\n",
            "50/50 [==============================] - 49s 972ms/step - loss: 0.0012 - accuracy: 0.9994 - val_loss: 0.0860 - val_accuracy: 0.9829\n",
            "Epoch 138/200\n",
            "50/50 [==============================] - 48s 964ms/step - loss: 0.0153 - accuracy: 0.9969 - val_loss: 1.4713 - val_accuracy: 0.8927\n",
            "Epoch 139/200\n",
            "50/50 [==============================] - 48s 965ms/step - loss: 9.0657e-04 - accuracy: 1.0000 - val_loss: 0.1581 - val_accuracy: 0.9805\n",
            "Epoch 140/200\n",
            "50/50 [==============================] - 48s 969ms/step - loss: 9.1443e-05 - accuracy: 1.0000 - val_loss: 0.0567 - val_accuracy: 0.9951\n",
            "Epoch 141/200\n",
            "50/50 [==============================] - 49s 970ms/step - loss: 0.0011 - accuracy: 1.0000 - val_loss: 0.0557 - val_accuracy: 0.9927\n",
            "Epoch 142/200\n",
            "50/50 [==============================] - 48s 967ms/step - loss: 1.7350e-05 - accuracy: 1.0000 - val_loss: 0.0422 - val_accuracy: 0.9951\n",
            "Epoch 143/200\n",
            "50/50 [==============================] - 48s 966ms/step - loss: 0.0033 - accuracy: 0.9987 - val_loss: 0.0815 - val_accuracy: 0.9780\n",
            "Epoch 144/200\n",
            "50/50 [==============================] - 48s 970ms/step - loss: 0.1034 - accuracy: 0.9844 - val_loss: 21.5254 - val_accuracy: 0.2366\n",
            "Epoch 145/200\n",
            "50/50 [==============================] - 49s 971ms/step - loss: 0.1450 - accuracy: 0.9675 - val_loss: 1.0736 - val_accuracy: 0.6780\n",
            "Epoch 146/200\n",
            "50/50 [==============================] - 48s 969ms/step - loss: 0.0335 - accuracy: 0.9944 - val_loss: 0.6072 - val_accuracy: 0.8780\n",
            "Epoch 147/200\n",
            "50/50 [==============================] - 48s 967ms/step - loss: 0.0212 - accuracy: 0.9956 - val_loss: 0.2020 - val_accuracy: 0.9561\n",
            "Epoch 148/200\n",
            "50/50 [==============================] - 48s 968ms/step - loss: 0.0628 - accuracy: 0.9925 - val_loss: 1.0980 - val_accuracy: 0.8098\n",
            "Epoch 149/200\n",
            "50/50 [==============================] - 49s 970ms/step - loss: 0.0621 - accuracy: 0.9875 - val_loss: 0.9268 - val_accuracy: 0.8049\n",
            "Epoch 150/200\n",
            "50/50 [==============================] - ETA: 0s - loss: 0.0382 - accuracy: 0.9931\n",
            "Epoch 00150: saving model to training_2/cp-0150.ckpt\n",
            "50/50 [==============================] - 59s 1s/step - loss: 0.0382 - accuracy: 0.9931 - val_loss: 1.4551 - val_accuracy: 0.8780\n",
            "Epoch 151/200\n",
            "48/50 [===========================>..] - ETA: 1s - loss: 0.0351 - accuracy: 0.9954"
          ],
          "name": "stdout"
        },
        {
          "output_type": "error",
          "ename": "KeyboardInterrupt",
          "evalue": "ignored",
          "traceback": [
            "\u001b[0;31m---------------------------------------------------------------------------\u001b[0m",
            "\u001b[0;31mKeyboardInterrupt\u001b[0m                         Traceback (most recent call last)",
            "\u001b[0;32m<ipython-input-11-b7afd5cbd0e3>\u001b[0m in \u001b[0;36m<module>\u001b[0;34m()\u001b[0m\n\u001b[1;32m      1\u001b[0m \u001b[0;31m#start to train the model\u001b[0m\u001b[0;34m\u001b[0m\u001b[0;34m\u001b[0m\u001b[0;34m\u001b[0m\u001b[0m\n\u001b[1;32m      2\u001b[0m \u001b[0mstart\u001b[0m \u001b[0;34m=\u001b[0m \u001b[0mtime\u001b[0m\u001b[0;34m.\u001b[0m\u001b[0mtime\u001b[0m\u001b[0;34m(\u001b[0m\u001b[0;34m)\u001b[0m\u001b[0;34m\u001b[0m\u001b[0;34m\u001b[0m\u001b[0m\n\u001b[0;32m----> 3\u001b[0;31m \u001b[0mhistory\u001b[0m \u001b[0;34m=\u001b[0m \u001b[0mmodel_resnet\u001b[0m\u001b[0;34m.\u001b[0m\u001b[0mfit_generator\u001b[0m\u001b[0;34m(\u001b[0m\u001b[0mgenerator\u001b[0m\u001b[0;34m=\u001b[0m\u001b[0mtrain_generator\u001b[0m\u001b[0;34m,\u001b[0m \u001b[0mepochs\u001b[0m\u001b[0;34m=\u001b[0m\u001b[0mepochs\u001b[0m\u001b[0;34m,\u001b[0m \u001b[0msteps_per_epoch\u001b[0m\u001b[0;34m=\u001b[0m\u001b[0mtrain_generator\u001b[0m\u001b[0;34m.\u001b[0m\u001b[0msamples\u001b[0m\u001b[0;34m//\u001b[0m\u001b[0mBATCH_SIZE\u001b[0m\u001b[0;34m,\u001b[0m \u001b[0mvalidation_data\u001b[0m\u001b[0;34m=\u001b[0m\u001b[0mvalid_generator\u001b[0m\u001b[0;34m,\u001b[0m\u001b[0mvalidation_steps\u001b[0m\u001b[0;34m=\u001b[0m\u001b[0mvalid_generator\u001b[0m\u001b[0;34m.\u001b[0m\u001b[0msamples\u001b[0m\u001b[0;34m,\u001b[0m\u001b[0mcallbacks\u001b[0m\u001b[0;34m=\u001b[0m\u001b[0;34m[\u001b[0m\u001b[0mcp_callback\u001b[0m\u001b[0;34m]\u001b[0m\u001b[0;34m,\u001b[0m\u001b[0mverbose\u001b[0m\u001b[0;34m=\u001b[0m\u001b[0;36m1\u001b[0m\u001b[0;34m)\u001b[0m\u001b[0;34m\u001b[0m\u001b[0;34m\u001b[0m\u001b[0m\n\u001b[0m\u001b[1;32m      4\u001b[0m \u001b[0;34m\u001b[0m\u001b[0m\n\u001b[1;32m      5\u001b[0m \u001b[0mend\u001b[0m \u001b[0;34m=\u001b[0m \u001b[0mtime\u001b[0m\u001b[0;34m.\u001b[0m\u001b[0mtime\u001b[0m\u001b[0;34m(\u001b[0m\u001b[0;34m)\u001b[0m\u001b[0;34m\u001b[0m\u001b[0;34m\u001b[0m\u001b[0m\n",
            "\u001b[0;32m/usr/local/lib/python3.6/dist-packages/tensorflow/python/util/deprecation.py\u001b[0m in \u001b[0;36mnew_func\u001b[0;34m(*args, **kwargs)\u001b[0m\n\u001b[1;32m    322\u001b[0m               \u001b[0;34m'in a future version'\u001b[0m \u001b[0;32mif\u001b[0m \u001b[0mdate\u001b[0m \u001b[0;32mis\u001b[0m \u001b[0;32mNone\u001b[0m \u001b[0;32melse\u001b[0m \u001b[0;34m(\u001b[0m\u001b[0;34m'after %s'\u001b[0m \u001b[0;34m%\u001b[0m \u001b[0mdate\u001b[0m\u001b[0;34m)\u001b[0m\u001b[0;34m,\u001b[0m\u001b[0;34m\u001b[0m\u001b[0;34m\u001b[0m\u001b[0m\n\u001b[1;32m    323\u001b[0m               instructions)\n\u001b[0;32m--> 324\u001b[0;31m       \u001b[0;32mreturn\u001b[0m \u001b[0mfunc\u001b[0m\u001b[0;34m(\u001b[0m\u001b[0;34m*\u001b[0m\u001b[0margs\u001b[0m\u001b[0;34m,\u001b[0m \u001b[0;34m**\u001b[0m\u001b[0mkwargs\u001b[0m\u001b[0;34m)\u001b[0m\u001b[0;34m\u001b[0m\u001b[0;34m\u001b[0m\u001b[0m\n\u001b[0m\u001b[1;32m    325\u001b[0m     return tf_decorator.make_decorator(\n\u001b[1;32m    326\u001b[0m         \u001b[0mfunc\u001b[0m\u001b[0;34m,\u001b[0m \u001b[0mnew_func\u001b[0m\u001b[0;34m,\u001b[0m \u001b[0;34m'deprecated'\u001b[0m\u001b[0;34m,\u001b[0m\u001b[0;34m\u001b[0m\u001b[0;34m\u001b[0m\u001b[0m\n",
            "\u001b[0;32m/usr/local/lib/python3.6/dist-packages/tensorflow/python/keras/engine/training.py\u001b[0m in \u001b[0;36mfit_generator\u001b[0;34m(self, generator, steps_per_epoch, epochs, verbose, callbacks, validation_data, validation_steps, validation_freq, class_weight, max_queue_size, workers, use_multiprocessing, shuffle, initial_epoch)\u001b[0m\n\u001b[1;32m   1827\u001b[0m         \u001b[0muse_multiprocessing\u001b[0m\u001b[0;34m=\u001b[0m\u001b[0muse_multiprocessing\u001b[0m\u001b[0;34m,\u001b[0m\u001b[0;34m\u001b[0m\u001b[0;34m\u001b[0m\u001b[0m\n\u001b[1;32m   1828\u001b[0m         \u001b[0mshuffle\u001b[0m\u001b[0;34m=\u001b[0m\u001b[0mshuffle\u001b[0m\u001b[0;34m,\u001b[0m\u001b[0;34m\u001b[0m\u001b[0;34m\u001b[0m\u001b[0m\n\u001b[0;32m-> 1829\u001b[0;31m         initial_epoch=initial_epoch)\n\u001b[0m\u001b[1;32m   1830\u001b[0m \u001b[0;34m\u001b[0m\u001b[0m\n\u001b[1;32m   1831\u001b[0m   @deprecation.deprecated(\n",
            "\u001b[0;32m/usr/local/lib/python3.6/dist-packages/tensorflow/python/keras/engine/training.py\u001b[0m in \u001b[0;36m_method_wrapper\u001b[0;34m(self, *args, **kwargs)\u001b[0m\n\u001b[1;32m    106\u001b[0m   \u001b[0;32mdef\u001b[0m \u001b[0m_method_wrapper\u001b[0m\u001b[0;34m(\u001b[0m\u001b[0mself\u001b[0m\u001b[0;34m,\u001b[0m \u001b[0;34m*\u001b[0m\u001b[0margs\u001b[0m\u001b[0;34m,\u001b[0m \u001b[0;34m**\u001b[0m\u001b[0mkwargs\u001b[0m\u001b[0;34m)\u001b[0m\u001b[0;34m:\u001b[0m\u001b[0;34m\u001b[0m\u001b[0;34m\u001b[0m\u001b[0m\n\u001b[1;32m    107\u001b[0m     \u001b[0;32mif\u001b[0m \u001b[0;32mnot\u001b[0m \u001b[0mself\u001b[0m\u001b[0;34m.\u001b[0m\u001b[0m_in_multi_worker_mode\u001b[0m\u001b[0;34m(\u001b[0m\u001b[0;34m)\u001b[0m\u001b[0;34m:\u001b[0m  \u001b[0;31m# pylint: disable=protected-access\u001b[0m\u001b[0;34m\u001b[0m\u001b[0;34m\u001b[0m\u001b[0m\n\u001b[0;32m--> 108\u001b[0;31m       \u001b[0;32mreturn\u001b[0m \u001b[0mmethod\u001b[0m\u001b[0;34m(\u001b[0m\u001b[0mself\u001b[0m\u001b[0;34m,\u001b[0m \u001b[0;34m*\u001b[0m\u001b[0margs\u001b[0m\u001b[0;34m,\u001b[0m \u001b[0;34m**\u001b[0m\u001b[0mkwargs\u001b[0m\u001b[0;34m)\u001b[0m\u001b[0;34m\u001b[0m\u001b[0;34m\u001b[0m\u001b[0m\n\u001b[0m\u001b[1;32m    109\u001b[0m \u001b[0;34m\u001b[0m\u001b[0m\n\u001b[1;32m    110\u001b[0m     \u001b[0;31m# Running inside `run_distribute_coordinator` already.\u001b[0m\u001b[0;34m\u001b[0m\u001b[0;34m\u001b[0m\u001b[0;34m\u001b[0m\u001b[0m\n",
            "\u001b[0;32m/usr/local/lib/python3.6/dist-packages/tensorflow/python/keras/engine/training.py\u001b[0m in \u001b[0;36mfit\u001b[0;34m(self, x, y, batch_size, epochs, verbose, callbacks, validation_split, validation_data, shuffle, class_weight, sample_weight, initial_epoch, steps_per_epoch, validation_steps, validation_batch_size, validation_freq, max_queue_size, workers, use_multiprocessing)\u001b[0m\n\u001b[1;32m   1101\u001b[0m               \u001b[0mlogs\u001b[0m \u001b[0;34m=\u001b[0m \u001b[0mtmp_logs\u001b[0m  \u001b[0;31m# No error, now safe to assign to logs.\u001b[0m\u001b[0;34m\u001b[0m\u001b[0;34m\u001b[0m\u001b[0m\n\u001b[1;32m   1102\u001b[0m               \u001b[0mend_step\u001b[0m \u001b[0;34m=\u001b[0m \u001b[0mstep\u001b[0m \u001b[0;34m+\u001b[0m \u001b[0mdata_handler\u001b[0m\u001b[0;34m.\u001b[0m\u001b[0mstep_increment\u001b[0m\u001b[0;34m\u001b[0m\u001b[0;34m\u001b[0m\u001b[0m\n\u001b[0;32m-> 1103\u001b[0;31m               \u001b[0mcallbacks\u001b[0m\u001b[0;34m.\u001b[0m\u001b[0mon_train_batch_end\u001b[0m\u001b[0;34m(\u001b[0m\u001b[0mend_step\u001b[0m\u001b[0;34m,\u001b[0m \u001b[0mlogs\u001b[0m\u001b[0;34m)\u001b[0m\u001b[0;34m\u001b[0m\u001b[0;34m\u001b[0m\u001b[0m\n\u001b[0m\u001b[1;32m   1104\u001b[0m         \u001b[0mepoch_logs\u001b[0m \u001b[0;34m=\u001b[0m \u001b[0mcopy\u001b[0m\u001b[0;34m.\u001b[0m\u001b[0mcopy\u001b[0m\u001b[0;34m(\u001b[0m\u001b[0mlogs\u001b[0m\u001b[0;34m)\u001b[0m\u001b[0;34m\u001b[0m\u001b[0;34m\u001b[0m\u001b[0m\n\u001b[1;32m   1105\u001b[0m \u001b[0;34m\u001b[0m\u001b[0m\n",
            "\u001b[0;32m/usr/local/lib/python3.6/dist-packages/tensorflow/python/keras/callbacks.py\u001b[0m in \u001b[0;36mon_train_batch_end\u001b[0;34m(self, batch, logs)\u001b[0m\n\u001b[1;32m    438\u001b[0m     \"\"\"\n\u001b[1;32m    439\u001b[0m     \u001b[0;32mif\u001b[0m \u001b[0mself\u001b[0m\u001b[0;34m.\u001b[0m\u001b[0m_should_call_train_batch_hooks\u001b[0m\u001b[0;34m:\u001b[0m\u001b[0;34m\u001b[0m\u001b[0;34m\u001b[0m\u001b[0m\n\u001b[0;32m--> 440\u001b[0;31m       \u001b[0mself\u001b[0m\u001b[0;34m.\u001b[0m\u001b[0m_call_batch_hook\u001b[0m\u001b[0;34m(\u001b[0m\u001b[0mModeKeys\u001b[0m\u001b[0;34m.\u001b[0m\u001b[0mTRAIN\u001b[0m\u001b[0;34m,\u001b[0m \u001b[0;34m'end'\u001b[0m\u001b[0;34m,\u001b[0m \u001b[0mbatch\u001b[0m\u001b[0;34m,\u001b[0m \u001b[0mlogs\u001b[0m\u001b[0;34m=\u001b[0m\u001b[0mlogs\u001b[0m\u001b[0;34m)\u001b[0m\u001b[0;34m\u001b[0m\u001b[0;34m\u001b[0m\u001b[0m\n\u001b[0m\u001b[1;32m    441\u001b[0m \u001b[0;34m\u001b[0m\u001b[0m\n\u001b[1;32m    442\u001b[0m   \u001b[0;32mdef\u001b[0m \u001b[0mon_test_batch_begin\u001b[0m\u001b[0;34m(\u001b[0m\u001b[0mself\u001b[0m\u001b[0;34m,\u001b[0m \u001b[0mbatch\u001b[0m\u001b[0;34m,\u001b[0m \u001b[0mlogs\u001b[0m\u001b[0;34m=\u001b[0m\u001b[0;32mNone\u001b[0m\u001b[0;34m)\u001b[0m\u001b[0;34m:\u001b[0m\u001b[0;34m\u001b[0m\u001b[0;34m\u001b[0m\u001b[0m\n",
            "\u001b[0;32m/usr/local/lib/python3.6/dist-packages/tensorflow/python/keras/callbacks.py\u001b[0m in \u001b[0;36m_call_batch_hook\u001b[0;34m(self, mode, hook, batch, logs)\u001b[0m\n\u001b[1;32m    287\u001b[0m       \u001b[0mself\u001b[0m\u001b[0;34m.\u001b[0m\u001b[0m_call_batch_begin_hook\u001b[0m\u001b[0;34m(\u001b[0m\u001b[0mmode\u001b[0m\u001b[0;34m,\u001b[0m \u001b[0mbatch\u001b[0m\u001b[0;34m,\u001b[0m \u001b[0mlogs\u001b[0m\u001b[0;34m)\u001b[0m\u001b[0;34m\u001b[0m\u001b[0;34m\u001b[0m\u001b[0m\n\u001b[1;32m    288\u001b[0m     \u001b[0;32melif\u001b[0m \u001b[0mhook\u001b[0m \u001b[0;34m==\u001b[0m \u001b[0;34m'end'\u001b[0m\u001b[0;34m:\u001b[0m\u001b[0;34m\u001b[0m\u001b[0;34m\u001b[0m\u001b[0m\n\u001b[0;32m--> 289\u001b[0;31m       \u001b[0mself\u001b[0m\u001b[0;34m.\u001b[0m\u001b[0m_call_batch_end_hook\u001b[0m\u001b[0;34m(\u001b[0m\u001b[0mmode\u001b[0m\u001b[0;34m,\u001b[0m \u001b[0mbatch\u001b[0m\u001b[0;34m,\u001b[0m \u001b[0mlogs\u001b[0m\u001b[0;34m)\u001b[0m\u001b[0;34m\u001b[0m\u001b[0;34m\u001b[0m\u001b[0m\n\u001b[0m\u001b[1;32m    290\u001b[0m     \u001b[0;32melse\u001b[0m\u001b[0;34m:\u001b[0m\u001b[0;34m\u001b[0m\u001b[0;34m\u001b[0m\u001b[0m\n\u001b[1;32m    291\u001b[0m       \u001b[0;32mraise\u001b[0m \u001b[0mValueError\u001b[0m\u001b[0;34m(\u001b[0m\u001b[0;34m'Unrecognized hook: {}'\u001b[0m\u001b[0;34m.\u001b[0m\u001b[0mformat\u001b[0m\u001b[0;34m(\u001b[0m\u001b[0mhook\u001b[0m\u001b[0;34m)\u001b[0m\u001b[0;34m)\u001b[0m\u001b[0;34m\u001b[0m\u001b[0;34m\u001b[0m\u001b[0m\n",
            "\u001b[0;32m/usr/local/lib/python3.6/dist-packages/tensorflow/python/keras/callbacks.py\u001b[0m in \u001b[0;36m_call_batch_end_hook\u001b[0;34m(self, mode, batch, logs)\u001b[0m\n\u001b[1;32m    307\u001b[0m       \u001b[0mbatch_time\u001b[0m \u001b[0;34m=\u001b[0m \u001b[0mtime\u001b[0m\u001b[0;34m.\u001b[0m\u001b[0mtime\u001b[0m\u001b[0;34m(\u001b[0m\u001b[0;34m)\u001b[0m \u001b[0;34m-\u001b[0m \u001b[0mself\u001b[0m\u001b[0;34m.\u001b[0m\u001b[0m_batch_start_time\u001b[0m\u001b[0;34m\u001b[0m\u001b[0;34m\u001b[0m\u001b[0m\n\u001b[1;32m    308\u001b[0m \u001b[0;34m\u001b[0m\u001b[0m\n\u001b[0;32m--> 309\u001b[0;31m     \u001b[0mself\u001b[0m\u001b[0;34m.\u001b[0m\u001b[0m_call_batch_hook_helper\u001b[0m\u001b[0;34m(\u001b[0m\u001b[0mhook_name\u001b[0m\u001b[0;34m,\u001b[0m \u001b[0mbatch\u001b[0m\u001b[0;34m,\u001b[0m \u001b[0mlogs\u001b[0m\u001b[0;34m)\u001b[0m\u001b[0;34m\u001b[0m\u001b[0;34m\u001b[0m\u001b[0m\n\u001b[0m\u001b[1;32m    310\u001b[0m \u001b[0;34m\u001b[0m\u001b[0m\n\u001b[1;32m    311\u001b[0m     \u001b[0;32mif\u001b[0m \u001b[0mself\u001b[0m\u001b[0;34m.\u001b[0m\u001b[0m_check_timing\u001b[0m\u001b[0;34m:\u001b[0m\u001b[0;34m\u001b[0m\u001b[0;34m\u001b[0m\u001b[0m\n",
            "\u001b[0;32m/usr/local/lib/python3.6/dist-packages/tensorflow/python/keras/callbacks.py\u001b[0m in \u001b[0;36m_call_batch_hook_helper\u001b[0;34m(self, hook_name, batch, logs)\u001b[0m\n\u001b[1;32m    340\u001b[0m       \u001b[0mhook\u001b[0m \u001b[0;34m=\u001b[0m \u001b[0mgetattr\u001b[0m\u001b[0;34m(\u001b[0m\u001b[0mcallback\u001b[0m\u001b[0;34m,\u001b[0m \u001b[0mhook_name\u001b[0m\u001b[0;34m)\u001b[0m\u001b[0;34m\u001b[0m\u001b[0;34m\u001b[0m\u001b[0m\n\u001b[1;32m    341\u001b[0m       \u001b[0;32mif\u001b[0m \u001b[0mgetattr\u001b[0m\u001b[0;34m(\u001b[0m\u001b[0mcallback\u001b[0m\u001b[0;34m,\u001b[0m \u001b[0;34m'_supports_tf_logs'\u001b[0m\u001b[0;34m,\u001b[0m \u001b[0;32mFalse\u001b[0m\u001b[0;34m)\u001b[0m\u001b[0;34m:\u001b[0m\u001b[0;34m\u001b[0m\u001b[0;34m\u001b[0m\u001b[0m\n\u001b[0;32m--> 342\u001b[0;31m         \u001b[0mhook\u001b[0m\u001b[0;34m(\u001b[0m\u001b[0mbatch\u001b[0m\u001b[0;34m,\u001b[0m \u001b[0mlogs\u001b[0m\u001b[0;34m)\u001b[0m\u001b[0;34m\u001b[0m\u001b[0;34m\u001b[0m\u001b[0m\n\u001b[0m\u001b[1;32m    343\u001b[0m       \u001b[0;32melse\u001b[0m\u001b[0;34m:\u001b[0m\u001b[0;34m\u001b[0m\u001b[0;34m\u001b[0m\u001b[0m\n\u001b[1;32m    344\u001b[0m         \u001b[0;32mif\u001b[0m \u001b[0mnumpy_logs\u001b[0m \u001b[0;32mis\u001b[0m \u001b[0;32mNone\u001b[0m\u001b[0;34m:\u001b[0m  \u001b[0;31m# Only convert once.\u001b[0m\u001b[0;34m\u001b[0m\u001b[0;34m\u001b[0m\u001b[0m\n",
            "\u001b[0;32m/usr/local/lib/python3.6/dist-packages/tensorflow/python/keras/callbacks.py\u001b[0m in \u001b[0;36mon_train_batch_end\u001b[0;34m(self, batch, logs)\u001b[0m\n\u001b[1;32m    959\u001b[0m \u001b[0;34m\u001b[0m\u001b[0m\n\u001b[1;32m    960\u001b[0m   \u001b[0;32mdef\u001b[0m \u001b[0mon_train_batch_end\u001b[0m\u001b[0;34m(\u001b[0m\u001b[0mself\u001b[0m\u001b[0;34m,\u001b[0m \u001b[0mbatch\u001b[0m\u001b[0;34m,\u001b[0m \u001b[0mlogs\u001b[0m\u001b[0;34m=\u001b[0m\u001b[0;32mNone\u001b[0m\u001b[0;34m)\u001b[0m\u001b[0;34m:\u001b[0m\u001b[0;34m\u001b[0m\u001b[0;34m\u001b[0m\u001b[0m\n\u001b[0;32m--> 961\u001b[0;31m     \u001b[0mself\u001b[0m\u001b[0;34m.\u001b[0m\u001b[0m_batch_update_progbar\u001b[0m\u001b[0;34m(\u001b[0m\u001b[0mbatch\u001b[0m\u001b[0;34m,\u001b[0m \u001b[0mlogs\u001b[0m\u001b[0;34m)\u001b[0m\u001b[0;34m\u001b[0m\u001b[0;34m\u001b[0m\u001b[0m\n\u001b[0m\u001b[1;32m    962\u001b[0m \u001b[0;34m\u001b[0m\u001b[0m\n\u001b[1;32m    963\u001b[0m   \u001b[0;32mdef\u001b[0m \u001b[0mon_test_batch_end\u001b[0m\u001b[0;34m(\u001b[0m\u001b[0mself\u001b[0m\u001b[0;34m,\u001b[0m \u001b[0mbatch\u001b[0m\u001b[0;34m,\u001b[0m \u001b[0mlogs\u001b[0m\u001b[0;34m=\u001b[0m\u001b[0;32mNone\u001b[0m\u001b[0;34m)\u001b[0m\u001b[0;34m:\u001b[0m\u001b[0;34m\u001b[0m\u001b[0;34m\u001b[0m\u001b[0m\n",
            "\u001b[0;32m/usr/local/lib/python3.6/dist-packages/tensorflow/python/keras/callbacks.py\u001b[0m in \u001b[0;36m_batch_update_progbar\u001b[0;34m(self, batch, logs)\u001b[0m\n\u001b[1;32m   1014\u001b[0m     \u001b[0;32mif\u001b[0m \u001b[0mself\u001b[0m\u001b[0;34m.\u001b[0m\u001b[0mverbose\u001b[0m \u001b[0;34m==\u001b[0m \u001b[0;36m1\u001b[0m\u001b[0;34m:\u001b[0m\u001b[0;34m\u001b[0m\u001b[0;34m\u001b[0m\u001b[0m\n\u001b[1;32m   1015\u001b[0m       \u001b[0;31m# Only block async when verbose = 1.\u001b[0m\u001b[0;34m\u001b[0m\u001b[0;34m\u001b[0m\u001b[0;34m\u001b[0m\u001b[0m\n\u001b[0;32m-> 1016\u001b[0;31m       \u001b[0mlogs\u001b[0m \u001b[0;34m=\u001b[0m \u001b[0mtf_utils\u001b[0m\u001b[0;34m.\u001b[0m\u001b[0mto_numpy_or_python_type\u001b[0m\u001b[0;34m(\u001b[0m\u001b[0mlogs\u001b[0m\u001b[0;34m)\u001b[0m\u001b[0;34m\u001b[0m\u001b[0;34m\u001b[0m\u001b[0m\n\u001b[0m\u001b[1;32m   1017\u001b[0m       \u001b[0mself\u001b[0m\u001b[0;34m.\u001b[0m\u001b[0mprogbar\u001b[0m\u001b[0;34m.\u001b[0m\u001b[0mupdate\u001b[0m\u001b[0;34m(\u001b[0m\u001b[0mself\u001b[0m\u001b[0;34m.\u001b[0m\u001b[0mseen\u001b[0m\u001b[0;34m,\u001b[0m \u001b[0mlist\u001b[0m\u001b[0;34m(\u001b[0m\u001b[0mlogs\u001b[0m\u001b[0;34m.\u001b[0m\u001b[0mitems\u001b[0m\u001b[0;34m(\u001b[0m\u001b[0;34m)\u001b[0m\u001b[0;34m)\u001b[0m\u001b[0;34m,\u001b[0m \u001b[0mfinalize\u001b[0m\u001b[0;34m=\u001b[0m\u001b[0;32mFalse\u001b[0m\u001b[0;34m)\u001b[0m\u001b[0;34m\u001b[0m\u001b[0;34m\u001b[0m\u001b[0m\n\u001b[1;32m   1018\u001b[0m \u001b[0;34m\u001b[0m\u001b[0m\n",
            "\u001b[0;32m/usr/local/lib/python3.6/dist-packages/tensorflow/python/keras/utils/tf_utils.py\u001b[0m in \u001b[0;36mto_numpy_or_python_type\u001b[0;34m(tensors)\u001b[0m\n\u001b[1;32m    535\u001b[0m     \u001b[0;32mreturn\u001b[0m \u001b[0mt\u001b[0m  \u001b[0;31m# Don't turn ragged or sparse tensors to NumPy.\u001b[0m\u001b[0;34m\u001b[0m\u001b[0;34m\u001b[0m\u001b[0m\n\u001b[1;32m    536\u001b[0m \u001b[0;34m\u001b[0m\u001b[0m\n\u001b[0;32m--> 537\u001b[0;31m   \u001b[0;32mreturn\u001b[0m \u001b[0mnest\u001b[0m\u001b[0;34m.\u001b[0m\u001b[0mmap_structure\u001b[0m\u001b[0;34m(\u001b[0m\u001b[0m_to_single_numpy_or_python_type\u001b[0m\u001b[0;34m,\u001b[0m \u001b[0mtensors\u001b[0m\u001b[0;34m)\u001b[0m\u001b[0;34m\u001b[0m\u001b[0;34m\u001b[0m\u001b[0m\n\u001b[0m\u001b[1;32m    538\u001b[0m \u001b[0;34m\u001b[0m\u001b[0m\n\u001b[1;32m    539\u001b[0m \u001b[0;34m\u001b[0m\u001b[0m\n",
            "\u001b[0;32m/usr/local/lib/python3.6/dist-packages/tensorflow/python/util/nest.py\u001b[0m in \u001b[0;36mmap_structure\u001b[0;34m(func, *structure, **kwargs)\u001b[0m\n\u001b[1;32m    633\u001b[0m \u001b[0;34m\u001b[0m\u001b[0m\n\u001b[1;32m    634\u001b[0m   return pack_sequence_as(\n\u001b[0;32m--> 635\u001b[0;31m       \u001b[0mstructure\u001b[0m\u001b[0;34m[\u001b[0m\u001b[0;36m0\u001b[0m\u001b[0;34m]\u001b[0m\u001b[0;34m,\u001b[0m \u001b[0;34m[\u001b[0m\u001b[0mfunc\u001b[0m\u001b[0;34m(\u001b[0m\u001b[0;34m*\u001b[0m\u001b[0mx\u001b[0m\u001b[0;34m)\u001b[0m \u001b[0;32mfor\u001b[0m \u001b[0mx\u001b[0m \u001b[0;32min\u001b[0m \u001b[0mentries\u001b[0m\u001b[0;34m]\u001b[0m\u001b[0;34m,\u001b[0m\u001b[0;34m\u001b[0m\u001b[0;34m\u001b[0m\u001b[0m\n\u001b[0m\u001b[1;32m    636\u001b[0m       expand_composites=expand_composites)\n\u001b[1;32m    637\u001b[0m \u001b[0;34m\u001b[0m\u001b[0m\n",
            "\u001b[0;32m/usr/local/lib/python3.6/dist-packages/tensorflow/python/util/nest.py\u001b[0m in \u001b[0;36m<listcomp>\u001b[0;34m(.0)\u001b[0m\n\u001b[1;32m    633\u001b[0m \u001b[0;34m\u001b[0m\u001b[0m\n\u001b[1;32m    634\u001b[0m   return pack_sequence_as(\n\u001b[0;32m--> 635\u001b[0;31m       \u001b[0mstructure\u001b[0m\u001b[0;34m[\u001b[0m\u001b[0;36m0\u001b[0m\u001b[0;34m]\u001b[0m\u001b[0;34m,\u001b[0m \u001b[0;34m[\u001b[0m\u001b[0mfunc\u001b[0m\u001b[0;34m(\u001b[0m\u001b[0;34m*\u001b[0m\u001b[0mx\u001b[0m\u001b[0;34m)\u001b[0m \u001b[0;32mfor\u001b[0m \u001b[0mx\u001b[0m \u001b[0;32min\u001b[0m \u001b[0mentries\u001b[0m\u001b[0;34m]\u001b[0m\u001b[0;34m,\u001b[0m\u001b[0;34m\u001b[0m\u001b[0;34m\u001b[0m\u001b[0m\n\u001b[0m\u001b[1;32m    636\u001b[0m       expand_composites=expand_composites)\n\u001b[1;32m    637\u001b[0m \u001b[0;34m\u001b[0m\u001b[0m\n",
            "\u001b[0;32m/usr/local/lib/python3.6/dist-packages/tensorflow/python/keras/utils/tf_utils.py\u001b[0m in \u001b[0;36m_to_single_numpy_or_python_type\u001b[0;34m(t)\u001b[0m\n\u001b[1;32m    531\u001b[0m   \u001b[0;32mdef\u001b[0m \u001b[0m_to_single_numpy_or_python_type\u001b[0m\u001b[0;34m(\u001b[0m\u001b[0mt\u001b[0m\u001b[0;34m)\u001b[0m\u001b[0;34m:\u001b[0m\u001b[0;34m\u001b[0m\u001b[0;34m\u001b[0m\u001b[0m\n\u001b[1;32m    532\u001b[0m     \u001b[0;32mif\u001b[0m \u001b[0misinstance\u001b[0m\u001b[0;34m(\u001b[0m\u001b[0mt\u001b[0m\u001b[0;34m,\u001b[0m \u001b[0mops\u001b[0m\u001b[0;34m.\u001b[0m\u001b[0mTensor\u001b[0m\u001b[0;34m)\u001b[0m\u001b[0;34m:\u001b[0m\u001b[0;34m\u001b[0m\u001b[0;34m\u001b[0m\u001b[0m\n\u001b[0;32m--> 533\u001b[0;31m       \u001b[0mx\u001b[0m \u001b[0;34m=\u001b[0m \u001b[0mt\u001b[0m\u001b[0;34m.\u001b[0m\u001b[0mnumpy\u001b[0m\u001b[0;34m(\u001b[0m\u001b[0;34m)\u001b[0m\u001b[0;34m\u001b[0m\u001b[0;34m\u001b[0m\u001b[0m\n\u001b[0m\u001b[1;32m    534\u001b[0m       \u001b[0;32mreturn\u001b[0m \u001b[0mx\u001b[0m\u001b[0;34m.\u001b[0m\u001b[0mitem\u001b[0m\u001b[0;34m(\u001b[0m\u001b[0;34m)\u001b[0m \u001b[0;32mif\u001b[0m \u001b[0mnp\u001b[0m\u001b[0;34m.\u001b[0m\u001b[0mndim\u001b[0m\u001b[0;34m(\u001b[0m\u001b[0mx\u001b[0m\u001b[0;34m)\u001b[0m \u001b[0;34m==\u001b[0m \u001b[0;36m0\u001b[0m \u001b[0;32melse\u001b[0m \u001b[0mx\u001b[0m\u001b[0;34m\u001b[0m\u001b[0;34m\u001b[0m\u001b[0m\n\u001b[1;32m    535\u001b[0m     \u001b[0;32mreturn\u001b[0m \u001b[0mt\u001b[0m  \u001b[0;31m# Don't turn ragged or sparse tensors to NumPy.\u001b[0m\u001b[0;34m\u001b[0m\u001b[0;34m\u001b[0m\u001b[0m\n",
            "\u001b[0;32m/usr/local/lib/python3.6/dist-packages/tensorflow/python/framework/ops.py\u001b[0m in \u001b[0;36mnumpy\u001b[0;34m(self)\u001b[0m\n\u001b[1;32m   1061\u001b[0m     \"\"\"\n\u001b[1;32m   1062\u001b[0m     \u001b[0;31m# TODO(slebedev): Consider avoiding a copy for non-CPU or remote tensors.\u001b[0m\u001b[0;34m\u001b[0m\u001b[0;34m\u001b[0m\u001b[0;34m\u001b[0m\u001b[0m\n\u001b[0;32m-> 1063\u001b[0;31m     \u001b[0mmaybe_arr\u001b[0m \u001b[0;34m=\u001b[0m \u001b[0mself\u001b[0m\u001b[0;34m.\u001b[0m\u001b[0m_numpy\u001b[0m\u001b[0;34m(\u001b[0m\u001b[0;34m)\u001b[0m  \u001b[0;31m# pylint: disable=protected-access\u001b[0m\u001b[0;34m\u001b[0m\u001b[0;34m\u001b[0m\u001b[0m\n\u001b[0m\u001b[1;32m   1064\u001b[0m     \u001b[0;32mreturn\u001b[0m \u001b[0mmaybe_arr\u001b[0m\u001b[0;34m.\u001b[0m\u001b[0mcopy\u001b[0m\u001b[0;34m(\u001b[0m\u001b[0;34m)\u001b[0m \u001b[0;32mif\u001b[0m \u001b[0misinstance\u001b[0m\u001b[0;34m(\u001b[0m\u001b[0mmaybe_arr\u001b[0m\u001b[0;34m,\u001b[0m \u001b[0mnp\u001b[0m\u001b[0;34m.\u001b[0m\u001b[0mndarray\u001b[0m\u001b[0;34m)\u001b[0m \u001b[0;32melse\u001b[0m \u001b[0mmaybe_arr\u001b[0m\u001b[0;34m\u001b[0m\u001b[0;34m\u001b[0m\u001b[0m\n\u001b[1;32m   1065\u001b[0m \u001b[0;34m\u001b[0m\u001b[0m\n",
            "\u001b[0;32m/usr/local/lib/python3.6/dist-packages/tensorflow/python/framework/ops.py\u001b[0m in \u001b[0;36m_numpy\u001b[0;34m(self)\u001b[0m\n\u001b[1;32m   1027\u001b[0m   \u001b[0;32mdef\u001b[0m \u001b[0m_numpy\u001b[0m\u001b[0;34m(\u001b[0m\u001b[0mself\u001b[0m\u001b[0;34m)\u001b[0m\u001b[0;34m:\u001b[0m\u001b[0;34m\u001b[0m\u001b[0;34m\u001b[0m\u001b[0m\n\u001b[1;32m   1028\u001b[0m     \u001b[0;32mtry\u001b[0m\u001b[0;34m:\u001b[0m\u001b[0;34m\u001b[0m\u001b[0;34m\u001b[0m\u001b[0m\n\u001b[0;32m-> 1029\u001b[0;31m       \u001b[0;32mreturn\u001b[0m \u001b[0mself\u001b[0m\u001b[0;34m.\u001b[0m\u001b[0m_numpy_internal\u001b[0m\u001b[0;34m(\u001b[0m\u001b[0;34m)\u001b[0m\u001b[0;34m\u001b[0m\u001b[0;34m\u001b[0m\u001b[0m\n\u001b[0m\u001b[1;32m   1030\u001b[0m     \u001b[0;32mexcept\u001b[0m \u001b[0mcore\u001b[0m\u001b[0;34m.\u001b[0m\u001b[0m_NotOkStatusException\u001b[0m \u001b[0;32mas\u001b[0m \u001b[0me\u001b[0m\u001b[0;34m:\u001b[0m  \u001b[0;31m# pylint: disable=protected-access\u001b[0m\u001b[0;34m\u001b[0m\u001b[0;34m\u001b[0m\u001b[0m\n\u001b[1;32m   1031\u001b[0m       \u001b[0msix\u001b[0m\u001b[0;34m.\u001b[0m\u001b[0mraise_from\u001b[0m\u001b[0;34m(\u001b[0m\u001b[0mcore\u001b[0m\u001b[0;34m.\u001b[0m\u001b[0m_status_to_exception\u001b[0m\u001b[0;34m(\u001b[0m\u001b[0me\u001b[0m\u001b[0;34m.\u001b[0m\u001b[0mcode\u001b[0m\u001b[0;34m,\u001b[0m \u001b[0me\u001b[0m\u001b[0;34m.\u001b[0m\u001b[0mmessage\u001b[0m\u001b[0;34m)\u001b[0m\u001b[0;34m,\u001b[0m \u001b[0;32mNone\u001b[0m\u001b[0;34m)\u001b[0m  \u001b[0;31m# pylint: disable=protected-access\u001b[0m\u001b[0;34m\u001b[0m\u001b[0;34m\u001b[0m\u001b[0m\n",
            "\u001b[0;31mKeyboardInterrupt\u001b[0m: "
          ]
        }
      ]
    },
    {
      "cell_type": "markdown",
      "metadata": {
        "id": "4CkQBYJ3QtoO"
      },
      "source": [
        "**Make Zipfile to training for saving in google drive**"
      ]
    },
    {
      "cell_type": "code",
      "metadata": {
        "id": "Bt6BzQPkQ0WO",
        "outputId": "90027993-149b-48c3-d9ee-295b7b1d9eb9",
        "colab": {
          "base_uri": "https://localhost:8080/",
          "height": 252
        }
      },
      "source": [
        "!zip -r \"/content/drive/My Drive/Final Project/Dataset-Lab/Original/training/training.zip\" \"training_2\""
      ],
      "execution_count": 32,
      "outputs": [
        {
          "output_type": "stream",
          "text": [
            "  adding: training_2/ (stored 0%)\n",
            "  adding: training_2/cp-0002.ckpt.index (deflated 82%)\n",
            "  adding: training_2/cp-0004.ckpt.index (deflated 82%)\n",
            "  adding: training_2/cp-0050.ckpt.data-00000-of-00001 (deflated 12%)\n",
            "  adding: training_2/cp-0100.ckpt.index (deflated 82%)\n",
            "  adding: training_2/cp-0000.ckpt.data-00000-of-00001 (deflated 9%)\n",
            "  adding: training_2/cp-0004.ckpt.data-00000-of-00001 (deflated 23%)\n",
            "  adding: training_2/cp-0100.ckpt.data-00000-of-00001 (deflated 12%)\n",
            "  adding: training_2/cp-0000.ckpt.index (deflated 82%)\n",
            "  adding: training_2/cp-0150.ckpt.data-00000-of-00001 (deflated 13%)\n",
            "  adding: training_2/checkpoint (deflated 40%)\n",
            "  adding: training_2/cp-0050.ckpt.index (deflated 82%)\n",
            "  adding: training_2/cp-0150.ckpt.index (deflated 82%)\n",
            "  adding: training_2/cp-0002.ckpt.data-00000-of-00001 (deflated 23%)\n"
          ],
          "name": "stdout"
        }
      ]
    },
    {
      "cell_type": "markdown",
      "metadata": {
        "id": "k-V36n5jRASF"
      },
      "source": [
        "**Save model file .h5**"
      ]
    },
    {
      "cell_type": "code",
      "metadata": {
        "id": "IdQTZlRIri2_"
      },
      "source": [
        "!mkdir save_model\n",
        "model_resnet.save('save_model/model-resnet50(200epochs).h5') #ดูจำนวนรอบที่เทรนด้วยว่าทั้งหมดกี่รอบจริงๆเเล้ว"
      ],
      "execution_count": 23,
      "outputs": []
    },
    {
      "cell_type": "markdown",
      "metadata": {
        "id": "Kd8P6G590Pbd"
      },
      "source": [
        "**Save file json**"
      ]
    },
    {
      "cell_type": "code",
      "metadata": {
        "id": "W7WvXhX50JV8"
      },
      "source": [
        "#Import dependencies\n",
        "!mkdir jsonfile\n",
        "import json\n",
        "from keras.models import model_from_json, load_model\n",
        "with open('jsonfile/model_resnet.json', 'w') as f:\n",
        "    f.write(model.to_json())\n",
        "print(\"Saved model to disk\")"
      ],
      "execution_count": null,
      "outputs": []
    },
    {
      "cell_type": "markdown",
      "metadata": {
        "id": "g1aiyKj2Qruv"
      },
      "source": [
        "**Show graphs**"
      ]
    },
    {
      "cell_type": "code",
      "metadata": {
        "id": "3ShicU5HozNr",
        "outputId": "a360bdcd-a49c-455d-e9d2-bfe84d48150a",
        "colab": {
          "base_uri": "https://localhost:8080/",
          "height": 299
        }
      },
      "source": [
        "#กราฟเเม่นยำเเละ loss\n",
        "import matplotlib.pyplot as plt\n",
        "\n",
        "acc = model_resnet.history.history['accuracy']\n",
        "val_acc = model_resnet.history.history['val_accuracy']\n",
        "\n",
        "loss= model_resnet.history.history['loss']\n",
        "val_loss= model_resnet.history.history['val_loss']\n",
        "\n",
        "\n",
        "plt.style.use(\"ggplot\")\n",
        "#  \"Accuracy\"\n",
        "plt.figure(figsize=(15, 4))\n",
        "plt.subplot(1, 2, 1)\n",
        "plt.plot(acc, label='Training Accuracy')\n",
        "plt.plot(val_acc, label='Validation Accuracy')\n",
        "plt.legend(loc='lower right')\n",
        "plt.title('Training and Validation Accuracy')\n",
        "plt.ylabel('accuracy')\n",
        "plt.xlabel('epochs')\n",
        "#  \"Loss\"\n",
        "plt.subplot(1, 2, 2)\n",
        "plt.plot(loss, label='Training Loss')\n",
        "plt.plot(val_loss, label='Validation Loss')\n",
        "plt.legend(loc='upper right')\n",
        "plt.title('Training and Validation Loss')\n",
        "plt.ylabel('loss')\n",
        "plt.xlabel('epochs')\n",
        "plt.show()\n",
        "# plt.savefig('accandloss.png')"
      ],
      "execution_count": 12,
      "outputs": [
        {
          "output_type": "display_data",
          "data": {
            "image/png": "[encoded data removed]",
            "text/plain": [
              "<Figure size 1080x288 with 2 Axes>"
            ]
          },
          "metadata": {
            "tags": []
          }
        }
      ]
    },
    {
      "cell_type": "markdown",
      "metadata": {
        "id": "QOEs4ae2QqN6"
      },
      "source": [
        "**Check the checkpoints of model**"
      ]
    },
    {
      "cell_type": "code",
      "metadata": {
        "id": "X8OmBYwQDZG5",
        "outputId": "14f0b610-3f74-4a2a-9996-dcf65345ea85",
        "colab": {
          "base_uri": "https://localhost:8080/",
          "height": 35
        }
      },
      "source": [
        "latest = tf.train.latest_checkpoint(checkpoint_dir)\n",
        "latest"
      ],
      "execution_count": 14,
      "outputs": [
        {
          "output_type": "execute_result",
          "data": {
            "application/vnd.google.colaboratory.intrinsic+json": {
              "type": "string"
            },
            "text/plain": [
              "'training_2/cp-0150.ckpt'"
            ]
          },
          "metadata": {
            "tags": []
          },
          "execution_count": 14
        }
      ]
    },
    {
      "cell_type": "code",
      "metadata": {
        "id": "7mKTviqN3LN7",
        "outputId": "485baa85-c705-4c63-e1df-60c0902a28e1",
        "colab": {
          "base_uri": "https://localhost:8080/",
          "height": 50
        }
      },
      "source": [
        "# Load the previously saved weights\n",
        "model_resnet.load_weights(latest)\n",
        "\n",
        "# Re-evaluate the model\n",
        "loss, acc = model_resnet.evaluate(x,y, verbose=2)\n",
        "print(\"Restored model, accuracy: {:5.2f}%\".format(100*acc))"
      ],
      "execution_count": 19,
      "outputs": [
        {
          "output_type": "stream",
          "text": [
            "410/410 - 11s - loss: 1.4551 - accuracy: 0.8780\n",
            "Restored model, accuracy: 87.80%\n"
          ],
          "name": "stdout"
        }
      ]
    },
    {
      "cell_type": "code",
      "metadata": {
        "id": "tBAQHq_PKqXf",
        "outputId": "610e30c4-2456-45b4-c3cf-771c2660ada2",
        "colab": {
          "base_uri": "https://localhost:8080/",
          "height": 34
        }
      },
      "source": [
        "#สำหรับเช็คค่าของการเทส\n",
        "x,y = valid_generator.next()\n",
        "x.shape\n",
        "y.shape"
      ],
      "execution_count": 18,
      "outputs": [
        {
          "output_type": "execute_result",
          "data": {
            "text/plain": [
              "(1, 10)"
            ]
          },
          "metadata": {
            "tags": []
          },
          "execution_count": 18
        }
      ]
    },
    {
      "cell_type": "markdown",
      "metadata": {
        "id": "5pirGRSKQXjs"
      },
      "source": [
        "**Save the model**"
      ]
    },
    {
      "cell_type": "code",
      "metadata": {
        "id": "oVwXFxjDOM9p",
        "outputId": "7719dc98-46af-4c91-ecb6-9b2e5888c344",
        "colab": {
          "base_uri": "https://localhost:8080/",
          "height": 154
        }
      },
      "source": [
        "# Save the entire model as a SavedModel.\n",
        "model_resnet.save('saved_model/my_model') "
      ],
      "execution_count": 35,
      "outputs": [
        {
          "output_type": "stream",
          "text": [
            "WARNING:tensorflow:From /usr/local/lib/python3.6/dist-packages/tensorflow/python/training/tracking/tracking.py:111: Model.state_updates (from tensorflow.python.keras.engine.training) is deprecated and will be removed in a future version.\n",
            "Instructions for updating:\n",
            "This property should not be used in TensorFlow 2.0, as updates are applied automatically.\n",
            "WARNING:tensorflow:From /usr/local/lib/python3.6/dist-packages/tensorflow/python/training/tracking/tracking.py:111: Layer.updates (from tensorflow.python.keras.engine.base_layer) is deprecated and will be removed in a future version.\n",
            "Instructions for updating:\n",
            "This property should not be used in TensorFlow 2.0, as updates are applied automatically.\n",
            "INFO:tensorflow:Assets written to: saved_model/my_model/assets\n"
          ],
          "name": "stdout"
        }
      ]
    },
    {
      "cell_type": "code",
      "metadata": {
        "id": "vIVtmAhTObq0",
        "outputId": "e0508c1a-f3fd-4b90-c0e4-f34c7bcdbcf6",
        "colab": {
          "base_uri": "https://localhost:8080/",
          "height": 34
        }
      },
      "source": [
        "!ls saved_model/my_model"
      ],
      "execution_count": 36,
      "outputs": [
        {
          "output_type": "stream",
          "text": [
            "assets\tsaved_model.pb\tvariables\n"
          ],
          "name": "stdout"
        }
      ]
    },
    {
      "cell_type": "markdown",
      "metadata": {
        "id": "4zPv9OaCQQvy"
      },
      "source": [
        "**Convert file model .pb to tflite**"
      ]
    },
    {
      "cell_type": "code",
      "metadata": {
        "id": "K0Qdqqi6M6oP",
        "outputId": "baac8f80-9af4-4cb2-8aa8-1acf966fa286",
        "colab": {
          "base_uri": "https://localhost:8080/",
          "height": 50
        }
      },
      "source": [
        "model= tf.keras.models.load_model('saved_model/my_model')\n",
        "tflite_converter = tf.lite.TFLiteConverter.from_keras_model(model)\n",
        "tflite_model = tflite_converter.convert()\n",
        "open(\"tf_lite_model.tflite\", \"wb\").write(tflite_model) "
      ],
      "execution_count": 37,
      "outputs": [
        {
          "output_type": "stream",
          "text": [
            "INFO:tensorflow:Assets written to: /tmp/tmpwzetbf5g/assets\n"
          ],
          "name": "stdout"
        },
        {
          "output_type": "execute_result",
          "data": {
            "text/plain": [
              "507786404"
            ]
          },
          "metadata": {
            "tags": []
          },
          "execution_count": 37
        }
      ]
    },
    {
      "cell_type": "code",
      "metadata": {
        "id": "Pz4a1uw1at7N",
        "outputId": "90ca03a5-4c16-416e-b9d0-4dc967c0aa28",
        "colab": {
          "base_uri": "https://localhost:8080/",
          "height": 34
        }
      },
      "source": [
        "!mv \"tf_lite_model.tflite\" \"/content/drive/My Drive/Final Project/Dataset-Lab/Original/saved_model/tflite\"\n",
        "print(\"Success\")"
      ],
      "execution_count": 38,
      "outputs": [
        {
          "output_type": "stream",
          "text": [
            "Success\n"
          ],
          "name": "stdout"
        }
      ]
    },
    {
      "cell_type": "markdown",
      "metadata": {
        "id": "KJU_yzZjIXs9"
      },
      "source": [
        "**Prediction**"
      ]
    },
    {
      "cell_type": "code",
      "metadata": {
        "id": "x7-cf_o0TDU2"
      },
      "source": [
        "categories =  ['eilerd', 'fahthalinejol', 'horapa', 'krapao', 'lemon', 'magrud', 'plu', 'sabtiger', 'saranae', 'yanang']"
      ],
      "execution_count": 20,
      "outputs": []
    },
    {
      "cell_type": "code",
      "metadata": {
        "id": "dGn81xv-TKdM"
      },
      "source": [
        "model = model_resnet.load_weights('save_model/model-resnet50(200epochs).h5')"
      ],
      "execution_count": 24,
      "outputs": []
    },
    {
      "cell_type": "code",
      "metadata": {
        "id": "MhRkHrmHTuT7"
      },
      "source": [
        "loss, acc = model.evaluate(valid_generator, verbose=2)\n",
        "print('Restored model, accuracy: {:5.2f}%'.format(100*acc))"
      ],
      "execution_count": null,
      "outputs": []
    },
    {
      "cell_type": "code",
      "metadata": {
        "id": "r-DP6T28RK6q",
        "outputId": "1f52e31b-c59e-4d9e-e0bd-fb5e833b1c2d",
        "colab": {
          "base_uri": "https://localhost:8080/",
          "height": 352
        }
      },
      "source": [
        "import seaborn as sn\n",
        "import pandas as pd\n",
        "\n",
        "model = tf.keras.models.load_model('save_model/model-resnet50(200epochs).h5')\n",
        "filenames = valid_generator.filenames\n",
        "nb_samples = len(valid_generator)\n",
        "y_prob=[]\n",
        "y_act=[]\n",
        "valid_generator.reset()\n",
        "for _ in range(nb_samples):\n",
        "    x_test, y_test = valid_generator.next()\n",
        "    y_prob.append(model.predict(x_test))\n",
        "    y_act.append(y_test)\n",
        "    \n",
        "predicted_class = [list(train_generator.class_indices.keys())[i.argmax()] for i in y_prob]\n",
        "actual_class = [list(train_generator.class_indices.keys())[i.argmax()] for i in y_act]\n",
        "\n",
        "out_df = pd.DataFrame(np.vstack([predicted_class,actual_class]).T,columns=['predicted_class', 'actual_class'])\n",
        "confusion_matrix = pd.crosstab(out_df['actual_class'],out_df['predicted_class'], rownames=['Actual'], colnames=['Predicted'])\n",
        "\n",
        "sn.heatmap(confusion_matrix, cmap='Blues', annot= True, fmt='d')\n",
        "plt.show()\n",
        "print('test accuracy : {}'.format((np.diagonal(confusion_matrix).sum()/confusion_matrix.sum().sum()*100)))"
      ],
      "execution_count": 27,
      "outputs": [
        {
          "output_type": "display_data",
          "data": {
            "image/png": "[encoded data removed]",
            "text/plain": [
              "<Figure size 432x288 with 2 Axes>"
            ]
          },
          "metadata": {
            "tags": []
          }
        },
        {
          "output_type": "stream",
          "text": [
            "test accuracy : 87.8048780487805\n"
          ],
          "name": "stdout"
        }
      ]
    },
    {
      "cell_type": "markdown",
      "metadata": {
        "id": "fj2unvlyZYQZ"
      },
      "source": [
        "**เพิ่มเติมโอนย้ายไฟล์หลังจากเสร็จเเล้ว**"
      ]
    },
    {
      "cell_type": "code",
      "metadata": {
        "id": "qpUTyv7QS751"
      },
      "source": [
        "!mv \"save_model/model-resnet50(200epochs).h5\" \"/content/drive/My Drive/Final Project/Dataset-Lab/Original/saved_model\""
      ],
      "execution_count": 34,
      "outputs": []
    }
  ]
}